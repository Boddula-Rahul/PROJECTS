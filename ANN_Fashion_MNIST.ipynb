{
 "cells": [
  {
   "cell_type": "code",
   "execution_count": 1,
   "id": "c611090b-1f95-4333-8f13-3b099f375f4d",
   "metadata": {},
   "outputs": [],
   "source": [
    "import numpy as np"
   ]
  },
  {
   "cell_type": "code",
   "execution_count": 2,
   "id": "07caec24-8295-4b54-9713-c18802719a14",
   "metadata": {},
   "outputs": [],
   "source": [
    "import pandas as pd"
   ]
  },
  {
   "cell_type": "code",
   "execution_count": 3,
   "id": "0b42e0c3-0adc-4308-a690-16f057c32bc2",
   "metadata": {},
   "outputs": [],
   "source": [
    "import matplotlib.pyplot as plt "
   ]
  },
  {
   "cell_type": "code",
   "execution_count": 4,
   "id": "52107b2d-9891-4376-aaef-62c383e8d97a",
   "metadata": {},
   "outputs": [],
   "source": [
    "import tensorflow as tf"
   ]
  },
  {
   "cell_type": "code",
   "execution_count": 5,
   "id": "6efeae54-de87-46e2-9c91-a6dc7792ae2c",
   "metadata": {},
   "outputs": [],
   "source": [
    "from tensorflow.keras.datasets import fashion_mnist"
   ]
  },
  {
   "cell_type": "code",
   "execution_count": 8,
   "id": "a5ab53f7-b1de-4fc7-b205-cb52e92025ee",
   "metadata": {},
   "outputs": [],
   "source": [
    "results = [\"T-shirt\",\n",
    "           \"Trouser\", \n",
    "           \"Pullover\",\n",
    "           \"Dress\",\n",
    "           \"Coat\",\n",
    "           \"Sandals\",\n",
    "           \"Shirts\",\n",
    "           \"Sneakers\",\n",
    "           \"Bag\",\n",
    "           \"Ankle Books\"]"
   ]
  },
  {
   "cell_type": "code",
   "execution_count": 9,
   "id": "6b990c21-ab54-4b28-b852-a9a3d886278a",
   "metadata": {},
   "outputs": [
    {
     "data": {
      "text/plain": [
       "['T-shirt',\n",
       " 'Trouser',\n",
       " 'Pullover',\n",
       " 'Dress',\n",
       " 'Coat',\n",
       " 'Sandals',\n",
       " 'Shirts',\n",
       " 'Sneakers',\n",
       " 'Bag',\n",
       " 'Ankle Books']"
      ]
     },
     "execution_count": 9,
     "metadata": {},
     "output_type": "execute_result"
    }
   ],
   "source": [
    "results"
   ]
  },
  {
   "cell_type": "code",
   "execution_count": 10,
   "id": "be0ff05d-be45-4630-a948-a04592072741",
   "metadata": {},
   "outputs": [
    {
     "data": {
      "text/plain": [
       "'Coat'"
      ]
     },
     "execution_count": 10,
     "metadata": {},
     "output_type": "execute_result"
    }
   ],
   "source": [
    "results[4]"
   ]
  },
  {
   "cell_type": "code",
   "execution_count": 12,
   "id": "4cb6c95a-0026-4ecd-a484-5768a91313c5",
   "metadata": {},
   "outputs": [
    {
     "name": "stdout",
     "output_type": "stream",
     "text": [
      "Downloading data from https://storage.googleapis.com/tensorflow/tf-keras-datasets/train-labels-idx1-ubyte.gz\n",
      "\u001b[1m29515/29515\u001b[0m \u001b[32m━━━━━━━━━━━━━━━━━━━━\u001b[0m\u001b[37m\u001b[0m \u001b[1m0s\u001b[0m 1us/step\n",
      "Downloading data from https://storage.googleapis.com/tensorflow/tf-keras-datasets/train-images-idx3-ubyte.gz\n",
      "\u001b[1m26421880/26421880\u001b[0m \u001b[32m━━━━━━━━━━━━━━━━━━━━\u001b[0m\u001b[37m\u001b[0m \u001b[1m17s\u001b[0m 1us/step\n",
      "Downloading data from https://storage.googleapis.com/tensorflow/tf-keras-datasets/t10k-labels-idx1-ubyte.gz\n",
      "\u001b[1m5148/5148\u001b[0m \u001b[32m━━━━━━━━━━━━━━━━━━━━\u001b[0m\u001b[37m\u001b[0m \u001b[1m0s\u001b[0m 0us/step\n",
      "Downloading data from https://storage.googleapis.com/tensorflow/tf-keras-datasets/t10k-images-idx3-ubyte.gz\n",
      "\u001b[1m4422102/4422102\u001b[0m \u001b[32m━━━━━━━━━━━━━━━━━━━━\u001b[0m\u001b[37m\u001b[0m \u001b[1m2s\u001b[0m 0us/step\n"
     ]
    }
   ],
   "source": [
    "(X_train,y_train),(X_test,y_test) = fashion_mnist.load_data()"
   ]
  },
  {
   "cell_type": "code",
   "execution_count": 13,
   "id": "9c340fe4-bb75-4d4e-b5f7-063ba9e86591",
   "metadata": {},
   "outputs": [
    {
     "data": {
      "text/plain": [
       "(60000, 28, 28)"
      ]
     },
     "execution_count": 13,
     "metadata": {},
     "output_type": "execute_result"
    }
   ],
   "source": [
    "X_train.shape"
   ]
  },
  {
   "cell_type": "code",
   "execution_count": 15,
   "id": "bda9ed52-0af1-4f48-9162-d7f352b46692",
   "metadata": {},
   "outputs": [
    {
     "data": {
      "text/plain": [
       "(10000, 28, 28)"
      ]
     },
     "execution_count": 15,
     "metadata": {},
     "output_type": "execute_result"
    }
   ],
   "source": [
    "X_test.shape"
   ]
  },
  {
   "cell_type": "code",
   "execution_count": 16,
   "id": "89b2df6f-963d-49ac-949a-6f4e00e441cc",
   "metadata": {},
   "outputs": [
    {
     "data": {
      "text/plain": [
       "(60000,)"
      ]
     },
     "execution_count": 16,
     "metadata": {},
     "output_type": "execute_result"
    }
   ],
   "source": [
    "y_train.shape"
   ]
  },
  {
   "cell_type": "code",
   "execution_count": 18,
   "id": "949cd119-2861-4946-b76b-3d13d20e4ae7",
   "metadata": {},
   "outputs": [
    {
     "data": {
      "text/plain": [
       "(10000,)"
      ]
     },
     "execution_count": 18,
     "metadata": {},
     "output_type": "execute_result"
    }
   ],
   "source": [
    "y_test.shape"
   ]
  },
  {
   "cell_type": "code",
   "execution_count": 19,
   "id": "146394ba-041d-49f2-8021-37f6ef2f1c70",
   "metadata": {},
   "outputs": [
    {
     "data": {
      "text/plain": [
       "array([[  0,   0,   0,   0,   0,   0,   0,   0,   0,   0,   0,   0,   0,\n",
       "          0,   0,   0,   0,   0,   0,   0,   0,   0,   0,   0,   0,   0,\n",
       "          0,   0],\n",
       "       [  0,   0,   0,   0,   0,   0,   0,   0,   0,   0,   0,   0,   0,\n",
       "          0,   0,   0,   0,   0,   0,   0,   0,   0,   0,   0,   0,   0,\n",
       "          0,   0],\n",
       "       [  0,   0,   0,   0,   0,   0,   0,   0,   0,   0,   0,   0,   0,\n",
       "          0,   0,   0,   0,   0,   0,   0,   0,   0,   0,   0,   0,   0,\n",
       "          0,   0],\n",
       "       [  0,   0,   0,   0,   0,   0,   0,   0,   0,   0,   0,   0,   0,\n",
       "          0,   0,   0,   0,   0,   0,   0,   0,   0,   0,   0,   0,   0,\n",
       "          0,   0],\n",
       "       [  0,   0,   0,   0,   0,   0,   0,   0,   0,   0,   0,   1,   3,\n",
       "          5,   5,   5,   4,   0,   1, 107,   0,   0,   6,   0,   0,   2,\n",
       "          0,   0],\n",
       "       [  0,   0,   0,   0,   0,   0,   0,   0,   4,   3,   0,   0,   0,\n",
       "          0,   0,   0,   0,   0,   0, 175, 159,   0,   0,   3,   0,   0,\n",
       "          0,   0],\n",
       "       [  0,   0,   0,   0,   0,   0,   1,   0,   0,   0,   0,   0,   0,\n",
       "          0,   9,  19,  23,  21,   0,   0, 138, 131,   0,   0,   0,   0,\n",
       "          0,   0],\n",
       "       [  0,   0,   0,   0,   0,   2,   0,   0,  12, 124, 184, 225, 204,\n",
       "        205, 206, 209, 211, 255, 255, 201, 179, 206, 130,   0,   0,   2,\n",
       "          1,   1],\n",
       "       [  0,   0,   2,   4,   1,   0,   0, 133, 233, 230, 205, 183, 173,\n",
       "        166, 168, 171, 177, 181, 185, 192, 206, 219, 252, 153,   0,   0,\n",
       "          0,   0],\n",
       "       [  0,   0,   0,   0,   0,   0,  95, 254, 217, 207, 207, 211, 212,\n",
       "        209, 214, 220, 221, 223, 228, 220, 210, 205, 220, 247, 141,   0,\n",
       "          0,   0],\n",
       "       [  2,   0,  67,  92,   0,   0, 227, 226, 212, 221, 222, 213, 225,\n",
       "        232, 231, 230, 224, 224, 226, 217, 218, 222, 211, 227, 233, 183,\n",
       "          0,  89],\n",
       "       [  8,   0,  25, 237,   0, 130, 249, 193, 202, 217, 221, 213, 218,\n",
       "        222, 222, 225, 227, 230, 223, 208, 206, 210, 212, 214, 222, 195,\n",
       "        209, 173],\n",
       "       [  4,   0,   0, 203,  59, 212, 235, 205, 212, 212, 216, 220, 223,\n",
       "        222, 230, 228, 229, 222, 224, 224, 222, 218, 218, 211, 226, 186,\n",
       "        184,  80],\n",
       "       [  0,   0,  26, 151, 209, 231, 230, 206, 206, 208, 215, 225, 230,\n",
       "        231, 228, 196, 238, 236, 235, 235, 234, 235, 235, 227, 215, 220,\n",
       "        230,   0],\n",
       "       [  0,   7, 118,  20, 227, 242, 218, 193, 212, 209, 215, 222, 226,\n",
       "        230, 234, 224, 232, 225, 227, 227, 227, 229, 228, 229, 219, 237,\n",
       "        224,   0],\n",
       "       [ 64, 136, 244,   0, 245, 243, 211, 194, 215, 216, 220, 226, 231,\n",
       "        231, 229, 232, 225, 226, 228, 227, 226, 226, 230, 228, 223, 240,\n",
       "        234,   0],\n",
       "       [170, 141,  21, 151, 245, 238, 230, 200, 206, 208, 217, 225, 230,\n",
       "        227, 229, 230, 230, 228, 229, 229, 229, 226, 228, 229, 219, 229,\n",
       "        216,   0],\n",
       "       [ 69, 255, 189, 170, 237, 240, 219, 196, 207, 208, 217, 225, 229,\n",
       "        231, 230, 230, 229, 228, 229, 230, 230, 228, 227, 231, 229, 240,\n",
       "        219,   0],\n",
       "       [  0, 205, 255, 182, 222, 243, 222, 206, 205, 206, 216, 225, 230,\n",
       "        233, 231, 228, 229, 229, 229, 229, 227, 227, 223, 220, 217, 233,\n",
       "        220,   0],\n",
       "       [  0,  24, 227, 146, 238, 230, 221, 218, 205, 206, 217, 225, 231,\n",
       "        231, 231, 232, 230, 229, 231, 230, 228, 228, 219, 212, 202, 233,\n",
       "        208,   0],\n",
       "       [  0,   0, 153, 222, 225, 220, 220, 225, 223, 222, 225, 227, 227,\n",
       "        224, 230, 236, 233, 230, 233, 232, 230, 228, 223, 225, 211, 243,\n",
       "        148,   0],\n",
       "       [  0,   0, 152, 252, 225, 232, 233, 233, 235, 236, 236, 236, 237,\n",
       "        225, 233, 243, 240, 237, 238, 236, 233, 231, 229, 228, 212, 252,\n",
       "         56,   0],\n",
       "       [  3,   0, 146, 237, 219, 226, 221, 222, 222, 222, 223, 224, 225,\n",
       "        224, 222, 228, 227, 225, 225, 226, 228, 228, 231, 231, 250, 189,\n",
       "          0,   0],\n",
       "       [  3,   0, 172, 255, 236, 255, 255, 255, 255, 255, 255, 255, 255,\n",
       "        255, 255, 255, 255, 255, 255, 255, 241, 242, 225, 204, 185,   6,\n",
       "          0,   0],\n",
       "       [  0,   0,  54, 157, 157, 156, 157, 156, 158, 161, 161, 161, 163,\n",
       "        158, 126,  96,  91,  83,  72,  67,  57,  69,   8,   0,   0,   0,\n",
       "          0,   0],\n",
       "       [  0,   0,   0,   0,   0,   0,   0,   0,   0,   0,   0,   0,   0,\n",
       "          0,   0,   0,   0,   0,   0,   0,   0,   0,   0,   0,   0,   0,\n",
       "          0,   0],\n",
       "       [  0,   0,   0,   0,   0,   0,   0,   0,   0,   0,   0,   0,   0,\n",
       "          0,   0,   0,   0,   0,   0,   0,   0,   0,   0,   0,   0,   0,\n",
       "          0,   0],\n",
       "       [  0,   0,   0,   0,   0,   0,   0,   0,   0,   0,   0,   0,   0,\n",
       "          0,   0,   0,   0,   0,   0,   0,   0,   0,   0,   0,   0,   0,\n",
       "          0,   0]], dtype=uint8)"
      ]
     },
     "execution_count": 19,
     "metadata": {},
     "output_type": "execute_result"
    }
   ],
   "source": [
    "X_train[1015]"
   ]
  },
  {
   "cell_type": "code",
   "execution_count": 20,
   "id": "de976459-f872-45d4-a375-3e179a8abc97",
   "metadata": {},
   "outputs": [
    {
     "data": {
      "text/plain": [
       "<matplotlib.image.AxesImage at 0x14b6ba3d520>"
      ]
     },
     "execution_count": 20,
     "metadata": {},
     "output_type": "execute_result"
    },
    {
     "data": {
      "image/png": "[encoded data removed]",
      "text/plain": [
       "<Figure size 640x480 with 1 Axes>"
      ]
     },
     "metadata": {},
     "output_type": "display_data"
    }
   ],
   "source": [
    "plt.imshow(X_train[1015])"
   ]
  },
  {
   "cell_type": "code",
   "execution_count": 21,
   "id": "0c62c61e-1eec-48d5-afee-e119c97c510b",
   "metadata": {},
   "outputs": [
    {
     "data": {
      "text/plain": [
       "8"
      ]
     },
     "execution_count": 21,
     "metadata": {},
     "output_type": "execute_result"
    }
   ],
   "source": [
    "y_train[1015]"
   ]
  },
  {
   "cell_type": "code",
   "execution_count": 22,
   "id": "dd5f609a-d238-4e76-957c-9cede68dcbee",
   "metadata": {},
   "outputs": [
    {
     "data": {
      "text/plain": [
       "'Bag'"
      ]
     },
     "execution_count": 22,
     "metadata": {},
     "output_type": "execute_result"
    }
   ],
   "source": [
    "results[8]"
   ]
  },
  {
   "cell_type": "code",
   "execution_count": 23,
   "id": "105d36e5-047c-460e-9641-931aaf448725",
   "metadata": {},
   "outputs": [
    {
     "data": {
      "text/plain": [
       "array([[  0,   0,   0,   0,   0,   0,   0,   0,   0,   0,   0,   0,   0,\n",
       "          0,   0,   0,   0,   0,   0,   0,   0,   0,   0,   0,   0,   0,\n",
       "          0,   0],\n",
       "       [  0,   0,   0,   0,   0,   0,   0,   0,   0,   0,   0,   0,   0,\n",
       "          0,   0,   0,   0,   0,   0,   0,   0,   0,   0,   0,   0,   0,\n",
       "          0,   0],\n",
       "       [  0,   0,   0,   0,   0,   0,   0,   0,   0,   0,   0,   0,   0,\n",
       "          0,   0,   0,   0,   0,   0,   0,   0,   0,   0,   0,   0,   0,\n",
       "          0,   0],\n",
       "       [  0,   0,   0,   0,   0,   0,   0,   0,   0,   0,   0,   0,   0,\n",
       "          0,   0,   0,   0,   0,   0,   0,   0,   0,   0,   0,   0,   0,\n",
       "          0,   0],\n",
       "       [  0,   0,   0,   0,   0,   0,   0,   0,   0,   0,   0,   0,   0,\n",
       "          0,   0,   0,   0,   0,   0,   0,   0,   0,   0,   0,   0,   0,\n",
       "          0,   0],\n",
       "       [  0,   0,   0,   0,   0,   0,   0,   0,   0,   0,   0,   0,   0,\n",
       "          0,   0,   0,   0,   0,   0,   0,   0,   0,   0,   0,   0,   0,\n",
       "          0,   0],\n",
       "       [  0,   0,   0,   0,   0,   0,   0,   0,   0,   0,   0,   0,   0,\n",
       "          0,   0,   0,   0,   0,   0,   0,   0,   0,   0,   0,   0,   0,\n",
       "          0,   0],\n",
       "       [  0,   0,   0,   0,   0,   0,   0,   0,   0,   0,   0,   0,   0,\n",
       "          0,   0,   0,   0,   0,   0,   0,   0,   0,   0,   0,   0,   0,\n",
       "          0,   0],\n",
       "       [  0,   0,   0,   0,   0,   0,   0,   0,   0,   0,   0,   0,   0,\n",
       "          0,   0,   0,   0,  98,  18,   0,   1,   1,   0,   0,   0,   0,\n",
       "          0,   0],\n",
       "       [  0,   0,   0,   0,   0,   0,   0,   0,   0,   1,   0,   0,   0,\n",
       "          0,   0,   5, 133, 200, 207,   0,   0,   1,   0,   0,   0,   0,\n",
       "          4,   2],\n",
       "       [  0,   0,   0,   0,   0,   0,   0,   0,   0,   0,   0,   1,   0,\n",
       "          0,  19, 254, 165, 115, 153,  32,   0,   2,   0,   0,   0,   0,\n",
       "          0,   0],\n",
       "       [  0,   0,   0,   0,   1,   0,   0,   0,   0,   2,   0,   0,   0,\n",
       "        108, 230, 141,  84,  71, 155, 126,   0,   0,   2,   7,   0,   0,\n",
       "         89,  54],\n",
       "       [  0,   0,   0,   0,   0,   2,   5,   0,   2,   0,   0,  76, 158,\n",
       "        157, 110, 132, 192, 244, 212, 220,  97,   0,   0,   0,   0,  14,\n",
       "        226,  98],\n",
       "       [  1,   4,   5,   2,   0,   0,   0,   0,   0,  36, 105, 172, 137,\n",
       "        146, 200, 231, 192, 171, 204, 212, 216, 177,  89,  92, 153, 169,\n",
       "        180, 108],\n",
       "       [  0,   0,   0,   0,   0,   0,  37, 101, 158, 209, 178, 152, 191,\n",
       "        193, 182, 177, 182, 177, 203, 205, 222, 223, 224, 224, 232, 229,\n",
       "        237, 170],\n",
       "       [  0,  59, 121, 125, 145, 163, 169, 166, 170, 159, 175, 192, 206,\n",
       "        206, 205, 210, 203, 197, 205, 192, 209, 219, 220, 216, 217, 212,\n",
       "        220, 165],\n",
       "       [  0,  61, 111, 145, 168, 179, 176, 175, 179, 177, 186, 188, 199,\n",
       "        211, 213, 220, 222, 219, 230, 233, 232, 230, 229, 224, 227, 225,\n",
       "        233, 177],\n",
       "       [  9,   1,   0,   0,   0,   0,  22,  59,  78, 110, 135, 151, 170,\n",
       "        156, 137, 144, 141, 136, 138, 136, 135, 135, 126, 129, 129, 109,\n",
       "        115,  56],\n",
       "       [  0,  15,  45,  59,  45,  14,   0,   0,   0,   0,   0,   0,   0,\n",
       "          0,   0,   0,   0,   0,   0,   0,   0,   0,   0,   0,   0,   0,\n",
       "          0,   0],\n",
       "       [  0,   0,   0,   1,  32,  37,  42,  51,  44,  30,  30,  30,  37,\n",
       "         43,  35,  28,  29,  28,  12,  19,  30,  35,  41,  43,  43,  38,\n",
       "         35,   8],\n",
       "       [  0,   0,   0,   0,   0,   0,   0,   0,   0,   0,   0,   0,   0,\n",
       "          0,   0,   0,   0,   0,   0,   0,   0,   0,   0,   0,   0,   0,\n",
       "          0,   0],\n",
       "       [  0,   0,   0,   0,   0,   0,   0,   0,   0,   0,   0,   0,   0,\n",
       "          0,   0,   0,   0,   0,   0,   0,   0,   0,   0,   0,   0,   0,\n",
       "          0,   0],\n",
       "       [  0,   0,   0,   0,   0,   0,   0,   0,   0,   0,   0,   0,   0,\n",
       "          0,   0,   0,   0,   0,   0,   0,   0,   0,   0,   0,   0,   0,\n",
       "          0,   0],\n",
       "       [  0,   0,   0,   0,   0,   0,   0,   0,   0,   0,   0,   0,   0,\n",
       "          0,   0,   0,   0,   0,   0,   0,   0,   0,   0,   0,   0,   0,\n",
       "          0,   0],\n",
       "       [  0,   0,   0,   0,   0,   0,   0,   0,   0,   0,   0,   0,   0,\n",
       "          0,   0,   0,   0,   0,   0,   0,   0,   0,   0,   0,   0,   0,\n",
       "          0,   0],\n",
       "       [  0,   0,   0,   0,   0,   0,   0,   0,   0,   0,   0,   0,   0,\n",
       "          0,   0,   0,   0,   0,   0,   0,   0,   0,   0,   0,   0,   0,\n",
       "          0,   0],\n",
       "       [  0,   0,   0,   0,   0,   0,   0,   0,   0,   0,   0,   0,   0,\n",
       "          0,   0,   0,   0,   0,   0,   0,   0,   0,   0,   0,   0,   0,\n",
       "          0,   0],\n",
       "       [  0,   0,   0,   0,   0,   0,   0,   0,   0,   0,   0,   0,   0,\n",
       "          0,   0,   0,   0,   0,   0,   0,   0,   0,   0,   0,   0,   0,\n",
       "          0,   0]], dtype=uint8)"
      ]
     },
     "execution_count": 23,
     "metadata": {},
     "output_type": "execute_result"
    }
   ],
   "source": [
    "X_test[2122]"
   ]
  },
  {
   "cell_type": "code",
   "execution_count": 24,
   "id": "1d51c90b-6f7c-4c47-8adb-edd715349344",
   "metadata": {},
   "outputs": [
    {
     "data": {
      "text/plain": [
       "<matplotlib.image.AxesImage at 0x14b71ea7a10>"
      ]
     },
     "execution_count": 24,
     "metadata": {},
     "output_type": "execute_result"
    },
    {
     "data": {
      "image/png": "[encoded data removed]",
      "text/plain": [
       "<Figure size 640x480 with 1 Axes>"
      ]
     },
     "metadata": {},
     "output_type": "display_data"
    }
   ],
   "source": [
    "plt.imshow(X_test[2122])"
   ]
  },
  {
   "cell_type": "code",
   "execution_count": 25,
   "id": "43d4f3ac-2102-49b5-a286-0d7633ebc929",
   "metadata": {},
   "outputs": [
    {
     "data": {
      "text/plain": [
       "7"
      ]
     },
     "execution_count": 25,
     "metadata": {},
     "output_type": "execute_result"
    }
   ],
   "source": [
    "y_test[2122]"
   ]
  },
  {
   "cell_type": "code",
   "execution_count": 26,
   "id": "a24a5770-7dc2-4f49-8d06-c8eb77a27ada",
   "metadata": {},
   "outputs": [
    {
     "data": {
      "text/plain": [
       "'Sneakers'"
      ]
     },
     "execution_count": 26,
     "metadata": {},
     "output_type": "execute_result"
    }
   ],
   "source": [
    "results[7]"
   ]
  },
  {
   "cell_type": "code",
   "execution_count": 27,
   "id": "89460af0-84fd-4712-8d62-5e91481e533f",
   "metadata": {},
   "outputs": [
    {
     "data": {
      "text/plain": [
       "(60000, 28, 28)"
      ]
     },
     "execution_count": 27,
     "metadata": {},
     "output_type": "execute_result"
    }
   ],
   "source": [
    "X_train.shape"
   ]
  },
  {
   "cell_type": "markdown",
   "id": "569cc8cf-855b-4aaf-86b7-e312a4335415",
   "metadata": {},
   "source": [
    "### Scaling"
   ]
  },
  {
   "cell_type": "code",
   "execution_count": 28,
   "id": "eae0f83c-a178-4c27-8f08-db4cc1a70a0a",
   "metadata": {},
   "outputs": [],
   "source": [
    "X_train_scale = X_train/250.0"
   ]
  },
  {
   "cell_type": "code",
   "execution_count": 29,
   "id": "06683887-1064-40e8-99ab-8cf0f1d9121e",
   "metadata": {},
   "outputs": [],
   "source": [
    "X_test_scale = X_test/250.0"
   ]
  },
  {
   "cell_type": "code",
   "execution_count": 30,
   "id": "3c1f116a-c423-4711-8d4e-06f25a56c459",
   "metadata": {},
   "outputs": [
    {
     "data": {
      "text/plain": [
       "255"
      ]
     },
     "execution_count": 30,
     "metadata": {},
     "output_type": "execute_result"
    }
   ],
   "source": [
    "X_train.max()"
   ]
  },
  {
   "cell_type": "code",
   "execution_count": 31,
   "id": "0e882b03-a4f2-4be6-8a44-bbac3022b3b5",
   "metadata": {},
   "outputs": [
    {
     "data": {
      "text/plain": [
       "1.02"
      ]
     },
     "execution_count": 31,
     "metadata": {},
     "output_type": "execute_result"
    }
   ],
   "source": [
    "X_train_scale.max()"
   ]
  },
  {
   "cell_type": "code",
   "execution_count": 32,
   "id": "05170a39-c933-4ae0-b25a-289548d6b559",
   "metadata": {},
   "outputs": [
    {
     "data": {
      "text/plain": [
       "0"
      ]
     },
     "execution_count": 32,
     "metadata": {},
     "output_type": "execute_result"
    }
   ],
   "source": [
    "X_train.min()"
   ]
  },
  {
   "cell_type": "code",
   "execution_count": 33,
   "id": "2a532a8b-f847-4f3a-8b17-f4533c5b15d1",
   "metadata": {},
   "outputs": [
    {
     "data": {
      "text/plain": [
       "0.0"
      ]
     },
     "execution_count": 33,
     "metadata": {},
     "output_type": "execute_result"
    }
   ],
   "source": [
    "X_train_scale.min()"
   ]
  },
  {
   "cell_type": "code",
   "execution_count": 34,
   "id": "eb5706ed-f75e-46d0-a22b-dc94a68cb73f",
   "metadata": {},
   "outputs": [
    {
     "data": {
      "text/plain": [
       "<matplotlib.image.AxesImage at 0x14b727486b0>"
      ]
     },
     "execution_count": 34,
     "metadata": {},
     "output_type": "execute_result"
    },
    {
     "data": {
      "image/png": "[encoded data removed]",
      "text/plain": [
       "<Figure size 640x480 with 1 Axes>"
      ]
     },
     "metadata": {},
     "output_type": "display_data"
    }
   ],
   "source": [
    "plt.imshow(X_train[2108])"
   ]
  },
  {
   "cell_type": "code",
   "execution_count": 35,
   "id": "9aa3913d-513b-4a26-b8a6-e8e77c33dafe",
   "metadata": {},
   "outputs": [
    {
     "data": {
      "text/plain": [
       "<matplotlib.image.AxesImage at 0x14b6ba4ab10>"
      ]
     },
     "execution_count": 35,
     "metadata": {},
     "output_type": "execute_result"
    },
    {
     "data": {
      "image/png": "[encoded data removed]",
      "text/plain": [
       "<Figure size 640x480 with 1 Axes>"
      ]
     },
     "metadata": {},
     "output_type": "display_data"
    }
   ],
   "source": [
    "plt.imshow(X_train_scale[2108])"
   ]
  },
  {
   "cell_type": "code",
   "execution_count": 36,
   "id": "1a09e974-1df2-49a1-9b9d-2b3190ffa719",
   "metadata": {},
   "outputs": [],
   "source": [
    "from tensorflow.keras.models import Model"
   ]
  },
  {
   "cell_type": "code",
   "execution_count": 38,
   "id": "7ded976a-c89d-44ee-bbc3-feb7fe6a1475",
   "metadata": {},
   "outputs": [],
   "source": [
    "from tensorflow.keras.layers import Flatten,Dense,Input"
   ]
  },
  {
   "cell_type": "code",
   "execution_count": 39,
   "id": "e2d101e9-3f5d-45ca-919b-d6b13041b71e",
   "metadata": {},
   "outputs": [],
   "source": [
    "inp = Input(shape = (28,28))"
   ]
  },
  {
   "cell_type": "code",
   "execution_count": 40,
   "id": "6a337920-0b7e-4832-97b8-d87c3e879289",
   "metadata": {},
   "outputs": [],
   "source": [
    "flat = Flatten()(inp)"
   ]
  },
  {
   "cell_type": "code",
   "execution_count": 41,
   "id": "212e04c2-7b26-4175-8a63-d14b29bc046c",
   "metadata": {},
   "outputs": [],
   "source": [
    "den1 = Dense(256, activation = \"relu\")(flat)"
   ]
  },
  {
   "cell_type": "code",
   "execution_count": 42,
   "id": "8630c131-3f8c-43be-9601-06f0e8a2fd13",
   "metadata": {},
   "outputs": [],
   "source": [
    "den2 = Dense(512, activation = \"relu\")(den1)"
   ]
  },
  {
   "cell_type": "code",
   "execution_count": 43,
   "id": "4e3113be-6287-4c75-bf31-4f443e8df3c8",
   "metadata": {},
   "outputs": [],
   "source": [
    "den3 = Dense(256, activation = \"relu\")(den2)"
   ]
  },
  {
   "cell_type": "code",
   "execution_count": 44,
   "id": "dd510978-cf93-43c7-8f7b-bb811fbeea7d",
   "metadata": {},
   "outputs": [],
   "source": [
    "out = Dense(10, activation = \"softmax\")(den3)"
   ]
  },
  {
   "cell_type": "code",
   "execution_count": 45,
   "id": "ffd5cac7-213b-4ca4-a337-1f2f428de7ab",
   "metadata": {},
   "outputs": [],
   "source": [
    "fmodel = Model(inputs = inp, outputs = out)"
   ]
  },
  {
   "cell_type": "code",
   "execution_count": 47,
   "id": "be555359-e1a8-4ceb-9b7f-982e3f6eab96",
   "metadata": {},
   "outputs": [
    {
     "data": {
      "text/html": [
       "<pre style=\"white-space:pre;overflow-x:auto;line-height:normal;font-family:Menlo,'DejaVu Sans Mono',consolas,'Courier New',monospace\"><span style=\"font-weight: bold\">Model: \"functional\"</span>\n",
       "</pre>\n"
      ],
      "text/plain": [
       "\u001b[1mModel: \"functional\"\u001b[0m\n"
      ]
     },
     "metadata": {},
     "output_type": "display_data"
    },
    {
     "data": {
      "text/html": [
       "<pre style=\"white-space:pre;overflow-x:auto;line-height:normal;font-family:Menlo,'DejaVu Sans Mono',consolas,'Courier New',monospace\">┏━━━━━━━━━━━━━━━━━━━━━━━━━━━━━━━━━━━━━━┳━━━━━━━━━━━━━━━━━━━━━━━━━━━━━┳━━━━━━━━━━━━━━━━━┓\n",
       "┃<span style=\"font-weight: bold\"> Layer (type)                         </span>┃<span style=\"font-weight: bold\"> Output Shape                </span>┃<span style=\"font-weight: bold\">         Param # </span>┃\n",
       "┡━━━━━━━━━━━━━━━━━━━━━━━━━━━━━━━━━━━━━━╇━━━━━━━━━━━━━━━━━━━━━━━━━━━━━╇━━━━━━━━━━━━━━━━━┩\n",
       "│ input_layer (<span style=\"color: #0087ff; text-decoration-color: #0087ff\">InputLayer</span>)             │ (<span style=\"color: #00d7ff; text-decoration-color: #00d7ff\">None</span>, <span style=\"color: #00af00; text-decoration-color: #00af00\">28</span>, <span style=\"color: #00af00; text-decoration-color: #00af00\">28</span>)              │               <span style=\"color: #00af00; text-decoration-color: #00af00\">0</span> │\n",
       "├──────────────────────────────────────┼─────────────────────────────┼─────────────────┤\n",
       "│ flatten (<span style=\"color: #0087ff; text-decoration-color: #0087ff\">Flatten</span>)                    │ (<span style=\"color: #00d7ff; text-decoration-color: #00d7ff\">None</span>, <span style=\"color: #00af00; text-decoration-color: #00af00\">784</span>)                 │               <span style=\"color: #00af00; text-decoration-color: #00af00\">0</span> │\n",
       "├──────────────────────────────────────┼─────────────────────────────┼─────────────────┤\n",
       "│ dense (<span style=\"color: #0087ff; text-decoration-color: #0087ff\">Dense</span>)                        │ (<span style=\"color: #00d7ff; text-decoration-color: #00d7ff\">None</span>, <span style=\"color: #00af00; text-decoration-color: #00af00\">256</span>)                 │         <span style=\"color: #00af00; text-decoration-color: #00af00\">200,960</span> │\n",
       "├──────────────────────────────────────┼─────────────────────────────┼─────────────────┤\n",
       "│ dense_1 (<span style=\"color: #0087ff; text-decoration-color: #0087ff\">Dense</span>)                      │ (<span style=\"color: #00d7ff; text-decoration-color: #00d7ff\">None</span>, <span style=\"color: #00af00; text-decoration-color: #00af00\">512</span>)                 │         <span style=\"color: #00af00; text-decoration-color: #00af00\">131,584</span> │\n",
       "├──────────────────────────────────────┼─────────────────────────────┼─────────────────┤\n",
       "│ dense_2 (<span style=\"color: #0087ff; text-decoration-color: #0087ff\">Dense</span>)                      │ (<span style=\"color: #00d7ff; text-decoration-color: #00d7ff\">None</span>, <span style=\"color: #00af00; text-decoration-color: #00af00\">256</span>)                 │         <span style=\"color: #00af00; text-decoration-color: #00af00\">131,328</span> │\n",
       "├──────────────────────────────────────┼─────────────────────────────┼─────────────────┤\n",
       "│ dense_3 (<span style=\"color: #0087ff; text-decoration-color: #0087ff\">Dense</span>)                      │ (<span style=\"color: #00d7ff; text-decoration-color: #00d7ff\">None</span>, <span style=\"color: #00af00; text-decoration-color: #00af00\">10</span>)                  │           <span style=\"color: #00af00; text-decoration-color: #00af00\">2,570</span> │\n",
       "└──────────────────────────────────────┴─────────────────────────────┴─────────────────┘\n",
       "</pre>\n"
      ],
      "text/plain": [
       "┏━━━━━━━━━━━━━━━━━━━━━━━━━━━━━━━━━━━━━━┳━━━━━━━━━━━━━━━━━━━━━━━━━━━━━┳━━━━━━━━━━━━━━━━━┓\n",
       "┃\u001b[1m \u001b[0m\u001b[1mLayer (type)                        \u001b[0m\u001b[1m \u001b[0m┃\u001b[1m \u001b[0m\u001b[1mOutput Shape               \u001b[0m\u001b[1m \u001b[0m┃\u001b[1m \u001b[0m\u001b[1m        Param #\u001b[0m\u001b[1m \u001b[0m┃\n",
       "┡━━━━━━━━━━━━━━━━━━━━━━━━━━━━━━━━━━━━━━╇━━━━━━━━━━━━━━━━━━━━━━━━━━━━━╇━━━━━━━━━━━━━━━━━┩\n",
       "│ input_layer (\u001b[38;5;33mInputLayer\u001b[0m)             │ (\u001b[38;5;45mNone\u001b[0m, \u001b[38;5;34m28\u001b[0m, \u001b[38;5;34m28\u001b[0m)              │               \u001b[38;5;34m0\u001b[0m │\n",
       "├──────────────────────────────────────┼─────────────────────────────┼─────────────────┤\n",
       "│ flatten (\u001b[38;5;33mFlatten\u001b[0m)                    │ (\u001b[38;5;45mNone\u001b[0m, \u001b[38;5;34m784\u001b[0m)                 │               \u001b[38;5;34m0\u001b[0m │\n",
       "├──────────────────────────────────────┼─────────────────────────────┼─────────────────┤\n",
       "│ dense (\u001b[38;5;33mDense\u001b[0m)                        │ (\u001b[38;5;45mNone\u001b[0m, \u001b[38;5;34m256\u001b[0m)                 │         \u001b[38;5;34m200,960\u001b[0m │\n",
       "├──────────────────────────────────────┼─────────────────────────────┼─────────────────┤\n",
       "│ dense_1 (\u001b[38;5;33mDense\u001b[0m)                      │ (\u001b[38;5;45mNone\u001b[0m, \u001b[38;5;34m512\u001b[0m)                 │         \u001b[38;5;34m131,584\u001b[0m │\n",
       "├──────────────────────────────────────┼─────────────────────────────┼─────────────────┤\n",
       "│ dense_2 (\u001b[38;5;33mDense\u001b[0m)                      │ (\u001b[38;5;45mNone\u001b[0m, \u001b[38;5;34m256\u001b[0m)                 │         \u001b[38;5;34m131,328\u001b[0m │\n",
       "├──────────────────────────────────────┼─────────────────────────────┼─────────────────┤\n",
       "│ dense_3 (\u001b[38;5;33mDense\u001b[0m)                      │ (\u001b[38;5;45mNone\u001b[0m, \u001b[38;5;34m10\u001b[0m)                  │           \u001b[38;5;34m2,570\u001b[0m │\n",
       "└──────────────────────────────────────┴─────────────────────────────┴─────────────────┘\n"
      ]
     },
     "metadata": {},
     "output_type": "display_data"
    },
    {
     "data": {
      "text/html": [
       "<pre style=\"white-space:pre;overflow-x:auto;line-height:normal;font-family:Menlo,'DejaVu Sans Mono',consolas,'Courier New',monospace\"><span style=\"font-weight: bold\"> Total params: </span><span style=\"color: #00af00; text-decoration-color: #00af00\">466,442</span> (1.78 MB)\n",
       "</pre>\n"
      ],
      "text/plain": [
       "\u001b[1m Total params: \u001b[0m\u001b[38;5;34m466,442\u001b[0m (1.78 MB)\n"
      ]
     },
     "metadata": {},
     "output_type": "display_data"
    },
    {
     "data": {
      "text/html": [
       "<pre style=\"white-space:pre;overflow-x:auto;line-height:normal;font-family:Menlo,'DejaVu Sans Mono',consolas,'Courier New',monospace\"><span style=\"font-weight: bold\"> Trainable params: </span><span style=\"color: #00af00; text-decoration-color: #00af00\">466,442</span> (1.78 MB)\n",
       "</pre>\n"
      ],
      "text/plain": [
       "\u001b[1m Trainable params: \u001b[0m\u001b[38;5;34m466,442\u001b[0m (1.78 MB)\n"
      ]
     },
     "metadata": {},
     "output_type": "display_data"
    },
    {
     "data": {
      "text/html": [
       "<pre style=\"white-space:pre;overflow-x:auto;line-height:normal;font-family:Menlo,'DejaVu Sans Mono',consolas,'Courier New',monospace\"><span style=\"font-weight: bold\"> Non-trainable params: </span><span style=\"color: #00af00; text-decoration-color: #00af00\">0</span> (0.00 B)\n",
       "</pre>\n"
      ],
      "text/plain": [
       "\u001b[1m Non-trainable params: \u001b[0m\u001b[38;5;34m0\u001b[0m (0.00 B)\n"
      ]
     },
     "metadata": {},
     "output_type": "display_data"
    }
   ],
   "source": [
    "fmodel.summary()"
   ]
  },
  {
   "cell_type": "code",
   "execution_count": 48,
   "id": "8d62dc67-5c18-4bb1-a410-7a9b169878db",
   "metadata": {},
   "outputs": [],
   "source": [
    "fmodel.compile(optimizer = \"adam\",\n",
    "              loss = \"sparse_categorical_crossentropy\",\n",
    "              metrics = [\"accuracy\"])"
   ]
  },
  {
   "cell_type": "code",
   "execution_count": 49,
   "id": "b063df0c-217c-42ca-998d-f9d34fd0dc3a",
   "metadata": {},
   "outputs": [
    {
     "name": "stdout",
     "output_type": "stream",
     "text": [
      "Epoch 1/20\n",
      "\u001b[1m1875/1875\u001b[0m \u001b[32m━━━━━━━━━━━━━━━━━━━━\u001b[0m\u001b[37m\u001b[0m \u001b[1m25s\u001b[0m 11ms/step - accuracy: 0.7874 - loss: 0.5933\n",
      "Epoch 2/20\n",
      "\u001b[1m1875/1875\u001b[0m \u001b[32m━━━━━━━━━━━━━━━━━━━━\u001b[0m\u001b[37m\u001b[0m \u001b[1m20s\u001b[0m 11ms/step - accuracy: 0.8672 - loss: 0.3668\n",
      "Epoch 3/20\n",
      "\u001b[1m1875/1875\u001b[0m \u001b[32m━━━━━━━━━━━━━━━━━━━━\u001b[0m\u001b[37m\u001b[0m \u001b[1m21s\u001b[0m 11ms/step - accuracy: 0.8789 - loss: 0.3250\n",
      "Epoch 4/20\n",
      "\u001b[1m1875/1875\u001b[0m \u001b[32m━━━━━━━━━━━━━━━━━━━━\u001b[0m\u001b[37m\u001b[0m \u001b[1m21s\u001b[0m 11ms/step - accuracy: 0.8860 - loss: 0.3068\n",
      "Epoch 5/20\n",
      "\u001b[1m1875/1875\u001b[0m \u001b[32m━━━━━━━━━━━━━━━━━━━━\u001b[0m\u001b[37m\u001b[0m \u001b[1m21s\u001b[0m 11ms/step - accuracy: 0.8959 - loss: 0.2818\n",
      "Epoch 6/20\n",
      "\u001b[1m1875/1875\u001b[0m \u001b[32m━━━━━━━━━━━━━━━━━━━━\u001b[0m\u001b[37m\u001b[0m \u001b[1m21s\u001b[0m 11ms/step - accuracy: 0.8984 - loss: 0.2687\n",
      "Epoch 7/20\n",
      "\u001b[1m1875/1875\u001b[0m \u001b[32m━━━━━━━━━━━━━━━━━━━━\u001b[0m\u001b[37m\u001b[0m \u001b[1m20s\u001b[0m 11ms/step - accuracy: 0.9015 - loss: 0.2601\n",
      "Epoch 8/20\n",
      "\u001b[1m1875/1875\u001b[0m \u001b[32m━━━━━━━━━━━━━━━━━━━━\u001b[0m\u001b[37m\u001b[0m \u001b[1m21s\u001b[0m 11ms/step - accuracy: 0.9099 - loss: 0.2395\n",
      "Epoch 9/20\n",
      "\u001b[1m1875/1875\u001b[0m \u001b[32m━━━━━━━━━━━━━━━━━━━━\u001b[0m\u001b[37m\u001b[0m \u001b[1m21s\u001b[0m 11ms/step - accuracy: 0.9118 - loss: 0.2312\n",
      "Epoch 10/20\n",
      "\u001b[1m1875/1875\u001b[0m \u001b[32m━━━━━━━━━━━━━━━━━━━━\u001b[0m\u001b[37m\u001b[0m \u001b[1m25s\u001b[0m 14ms/step - accuracy: 0.9129 - loss: 0.2218\n",
      "Epoch 11/20\n",
      "\u001b[1m1875/1875\u001b[0m \u001b[32m━━━━━━━━━━━━━━━━━━━━\u001b[0m\u001b[37m\u001b[0m \u001b[1m37s\u001b[0m 12ms/step - accuracy: 0.9203 - loss: 0.2101\n",
      "Epoch 12/20\n",
      "\u001b[1m1875/1875\u001b[0m \u001b[32m━━━━━━━━━━━━━━━━━━━━\u001b[0m\u001b[37m\u001b[0m \u001b[1m21s\u001b[0m 11ms/step - accuracy: 0.9205 - loss: 0.2091\n",
      "Epoch 13/20\n",
      "\u001b[1m1875/1875\u001b[0m \u001b[32m━━━━━━━━━━━━━━━━━━━━\u001b[0m\u001b[37m\u001b[0m \u001b[1m21s\u001b[0m 11ms/step - accuracy: 0.9234 - loss: 0.2017\n",
      "Epoch 14/20\n",
      "\u001b[1m1875/1875\u001b[0m \u001b[32m━━━━━━━━━━━━━━━━━━━━\u001b[0m\u001b[37m\u001b[0m \u001b[1m21s\u001b[0m 11ms/step - accuracy: 0.9234 - loss: 0.1963\n",
      "Epoch 15/20\n",
      "\u001b[1m1875/1875\u001b[0m \u001b[32m━━━━━━━━━━━━━━━━━━━━\u001b[0m\u001b[37m\u001b[0m \u001b[1m23s\u001b[0m 12ms/step - accuracy: 0.9270 - loss: 0.1878\n",
      "Epoch 16/20\n",
      "\u001b[1m1875/1875\u001b[0m \u001b[32m━━━━━━━━━━━━━━━━━━━━\u001b[0m\u001b[37m\u001b[0m \u001b[1m22s\u001b[0m 12ms/step - accuracy: 0.9315 - loss: 0.1760\n",
      "Epoch 17/20\n",
      "\u001b[1m1875/1875\u001b[0m \u001b[32m━━━━━━━━━━━━━━━━━━━━\u001b[0m\u001b[37m\u001b[0m \u001b[1m22s\u001b[0m 12ms/step - accuracy: 0.9311 - loss: 0.1759\n",
      "Epoch 18/20\n",
      "\u001b[1m1875/1875\u001b[0m \u001b[32m━━━━━━━━━━━━━━━━━━━━\u001b[0m\u001b[37m\u001b[0m \u001b[1m22s\u001b[0m 12ms/step - accuracy: 0.9351 - loss: 0.1680\n",
      "Epoch 19/20\n",
      "\u001b[1m1875/1875\u001b[0m \u001b[32m━━━━━━━━━━━━━━━━━━━━\u001b[0m\u001b[37m\u001b[0m \u001b[1m23s\u001b[0m 12ms/step - accuracy: 0.9357 - loss: 0.1710\n",
      "Epoch 20/20\n",
      "\u001b[1m1875/1875\u001b[0m \u001b[32m━━━━━━━━━━━━━━━━━━━━\u001b[0m\u001b[37m\u001b[0m \u001b[1m22s\u001b[0m 12ms/step - accuracy: 0.9361 - loss: 0.1646\n"
     ]
    },
    {
     "data": {
      "text/plain": [
       "<keras.src.callbacks.history.History at 0x14b71fcf3e0>"
      ]
     },
     "execution_count": 49,
     "metadata": {},
     "output_type": "execute_result"
    }
   ],
   "source": [
    "fmodel.fit(X_train_scale,y_train,epochs = 20)"
   ]
  },
  {
   "cell_type": "code",
   "execution_count": 50,
   "id": "c609782f-dcce-4337-9997-18a6c30b7a31",
   "metadata": {},
   "outputs": [
    {
     "name": "stdout",
     "output_type": "stream",
     "text": [
      "\u001b[1m313/313\u001b[0m \u001b[32m━━━━━━━━━━━━━━━━━━━━\u001b[0m\u001b[37m\u001b[0m \u001b[1m2s\u001b[0m 4ms/step - accuracy: 0.8967 - loss: 0.3832\n"
     ]
    },
    {
     "data": {
      "text/plain": [
       "[0.38789835572242737, 0.8949999809265137]"
      ]
     },
     "execution_count": 50,
     "metadata": {},
     "output_type": "execute_result"
    }
   ],
   "source": [
    "fmodel.evaluate(X_test_scale,y_test)"
   ]
  },
  {
   "cell_type": "markdown",
   "id": "dcd06f1b-9b80-4ec4-b14f-5a011b5d0b95",
   "metadata": {},
   "source": [
    "### Prediction"
   ]
  },
  {
   "cell_type": "code",
   "execution_count": 52,
   "id": "9e2360ec-2080-4692-9842-8e4ec8557b33",
   "metadata": {},
   "outputs": [
    {
     "data": {
      "text/plain": [
       "array([[0.   , 0.   , 0.   , 0.   , 0.   , 0.   , 0.   , 0.   , 0.004,\n",
       "        0.004, 0.   , 0.   , 0.48 , 0.524, 0.364, 0.588, 0.12 , 0.   ,\n",
       "        0.   , 0.004, 0.004, 0.   , 0.   , 0.   , 0.   , 0.   , 0.   ,\n",
       "        0.   ],\n",
       "       [0.   , 0.   , 0.   , 0.   , 0.   , 0.   , 0.004, 0.012, 0.   ,\n",
       "        0.   , 0.   , 0.   , 1.004, 0.796, 0.688, 0.78 , 0.608, 0.   ,\n",
       "        0.   , 0.   , 0.   , 0.012, 0.004, 0.   , 0.   , 0.   , 0.   ,\n",
       "        0.   ],\n",
       "       [0.   , 0.   , 0.   , 0.   , 0.   , 0.   , 0.   , 0.   , 0.   ,\n",
       "        0.172, 0.496, 0.772, 0.664, 0.956, 1.02 , 0.864, 0.688, 0.912,\n",
       "        0.504, 0.244, 0.   , 0.   , 0.   , 0.   , 0.   , 0.   , 0.   ,\n",
       "        0.   ],\n",
       "       [0.   , 0.   , 0.   , 0.   , 0.   , 0.   , 0.   , 0.384, 0.668,\n",
       "        0.62 , 0.636, 0.684, 0.712, 0.844, 0.86 , 0.84 , 0.784, 0.756,\n",
       "        0.632, 0.656, 0.636, 0.432, 0.   , 0.   , 0.   , 0.   , 0.   ,\n",
       "        0.   ],\n",
       "       [0.   , 0.   , 0.   , 0.   , 0.   , 0.   , 0.332, 0.628, 0.524,\n",
       "        0.468, 0.48 , 0.592, 0.592, 0.58 , 0.712, 0.636, 0.696, 0.64 ,\n",
       "        0.492, 0.528, 0.568, 0.688, 0.152, 0.   , 0.   , 0.   , 0.   ,\n",
       "        0.   ],\n",
       "       [0.   , 0.   , 0.   , 0.   , 0.   , 0.   , 0.636, 0.512, 0.472,\n",
       "        0.48 , 0.488, 0.448, 0.372, 0.496, 0.644, 0.436, 0.512, 0.512,\n",
       "        0.516, 0.584, 0.552, 0.668, 0.488, 0.   , 0.   , 0.   , 0.   ,\n",
       "        0.   ],\n",
       "       [0.   , 0.   , 0.   , 0.   , 0.   , 0.   , 0.684, 0.54 , 0.48 ,\n",
       "        0.456, 0.472, 0.476, 0.428, 0.5  , 0.492, 0.468, 0.496, 0.496,\n",
       "        0.476, 0.58 , 0.588, 0.664, 0.592, 0.   , 0.   , 0.   , 0.   ,\n",
       "        0.   ],\n",
       "       [0.   , 0.   , 0.   , 0.   , 0.   , 0.016, 0.684, 0.552, 0.504,\n",
       "        0.48 , 0.468, 0.472, 0.408, 0.488, 0.58 , 0.444, 0.48 , 0.488,\n",
       "        0.48 , 0.608, 0.616, 0.62 , 0.68 , 0.   , 0.   , 0.   , 0.   ,\n",
       "        0.   ],\n",
       "       [0.   , 0.   , 0.   , 0.   , 0.   , 0.124, 0.68 , 0.516, 0.552,\n",
       "        0.5  , 0.452, 0.424, 0.412, 0.472, 0.548, 0.432, 0.54 , 0.52 ,\n",
       "        0.632, 0.728, 0.552, 0.572, 0.744, 0.   , 0.   , 0.   , 0.   ,\n",
       "        0.   ],\n",
       "       [0.   , 0.   , 0.   , 0.   , 0.   , 0.232, 0.652, 0.456, 0.548,\n",
       "        0.572, 0.476, 0.412, 0.4  , 0.436, 0.472, 0.436, 0.516, 0.536,\n",
       "        0.688, 0.724, 0.524, 0.544, 0.76 , 0.   , 0.   , 0.   , 0.   ,\n",
       "        0.   ],\n",
       "       [0.   , 0.   , 0.   , 0.   , 0.   , 0.304, 0.64 , 0.452, 0.564,\n",
       "        0.592, 0.512, 0.444, 0.404, 0.464, 0.548, 0.444, 0.524, 0.568,\n",
       "        0.668, 0.732, 0.544, 0.48 , 0.744, 0.048, 0.   , 0.   , 0.   ,\n",
       "        0.   ],\n",
       "       [0.   , 0.   , 0.   , 0.   , 0.   , 0.4  , 0.592, 0.432, 0.588,\n",
       "        0.588, 0.536, 0.48 , 0.42 , 0.464, 0.524, 0.464, 0.544, 0.548,\n",
       "        0.66 , 0.768, 0.548, 0.452, 0.748, 0.12 , 0.   , 0.   , 0.   ,\n",
       "        0.   ],\n",
       "       [0.   , 0.   , 0.   , 0.   , 0.   , 0.456, 0.572, 0.432, 0.632,\n",
       "        0.588, 0.52 , 0.5  , 0.424, 0.456, 0.488, 0.476, 0.516, 0.536,\n",
       "        0.64 , 0.784, 0.544, 0.436, 0.728, 0.204, 0.   , 0.   , 0.   ,\n",
       "        0.   ],\n",
       "       [0.   , 0.   , 0.   , 0.   , 0.   , 0.48 , 0.56 , 0.468, 0.604,\n",
       "        0.592, 0.524, 0.496, 0.436, 0.48 , 0.572, 0.48 , 0.52 , 0.512,\n",
       "        0.636, 0.752, 0.444, 0.432, 0.712, 0.264, 0.   , 0.   , 0.   ,\n",
       "        0.   ],\n",
       "       [0.   , 0.   , 0.   , 0.   , 0.   , 0.5  , 0.516, 0.512, 0.448,\n",
       "        0.58 , 0.56 , 0.488, 0.452, 0.472, 0.536, 0.468, 0.528, 0.512,\n",
       "        0.664, 0.628, 0.364, 0.48 , 0.68 , 0.296, 0.   , 0.   , 0.   ,\n",
       "        0.   ],\n",
       "       [0.   , 0.   , 0.   , 0.   , 0.   , 0.504, 0.492, 0.552, 0.296,\n",
       "        0.56 , 0.572, 0.496, 0.444, 0.448, 0.504, 0.48 , 0.52 , 0.516,\n",
       "        0.7  , 0.48 , 0.352, 0.512, 0.656, 0.364, 0.   , 0.   , 0.   ,\n",
       "        0.   ],\n",
       "       [0.   , 0.   , 0.   , 0.   , 0.   , 0.496, 0.492, 0.628, 0.18 ,\n",
       "        0.58 , 0.572, 0.496, 0.452, 0.476, 0.592, 0.488, 0.524, 0.516,\n",
       "        0.732, 0.36 , 0.292, 0.548, 0.62 , 0.396, 0.   , 0.   , 0.   ,\n",
       "        0.   ],\n",
       "       [0.   , 0.   , 0.   , 0.   , 0.   , 0.472, 0.488, 0.668, 0.   ,\n",
       "        0.572, 0.596, 0.488, 0.448, 0.472, 0.548, 0.464, 0.528, 0.504,\n",
       "        0.732, 0.292, 0.2  , 0.608, 0.588, 0.404, 0.   , 0.   , 0.   ,\n",
       "        0.   ],\n",
       "       [0.   , 0.   , 0.   , 0.   , 0.   , 0.444, 0.512, 0.656, 0.   ,\n",
       "        0.568, 0.604, 0.488, 0.444, 0.468, 0.528, 0.48 , 0.544, 0.5  ,\n",
       "        0.728, 0.36 , 0.072, 0.656, 0.58 , 0.428, 0.   , 0.   , 0.   ,\n",
       "        0.   ],\n",
       "       [0.   , 0.   , 0.   , 0.   , 0.   , 0.436, 0.528, 0.632, 0.   ,\n",
       "        0.584, 0.592, 0.48 , 0.432, 0.5  , 0.628, 0.48 , 0.544, 0.524,\n",
       "        0.704, 0.444, 0.   , 0.656, 0.572, 0.472, 0.   , 0.   , 0.   ,\n",
       "        0.   ],\n",
       "       [0.   , 0.   , 0.   , 0.   , 0.   , 0.444, 0.564, 0.56 , 0.   ,\n",
       "        0.592, 0.596, 0.48 , 0.456, 0.492, 0.548, 0.496, 0.548, 0.524,\n",
       "        0.684, 0.54 , 0.   , 0.628, 0.588, 0.5  , 0.   , 0.   , 0.   ,\n",
       "        0.   ],\n",
       "       [0.   , 0.   , 0.   , 0.   , 0.   , 0.444, 0.616, 0.444, 0.   ,\n",
       "        0.62 , 0.592, 0.472, 0.464, 0.496, 0.572, 0.492, 0.524, 0.516,\n",
       "        0.668, 0.62 , 0.   , 0.516, 0.628, 0.516, 0.   , 0.   , 0.   ,\n",
       "        0.   ],\n",
       "       [0.   , 0.   , 0.   , 0.   , 0.   , 0.436, 0.62 , 0.348, 0.   ,\n",
       "        0.628, 0.58 , 0.476, 0.468, 0.504, 0.616, 0.504, 0.52 , 0.492,\n",
       "        0.644, 0.64 , 0.   , 0.388, 0.652, 0.52 , 0.   , 0.   , 0.   ,\n",
       "        0.   ],\n",
       "       [0.   , 0.   , 0.   , 0.   , 0.   , 0.496, 0.568, 0.216, 0.   ,\n",
       "        0.596, 0.564, 0.476, 0.476, 0.496, 0.544, 0.516, 0.504, 0.48 ,\n",
       "        0.612, 0.7  , 0.   , 0.304, 0.58 , 0.548, 0.   , 0.   , 0.   ,\n",
       "        0.   ],\n",
       "       [0.   , 0.   , 0.   , 0.   , 0.   , 0.544, 0.604, 0.188, 0.   ,\n",
       "        0.596, 0.548, 0.476, 0.472, 0.504, 0.572, 0.528, 0.52 , 0.492,\n",
       "        0.612, 0.688, 0.   , 0.264, 0.592, 0.616, 0.   , 0.   , 0.   ,\n",
       "        0.   ],\n",
       "       [0.   , 0.   , 0.   , 0.   , 0.   , 0.436, 0.696, 0.192, 0.   ,\n",
       "        0.616, 0.552, 0.476, 0.468, 0.496, 0.552, 0.52 , 0.516, 0.5  ,\n",
       "        0.636, 0.668, 0.   , 0.232, 0.696, 0.512, 0.   , 0.   , 0.   ,\n",
       "        0.   ],\n",
       "       [0.   , 0.   , 0.   , 0.   , 0.   , 0.   , 0.   , 0.   , 0.   ,\n",
       "        0.34 , 0.728, 0.588, 0.544, 0.572, 0.632, 0.584, 0.592, 0.612,\n",
       "        0.796, 0.28 , 0.   , 0.   , 0.   , 0.   , 0.   , 0.   , 0.   ,\n",
       "        0.   ],\n",
       "       [0.   , 0.   , 0.   , 0.   , 0.   , 0.   , 0.   , 0.   , 0.   ,\n",
       "        0.   , 0.104, 0.216, 0.288, 0.332, 0.384, 0.34 , 0.32 , 0.244,\n",
       "        0.056, 0.   , 0.   , 0.   , 0.   , 0.   , 0.   , 0.   , 0.   ,\n",
       "        0.   ]])"
      ]
     },
     "execution_count": 52,
     "metadata": {},
     "output_type": "execute_result"
    }
   ],
   "source": [
    "X_train_scale[3000]"
   ]
  },
  {
   "cell_type": "code",
   "execution_count": 53,
   "id": "4bb9c6f3-d99d-4527-8c06-0b2d74b6265a",
   "metadata": {},
   "outputs": [
    {
     "data": {
      "text/plain": [
       "array([[  0,   0,   0,   0,   0,   0,   0,   0,   1,   1,   0,   0, 120,\n",
       "        131,  91, 147,  30,   0,   0,   1,   1,   0,   0,   0,   0,   0,\n",
       "          0,   0],\n",
       "       [  0,   0,   0,   0,   0,   0,   1,   3,   0,   0,   0,   0, 251,\n",
       "        199, 172, 195, 152,   0,   0,   0,   0,   3,   1,   0,   0,   0,\n",
       "          0,   0],\n",
       "       [  0,   0,   0,   0,   0,   0,   0,   0,   0,  43, 124, 193, 166,\n",
       "        239, 255, 216, 172, 228, 126,  61,   0,   0,   0,   0,   0,   0,\n",
       "          0,   0],\n",
       "       [  0,   0,   0,   0,   0,   0,   0,  96, 167, 155, 159, 171, 178,\n",
       "        211, 215, 210, 196, 189, 158, 164, 159, 108,   0,   0,   0,   0,\n",
       "          0,   0],\n",
       "       [  0,   0,   0,   0,   0,   0,  83, 157, 131, 117, 120, 148, 148,\n",
       "        145, 178, 159, 174, 160, 123, 132, 142, 172,  38,   0,   0,   0,\n",
       "          0,   0],\n",
       "       [  0,   0,   0,   0,   0,   0, 159, 128, 118, 120, 122, 112,  93,\n",
       "        124, 161, 109, 128, 128, 129, 146, 138, 167, 122,   0,   0,   0,\n",
       "          0,   0],\n",
       "       [  0,   0,   0,   0,   0,   0, 171, 135, 120, 114, 118, 119, 107,\n",
       "        125, 123, 117, 124, 124, 119, 145, 147, 166, 148,   0,   0,   0,\n",
       "          0,   0],\n",
       "       [  0,   0,   0,   0,   0,   4, 171, 138, 126, 120, 117, 118, 102,\n",
       "        122, 145, 111, 120, 122, 120, 152, 154, 155, 170,   0,   0,   0,\n",
       "          0,   0],\n",
       "       [  0,   0,   0,   0,   0,  31, 170, 129, 138, 125, 113, 106, 103,\n",
       "        118, 137, 108, 135, 130, 158, 182, 138, 143, 186,   0,   0,   0,\n",
       "          0,   0],\n",
       "       [  0,   0,   0,   0,   0,  58, 163, 114, 137, 143, 119, 103, 100,\n",
       "        109, 118, 109, 129, 134, 172, 181, 131, 136, 190,   0,   0,   0,\n",
       "          0,   0],\n",
       "       [  0,   0,   0,   0,   0,  76, 160, 113, 141, 148, 128, 111, 101,\n",
       "        116, 137, 111, 131, 142, 167, 183, 136, 120, 186,  12,   0,   0,\n",
       "          0,   0],\n",
       "       [  0,   0,   0,   0,   0, 100, 148, 108, 147, 147, 134, 120, 105,\n",
       "        116, 131, 116, 136, 137, 165, 192, 137, 113, 187,  30,   0,   0,\n",
       "          0,   0],\n",
       "       [  0,   0,   0,   0,   0, 114, 143, 108, 158, 147, 130, 125, 106,\n",
       "        114, 122, 119, 129, 134, 160, 196, 136, 109, 182,  51,   0,   0,\n",
       "          0,   0],\n",
       "       [  0,   0,   0,   0,   0, 120, 140, 117, 151, 148, 131, 124, 109,\n",
       "        120, 143, 120, 130, 128, 159, 188, 111, 108, 178,  66,   0,   0,\n",
       "          0,   0],\n",
       "       [  0,   0,   0,   0,   0, 125, 129, 128, 112, 145, 140, 122, 113,\n",
       "        118, 134, 117, 132, 128, 166, 157,  91, 120, 170,  74,   0,   0,\n",
       "          0,   0],\n",
       "       [  0,   0,   0,   0,   0, 126, 123, 138,  74, 140, 143, 124, 111,\n",
       "        112, 126, 120, 130, 129, 175, 120,  88, 128, 164,  91,   0,   0,\n",
       "          0,   0],\n",
       "       [  0,   0,   0,   0,   0, 124, 123, 157,  45, 145, 143, 124, 113,\n",
       "        119, 148, 122, 131, 129, 183,  90,  73, 137, 155,  99,   0,   0,\n",
       "          0,   0],\n",
       "       [  0,   0,   0,   0,   0, 118, 122, 167,   0, 143, 149, 122, 112,\n",
       "        118, 137, 116, 132, 126, 183,  73,  50, 152, 147, 101,   0,   0,\n",
       "          0,   0],\n",
       "       [  0,   0,   0,   0,   0, 111, 128, 164,   0, 142, 151, 122, 111,\n",
       "        117, 132, 120, 136, 125, 182,  90,  18, 164, 145, 107,   0,   0,\n",
       "          0,   0],\n",
       "       [  0,   0,   0,   0,   0, 109, 132, 158,   0, 146, 148, 120, 108,\n",
       "        125, 157, 120, 136, 131, 176, 111,   0, 164, 143, 118,   0,   0,\n",
       "          0,   0],\n",
       "       [  0,   0,   0,   0,   0, 111, 141, 140,   0, 148, 149, 120, 114,\n",
       "        123, 137, 124, 137, 131, 171, 135,   0, 157, 147, 125,   0,   0,\n",
       "          0,   0],\n",
       "       [  0,   0,   0,   0,   0, 111, 154, 111,   0, 155, 148, 118, 116,\n",
       "        124, 143, 123, 131, 129, 167, 155,   0, 129, 157, 129,   0,   0,\n",
       "          0,   0],\n",
       "       [  0,   0,   0,   0,   0, 109, 155,  87,   0, 157, 145, 119, 117,\n",
       "        126, 154, 126, 130, 123, 161, 160,   0,  97, 163, 130,   0,   0,\n",
       "          0,   0],\n",
       "       [  0,   0,   0,   0,   0, 124, 142,  54,   0, 149, 141, 119, 119,\n",
       "        124, 136, 129, 126, 120, 153, 175,   0,  76, 145, 137,   0,   0,\n",
       "          0,   0],\n",
       "       [  0,   0,   0,   0,   0, 136, 151,  47,   0, 149, 137, 119, 118,\n",
       "        126, 143, 132, 130, 123, 153, 172,   0,  66, 148, 154,   0,   0,\n",
       "          0,   0],\n",
       "       [  0,   0,   0,   0,   0, 109, 174,  48,   0, 154, 138, 119, 117,\n",
       "        124, 138, 130, 129, 125, 159, 167,   0,  58, 174, 128,   0,   0,\n",
       "          0,   0],\n",
       "       [  0,   0,   0,   0,   0,   0,   0,   0,   0,  85, 182, 147, 136,\n",
       "        143, 158, 146, 148, 153, 199,  70,   0,   0,   0,   0,   0,   0,\n",
       "          0,   0],\n",
       "       [  0,   0,   0,   0,   0,   0,   0,   0,   0,   0,  26,  54,  72,\n",
       "         83,  96,  85,  80,  61,  14,   0,   0,   0,   0,   0,   0,   0,\n",
       "          0,   0]], dtype=uint8)"
      ]
     },
     "execution_count": 53,
     "metadata": {},
     "output_type": "execute_result"
    }
   ],
   "source": [
    "X_train[3000]"
   ]
  },
  {
   "cell_type": "code",
   "execution_count": 54,
   "id": "f32d94bc-760c-480c-8149-1a8ea49971d3",
   "metadata": {},
   "outputs": [
    {
     "data": {
      "text/plain": [
       "(28, 28)"
      ]
     },
     "execution_count": 54,
     "metadata": {},
     "output_type": "execute_result"
    }
   ],
   "source": [
    "X_train_scale[3000].shape"
   ]
  },
  {
   "cell_type": "code",
   "execution_count": 55,
   "id": "7cb8633f-239d-4231-9d9f-c17cc162f683",
   "metadata": {},
   "outputs": [
    {
     "data": {
      "text/plain": [
       "(60000, 28, 28)"
      ]
     },
     "execution_count": 55,
     "metadata": {},
     "output_type": "execute_result"
    }
   ],
   "source": [
    "X_train_scale.shape"
   ]
  },
  {
   "cell_type": "code",
   "execution_count": 57,
   "id": "4d0e959d-a082-4e3d-b925-d8a7c403d17e",
   "metadata": {},
   "outputs": [],
   "source": [
    "img = X_train_scale[3000].reshape( (1,) + X_train_scale[3000].shape)"
   ]
  },
  {
   "cell_type": "code",
   "execution_count": 59,
   "id": "461c8832-39a1-4ea9-9baa-1ae3d816f3f3",
   "metadata": {},
   "outputs": [
    {
     "data": {
      "text/plain": [
       "(1, 28, 28)"
      ]
     },
     "execution_count": 59,
     "metadata": {},
     "output_type": "execute_result"
    }
   ],
   "source": [
    "img.shape"
   ]
  },
  {
   "cell_type": "markdown",
   "id": "345381da-8869-443c-b578-1d1303d9cb5c",
   "metadata": {},
   "source": [
    "fmodel.predict(img)"
   ]
  },
  {
   "cell_type": "code",
   "execution_count": 60,
   "id": "582acfa6-64f9-4962-bd5f-6f1841a23748",
   "metadata": {},
   "outputs": [
    {
     "name": "stdout",
     "output_type": "stream",
     "text": [
      "\u001b[1m1/1\u001b[0m \u001b[32m━━━━━━━━━━━━━━━━━━━━\u001b[0m\u001b[37m\u001b[0m \u001b[1m0s\u001b[0m 200ms/step\n"
     ]
    },
    {
     "data": {
      "text/plain": [
       "array([[2.63631450e-10, 1.02416693e-16, 7.78636968e-06, 3.53974960e-10,\n",
       "        1.37229072e-04, 3.36769190e-19, 9.99855042e-01, 1.01312825e-22,\n",
       "        2.98450739e-20, 2.91727124e-22]], dtype=float32)"
      ]
     },
     "execution_count": 60,
     "metadata": {},
     "output_type": "execute_result"
    }
   ],
   "source": [
    "fmodel.predict(img)"
   ]
  },
  {
   "cell_type": "code",
   "execution_count": 61,
   "id": "f48f86f5-40fc-4d42-823c-63f7c4dd796c",
   "metadata": {},
   "outputs": [
    {
     "name": "stdout",
     "output_type": "stream",
     "text": [
      "\u001b[1m1/1\u001b[0m \u001b[32m━━━━━━━━━━━━━━━━━━━━\u001b[0m\u001b[37m\u001b[0m \u001b[1m0s\u001b[0m 84ms/step\n"
     ]
    },
    {
     "data": {
      "text/plain": [
       "6"
      ]
     },
     "execution_count": 61,
     "metadata": {},
     "output_type": "execute_result"
    }
   ],
   "source": [
    "np.argmax(fmodel.predict(img))"
   ]
  },
  {
   "cell_type": "code",
   "execution_count": 62,
   "id": "e0503496-8a49-4a41-887a-2820a560fdd8",
   "metadata": {},
   "outputs": [
    {
     "data": {
      "text/plain": [
       "'Shirts'"
      ]
     },
     "execution_count": 62,
     "metadata": {},
     "output_type": "execute_result"
    }
   ],
   "source": [
    "results[6]"
   ]
  },
  {
   "cell_type": "code",
   "execution_count": 63,
   "id": "42a44e67-feac-43b3-8ac4-fb455e0384e1",
   "metadata": {},
   "outputs": [
    {
     "data": {
      "text/plain": [
       "<matplotlib.image.AxesImage at 0x14b16a2e0f0>"
      ]
     },
     "execution_count": 63,
     "metadata": {},
     "output_type": "execute_result"
    },
    {
     "data": {
      "image/png": "[encoded data removed]",
      "text/plain": [
       "<Figure size 640x480 with 1 Axes>"
      ]
     },
     "metadata": {},
     "output_type": "display_data"
    }
   ],
   "source": [
    "plt.imshow(X_train_scale[3000])"
   ]
  },
  {
   "cell_type": "code",
   "execution_count": 65,
   "id": "b80ccc9f-f1d5-4343-b762-67db13bda749",
   "metadata": {},
   "outputs": [
    {
     "data": {
      "text/plain": [
       "6"
      ]
     },
     "execution_count": 65,
     "metadata": {},
     "output_type": "execute_result"
    }
   ],
   "source": [
    "y_train[3000]"
   ]
  },
  {
   "cell_type": "markdown",
   "id": "9d536f2c-4cc5-4cb8-a9a8-d1c220218c19",
   "metadata": {},
   "source": [
    "### Prediction2 "
   ]
  },
  {
   "cell_type": "code",
   "execution_count": 66,
   "id": "92ac907a-b6c8-492f-9c8d-a4c7b8dac3ba",
   "metadata": {},
   "outputs": [
    {
     "data": {
      "text/plain": [
       "array([[0.   , 0.   , 0.   , 0.   , 0.   , 0.   , 0.   , 0.   , 0.   ,\n",
       "        0.   , 0.   , 0.008, 0.   , 0.   , 0.472, 0.212, 0.   , 0.008,\n",
       "        0.   , 0.   , 0.   , 0.   , 0.   , 0.   , 0.   , 0.   , 0.   ,\n",
       "        0.   ],\n",
       "       [0.   , 0.   , 0.   , 0.   , 0.   , 0.   , 0.   , 0.   , 0.   ,\n",
       "        0.   , 0.   , 0.012, 0.   , 0.356, 0.08 , 0.288, 0.096, 0.   ,\n",
       "        0.008, 0.   , 0.   , 0.   , 0.   , 0.   , 0.   , 0.   , 0.   ,\n",
       "        0.   ],\n",
       "       [0.   , 0.   , 0.   , 0.   , 0.   , 0.   , 0.   , 0.   , 0.   ,\n",
       "        0.   , 0.008, 0.   , 0.172, 0.38 , 0.   , 0.064, 0.452, 0.   ,\n",
       "        0.012, 0.   , 0.   , 0.   , 0.   , 0.   , 0.   , 0.   , 0.   ,\n",
       "        0.   ],\n",
       "       [0.   , 0.   , 0.   , 0.   , 0.   , 0.   , 0.   , 0.   , 0.   ,\n",
       "        0.   , 0.012, 0.   , 0.492, 0.088, 0.   , 0.   , 0.604, 0.02 ,\n",
       "        0.   , 0.008, 0.   , 0.   , 0.   , 0.   , 0.   , 0.   , 0.   ,\n",
       "        0.   ],\n",
       "       [0.   , 0.   , 0.   , 0.   , 0.   , 0.   , 0.   , 0.   , 0.   ,\n",
       "        0.004, 0.   , 0.   , 0.604, 0.   , 0.   , 0.   , 0.444, 0.332,\n",
       "        0.   , 0.024, 0.   , 0.   , 0.   , 0.   , 0.   , 0.   , 0.   ,\n",
       "        0.   ],\n",
       "       [0.   , 0.   , 0.   , 0.   , 0.   , 0.   , 0.   , 0.   , 0.   ,\n",
       "        0.016, 0.   , 0.176, 0.612, 0.   , 0.016, 0.   , 0.204, 0.448,\n",
       "        0.   , 0.032, 0.   , 0.   , 0.   , 0.   , 0.   , 0.   , 0.   ,\n",
       "        0.   ],\n",
       "       [0.   , 0.   , 0.   , 0.   , 0.   , 0.   , 0.   , 0.   , 0.   ,\n",
       "        0.032, 0.   , 0.372, 0.412, 0.   , 0.02 , 0.   , 0.   , 0.528,\n",
       "        0.   , 0.   , 0.004, 0.   , 0.   , 0.   , 0.   , 0.   , 0.   ,\n",
       "        0.   ],\n",
       "       [0.   , 0.   , 0.   , 0.   , 0.   , 0.   , 0.   , 0.   , 0.   ,\n",
       "        0.024, 0.   , 0.556, 0.328, 0.   , 0.012, 0.   , 0.   , 0.56 ,\n",
       "        0.028, 0.   , 0.012, 0.   , 0.   , 0.   , 0.   , 0.   , 0.   ,\n",
       "        0.   ],\n",
       "       [0.   , 0.   , 0.   , 0.   , 0.   , 0.   , 0.   , 0.   , 0.004,\n",
       "        0.   , 0.   , 0.68 , 0.088, 0.   , 0.008, 0.004, 0.   , 0.5  ,\n",
       "        0.292, 0.   , 0.02 , 0.   , 0.   , 0.   , 0.   , 0.   , 0.   ,\n",
       "        0.   ],\n",
       "       [0.   , 0.   , 0.   , 0.004, 0.004, 0.004, 0.004, 0.   , 0.008,\n",
       "        0.   , 0.   , 0.736, 0.   , 0.   , 0.004, 0.016, 0.   , 0.508,\n",
       "        0.568, 0.   , 0.012, 0.004, 0.004, 0.008, 0.012, 0.012, 0.008,\n",
       "        0.   ],\n",
       "       [0.   , 0.   , 0.   , 0.   , 0.   , 0.   , 0.   , 0.   , 0.   ,\n",
       "        0.   , 0.32 , 0.916, 0.   , 0.   , 0.   , 0.   , 0.   , 0.232,\n",
       "        0.788, 0.   , 0.   , 0.   , 0.   , 0.   , 0.   , 0.   , 0.   ,\n",
       "        0.   ],\n",
       "       [0.   , 0.   , 0.   , 0.   , 0.   , 0.   , 0.   , 0.   , 0.   ,\n",
       "        0.   , 0.464, 0.464, 0.   , 0.   , 0.   , 0.   , 0.   , 0.   ,\n",
       "        0.784, 0.   , 0.   , 0.   , 0.   , 0.   , 0.   , 0.02 , 0.   ,\n",
       "        0.   ],\n",
       "       [0.   , 0.   , 0.048, 0.86 , 0.728, 0.728, 0.848, 0.836, 0.824,\n",
       "        0.776, 0.892, 0.796, 0.692, 0.756, 0.728, 0.68 , 0.688, 0.676,\n",
       "        0.956, 0.78 , 0.804, 0.836, 0.884, 0.876, 0.732, 0.792, 0.528,\n",
       "        0.   ],\n",
       "       [0.   , 0.   , 0.   , 0.788, 0.84 , 0.792, 0.772, 0.764, 0.772,\n",
       "        0.784, 0.656, 0.76 , 0.812, 0.812, 0.804, 0.78 , 0.772, 0.848,\n",
       "        0.676, 0.744, 0.852, 0.812, 0.776, 0.724, 0.724, 0.828, 0.424,\n",
       "        0.   ],\n",
       "       [0.   , 0.   , 0.   , 0.708, 0.792, 0.728, 0.72 , 0.704, 0.692,\n",
       "        0.708, 0.88 , 0.86 , 0.676, 0.636, 0.648, 0.636, 0.696, 0.812,\n",
       "        0.796, 0.824, 0.636, 0.636, 0.624, 0.672, 0.732, 0.832, 0.288,\n",
       "        0.   ],\n",
       "       [0.   , 0.   , 0.   , 0.748, 0.848, 0.78 , 0.784, 0.78 , 0.784,\n",
       "        0.8  , 0.848, 0.864, 0.752, 0.708, 0.648, 0.696, 0.8  , 0.796,\n",
       "        0.82 , 0.904, 0.732, 0.664, 0.7  , 0.768, 0.756, 0.96 , 0.22 ,\n",
       "        0.   ],\n",
       "       [0.   , 0.   , 0.   , 0.6  , 0.868, 0.764, 0.808, 0.788, 0.792,\n",
       "        0.796, 0.848, 0.816, 0.732, 0.756, 0.736, 0.772, 0.784, 0.768,\n",
       "        0.784, 0.784, 0.82 , 0.752, 0.768, 0.78 , 0.76 , 0.956, 0.12 ,\n",
       "        0.   ],\n",
       "       [0.   , 0.   , 0.   , 0.464, 0.876, 0.792, 0.828, 0.804, 0.8  ,\n",
       "        0.804, 0.864, 0.748, 0.716, 0.768, 0.764, 0.752, 0.748, 0.764,\n",
       "        0.748, 0.876, 0.82 , 0.752, 0.78 , 0.776, 0.788, 0.968, 0.028,\n",
       "        0.   ],\n",
       "       [0.   , 0.   , 0.   , 0.328, 0.888, 0.8  , 0.82 , 0.812, 0.796,\n",
       "        0.768, 0.748, 0.732, 0.772, 0.8  , 0.78 , 0.768, 0.764, 0.772,\n",
       "        0.792, 0.708, 0.824, 0.78 , 0.792, 0.78 , 0.8  , 0.928, 0.   ,\n",
       "        0.   ],\n",
       "       [0.   , 0.   , 0.   , 0.252, 0.88 , 0.804, 0.812, 0.82 , 0.8  ,\n",
       "        0.764, 0.776, 0.804, 0.808, 0.804, 0.796, 0.792, 0.776, 0.764,\n",
       "        0.788, 0.828, 0.864, 0.796, 0.792, 0.804, 0.812, 0.896, 0.   ,\n",
       "        0.   ],\n",
       "       [0.   , 0.   , 0.   , 0.072, 0.852, 0.828, 0.836, 0.824, 0.82 ,\n",
       "        0.82 , 0.828, 0.824, 0.828, 0.812, 0.8  , 0.804, 0.792, 0.78 ,\n",
       "        0.776, 0.852, 0.856, 0.832, 0.824, 0.792, 0.824, 0.836, 0.   ,\n",
       "        0.   ],\n",
       "       [0.   , 0.   , 0.   , 0.   , 0.984, 0.844, 0.832, 0.836, 0.832,\n",
       "        0.828, 0.828, 0.828, 0.836, 0.816, 0.812, 0.812, 0.804, 0.804,\n",
       "        0.756, 0.82 , 0.884, 0.836, 0.828, 0.788, 0.848, 0.736, 0.   ,\n",
       "        0.   ],\n",
       "       [0.   , 0.   , 0.   , 0.   , 0.9  , 0.864, 0.82 , 0.84 , 0.836,\n",
       "        0.836, 0.84 , 0.832, 0.832, 0.812, 0.812, 0.82 , 0.816, 0.796,\n",
       "        0.844, 0.724, 0.484, 0.676, 0.844, 0.796, 0.884, 0.588, 0.   ,\n",
       "        0.   ],\n",
       "       [0.   , 0.   , 0.   , 0.   , 0.804, 0.896, 0.828, 0.852, 0.848,\n",
       "        0.848, 0.844, 0.84 , 0.84 , 0.824, 0.824, 0.832, 0.832, 0.812,\n",
       "        0.896, 0.632, 0.276, 0.716, 0.848, 0.812, 0.9  , 0.44 , 0.   ,\n",
       "        0.   ],\n",
       "       [0.   , 0.   , 0.   , 0.   , 0.616, 0.924, 0.844, 0.864, 0.864,\n",
       "        0.868, 0.864, 0.852, 0.844, 0.848, 0.844, 0.844, 0.848, 0.844,\n",
       "        0.844, 0.9  , 0.872, 0.904, 0.856, 0.816, 0.908, 0.32 , 0.   ,\n",
       "        0.   ],\n",
       "       [0.   , 0.   , 0.02 , 0.   , 0.376, 0.936, 0.84 , 0.864, 0.836,\n",
       "        0.828, 0.844, 0.836, 0.828, 0.832, 0.832, 0.832, 0.828, 0.828,\n",
       "        0.824, 0.824, 0.84 , 0.836, 0.848, 0.812, 0.892, 0.204, 0.   ,\n",
       "        0.   ],\n",
       "       [0.   , 0.   , 0.004, 0.   , 0.252, 0.98 , 0.932, 1.02 , 1.02 ,\n",
       "        1.02 , 1.02 , 1.02 , 1.02 , 1.02 , 1.02 , 1.02 , 1.02 , 1.008,\n",
       "        1.02 , 1.02 , 1.02 , 1.02 , 0.9  , 0.908, 0.896, 0.052, 0.   ,\n",
       "        0.   ],\n",
       "       [0.   , 0.   , 0.004, 0.   , 0.   , 0.38 , 0.304, 0.284, 0.26 ,\n",
       "        0.252, 0.236, 0.244, 0.256, 0.264, 0.304, 0.32 , 0.308, 0.292,\n",
       "        0.28 , 0.304, 0.304, 0.296, 0.244, 0.268, 0.264, 0.   , 0.   ,\n",
       "        0.   ]])"
      ]
     },
     "execution_count": 66,
     "metadata": {},
     "output_type": "execute_result"
    }
   ],
   "source": [
    "X_test_scale[7000]"
   ]
  },
  {
   "cell_type": "code",
   "execution_count": 67,
   "id": "aba84e86-6d10-43ac-baae-8953b18818d1",
   "metadata": {},
   "outputs": [
    {
     "data": {
      "text/plain": [
       "(10000, 28, 28)"
      ]
     },
     "execution_count": 67,
     "metadata": {},
     "output_type": "execute_result"
    }
   ],
   "source": [
    "X_test_scale.shape"
   ]
  },
  {
   "cell_type": "code",
   "execution_count": 68,
   "id": "d065ee55-9202-43c9-afce-ac41045dc208",
   "metadata": {},
   "outputs": [
    {
     "data": {
      "text/plain": [
       "(28, 28)"
      ]
     },
     "execution_count": 68,
     "metadata": {},
     "output_type": "execute_result"
    }
   ],
   "source": [
    "X_test_scale[7000].shape"
   ]
  },
  {
   "cell_type": "code",
   "execution_count": 69,
   "id": "7e5ecef4-1fe5-4b67-b2fc-780d7ec6f79d",
   "metadata": {},
   "outputs": [],
   "source": [
    "img2 = X_test_scale[7000].reshape( (1,) + X_test_scale[7000].shape)"
   ]
  },
  {
   "cell_type": "code",
   "execution_count": 70,
   "id": "03fd01bf-32ca-4b0a-9075-16846e2ee741",
   "metadata": {},
   "outputs": [
    {
     "data": {
      "text/plain": [
       "array([[[0.   , 0.   , 0.   , 0.   , 0.   , 0.   , 0.   , 0.   , 0.   ,\n",
       "         0.   , 0.   , 0.008, 0.   , 0.   , 0.472, 0.212, 0.   , 0.008,\n",
       "         0.   , 0.   , 0.   , 0.   , 0.   , 0.   , 0.   , 0.   , 0.   ,\n",
       "         0.   ],\n",
       "        [0.   , 0.   , 0.   , 0.   , 0.   , 0.   , 0.   , 0.   , 0.   ,\n",
       "         0.   , 0.   , 0.012, 0.   , 0.356, 0.08 , 0.288, 0.096, 0.   ,\n",
       "         0.008, 0.   , 0.   , 0.   , 0.   , 0.   , 0.   , 0.   , 0.   ,\n",
       "         0.   ],\n",
       "        [0.   , 0.   , 0.   , 0.   , 0.   , 0.   , 0.   , 0.   , 0.   ,\n",
       "         0.   , 0.008, 0.   , 0.172, 0.38 , 0.   , 0.064, 0.452, 0.   ,\n",
       "         0.012, 0.   , 0.   , 0.   , 0.   , 0.   , 0.   , 0.   , 0.   ,\n",
       "         0.   ],\n",
       "        [0.   , 0.   , 0.   , 0.   , 0.   , 0.   , 0.   , 0.   , 0.   ,\n",
       "         0.   , 0.012, 0.   , 0.492, 0.088, 0.   , 0.   , 0.604, 0.02 ,\n",
       "         0.   , 0.008, 0.   , 0.   , 0.   , 0.   , 0.   , 0.   , 0.   ,\n",
       "         0.   ],\n",
       "        [0.   , 0.   , 0.   , 0.   , 0.   , 0.   , 0.   , 0.   , 0.   ,\n",
       "         0.004, 0.   , 0.   , 0.604, 0.   , 0.   , 0.   , 0.444, 0.332,\n",
       "         0.   , 0.024, 0.   , 0.   , 0.   , 0.   , 0.   , 0.   , 0.   ,\n",
       "         0.   ],\n",
       "        [0.   , 0.   , 0.   , 0.   , 0.   , 0.   , 0.   , 0.   , 0.   ,\n",
       "         0.016, 0.   , 0.176, 0.612, 0.   , 0.016, 0.   , 0.204, 0.448,\n",
       "         0.   , 0.032, 0.   , 0.   , 0.   , 0.   , 0.   , 0.   , 0.   ,\n",
       "         0.   ],\n",
       "        [0.   , 0.   , 0.   , 0.   , 0.   , 0.   , 0.   , 0.   , 0.   ,\n",
       "         0.032, 0.   , 0.372, 0.412, 0.   , 0.02 , 0.   , 0.   , 0.528,\n",
       "         0.   , 0.   , 0.004, 0.   , 0.   , 0.   , 0.   , 0.   , 0.   ,\n",
       "         0.   ],\n",
       "        [0.   , 0.   , 0.   , 0.   , 0.   , 0.   , 0.   , 0.   , 0.   ,\n",
       "         0.024, 0.   , 0.556, 0.328, 0.   , 0.012, 0.   , 0.   , 0.56 ,\n",
       "         0.028, 0.   , 0.012, 0.   , 0.   , 0.   , 0.   , 0.   , 0.   ,\n",
       "         0.   ],\n",
       "        [0.   , 0.   , 0.   , 0.   , 0.   , 0.   , 0.   , 0.   , 0.004,\n",
       "         0.   , 0.   , 0.68 , 0.088, 0.   , 0.008, 0.004, 0.   , 0.5  ,\n",
       "         0.292, 0.   , 0.02 , 0.   , 0.   , 0.   , 0.   , 0.   , 0.   ,\n",
       "         0.   ],\n",
       "        [0.   , 0.   , 0.   , 0.004, 0.004, 0.004, 0.004, 0.   , 0.008,\n",
       "         0.   , 0.   , 0.736, 0.   , 0.   , 0.004, 0.016, 0.   , 0.508,\n",
       "         0.568, 0.   , 0.012, 0.004, 0.004, 0.008, 0.012, 0.012, 0.008,\n",
       "         0.   ],\n",
       "        [0.   , 0.   , 0.   , 0.   , 0.   , 0.   , 0.   , 0.   , 0.   ,\n",
       "         0.   , 0.32 , 0.916, 0.   , 0.   , 0.   , 0.   , 0.   , 0.232,\n",
       "         0.788, 0.   , 0.   , 0.   , 0.   , 0.   , 0.   , 0.   , 0.   ,\n",
       "         0.   ],\n",
       "        [0.   , 0.   , 0.   , 0.   , 0.   , 0.   , 0.   , 0.   , 0.   ,\n",
       "         0.   , 0.464, 0.464, 0.   , 0.   , 0.   , 0.   , 0.   , 0.   ,\n",
       "         0.784, 0.   , 0.   , 0.   , 0.   , 0.   , 0.   , 0.02 , 0.   ,\n",
       "         0.   ],\n",
       "        [0.   , 0.   , 0.048, 0.86 , 0.728, 0.728, 0.848, 0.836, 0.824,\n",
       "         0.776, 0.892, 0.796, 0.692, 0.756, 0.728, 0.68 , 0.688, 0.676,\n",
       "         0.956, 0.78 , 0.804, 0.836, 0.884, 0.876, 0.732, 0.792, 0.528,\n",
       "         0.   ],\n",
       "        [0.   , 0.   , 0.   , 0.788, 0.84 , 0.792, 0.772, 0.764, 0.772,\n",
       "         0.784, 0.656, 0.76 , 0.812, 0.812, 0.804, 0.78 , 0.772, 0.848,\n",
       "         0.676, 0.744, 0.852, 0.812, 0.776, 0.724, 0.724, 0.828, 0.424,\n",
       "         0.   ],\n",
       "        [0.   , 0.   , 0.   , 0.708, 0.792, 0.728, 0.72 , 0.704, 0.692,\n",
       "         0.708, 0.88 , 0.86 , 0.676, 0.636, 0.648, 0.636, 0.696, 0.812,\n",
       "         0.796, 0.824, 0.636, 0.636, 0.624, 0.672, 0.732, 0.832, 0.288,\n",
       "         0.   ],\n",
       "        [0.   , 0.   , 0.   , 0.748, 0.848, 0.78 , 0.784, 0.78 , 0.784,\n",
       "         0.8  , 0.848, 0.864, 0.752, 0.708, 0.648, 0.696, 0.8  , 0.796,\n",
       "         0.82 , 0.904, 0.732, 0.664, 0.7  , 0.768, 0.756, 0.96 , 0.22 ,\n",
       "         0.   ],\n",
       "        [0.   , 0.   , 0.   , 0.6  , 0.868, 0.764, 0.808, 0.788, 0.792,\n",
       "         0.796, 0.848, 0.816, 0.732, 0.756, 0.736, 0.772, 0.784, 0.768,\n",
       "         0.784, 0.784, 0.82 , 0.752, 0.768, 0.78 , 0.76 , 0.956, 0.12 ,\n",
       "         0.   ],\n",
       "        [0.   , 0.   , 0.   , 0.464, 0.876, 0.792, 0.828, 0.804, 0.8  ,\n",
       "         0.804, 0.864, 0.748, 0.716, 0.768, 0.764, 0.752, 0.748, 0.764,\n",
       "         0.748, 0.876, 0.82 , 0.752, 0.78 , 0.776, 0.788, 0.968, 0.028,\n",
       "         0.   ],\n",
       "        [0.   , 0.   , 0.   , 0.328, 0.888, 0.8  , 0.82 , 0.812, 0.796,\n",
       "         0.768, 0.748, 0.732, 0.772, 0.8  , 0.78 , 0.768, 0.764, 0.772,\n",
       "         0.792, 0.708, 0.824, 0.78 , 0.792, 0.78 , 0.8  , 0.928, 0.   ,\n",
       "         0.   ],\n",
       "        [0.   , 0.   , 0.   , 0.252, 0.88 , 0.804, 0.812, 0.82 , 0.8  ,\n",
       "         0.764, 0.776, 0.804, 0.808, 0.804, 0.796, 0.792, 0.776, 0.764,\n",
       "         0.788, 0.828, 0.864, 0.796, 0.792, 0.804, 0.812, 0.896, 0.   ,\n",
       "         0.   ],\n",
       "        [0.   , 0.   , 0.   , 0.072, 0.852, 0.828, 0.836, 0.824, 0.82 ,\n",
       "         0.82 , 0.828, 0.824, 0.828, 0.812, 0.8  , 0.804, 0.792, 0.78 ,\n",
       "         0.776, 0.852, 0.856, 0.832, 0.824, 0.792, 0.824, 0.836, 0.   ,\n",
       "         0.   ],\n",
       "        [0.   , 0.   , 0.   , 0.   , 0.984, 0.844, 0.832, 0.836, 0.832,\n",
       "         0.828, 0.828, 0.828, 0.836, 0.816, 0.812, 0.812, 0.804, 0.804,\n",
       "         0.756, 0.82 , 0.884, 0.836, 0.828, 0.788, 0.848, 0.736, 0.   ,\n",
       "         0.   ],\n",
       "        [0.   , 0.   , 0.   , 0.   , 0.9  , 0.864, 0.82 , 0.84 , 0.836,\n",
       "         0.836, 0.84 , 0.832, 0.832, 0.812, 0.812, 0.82 , 0.816, 0.796,\n",
       "         0.844, 0.724, 0.484, 0.676, 0.844, 0.796, 0.884, 0.588, 0.   ,\n",
       "         0.   ],\n",
       "        [0.   , 0.   , 0.   , 0.   , 0.804, 0.896, 0.828, 0.852, 0.848,\n",
       "         0.848, 0.844, 0.84 , 0.84 , 0.824, 0.824, 0.832, 0.832, 0.812,\n",
       "         0.896, 0.632, 0.276, 0.716, 0.848, 0.812, 0.9  , 0.44 , 0.   ,\n",
       "         0.   ],\n",
       "        [0.   , 0.   , 0.   , 0.   , 0.616, 0.924, 0.844, 0.864, 0.864,\n",
       "         0.868, 0.864, 0.852, 0.844, 0.848, 0.844, 0.844, 0.848, 0.844,\n",
       "         0.844, 0.9  , 0.872, 0.904, 0.856, 0.816, 0.908, 0.32 , 0.   ,\n",
       "         0.   ],\n",
       "        [0.   , 0.   , 0.02 , 0.   , 0.376, 0.936, 0.84 , 0.864, 0.836,\n",
       "         0.828, 0.844, 0.836, 0.828, 0.832, 0.832, 0.832, 0.828, 0.828,\n",
       "         0.824, 0.824, 0.84 , 0.836, 0.848, 0.812, 0.892, 0.204, 0.   ,\n",
       "         0.   ],\n",
       "        [0.   , 0.   , 0.004, 0.   , 0.252, 0.98 , 0.932, 1.02 , 1.02 ,\n",
       "         1.02 , 1.02 , 1.02 , 1.02 , 1.02 , 1.02 , 1.02 , 1.02 , 1.008,\n",
       "         1.02 , 1.02 , 1.02 , 1.02 , 0.9  , 0.908, 0.896, 0.052, 0.   ,\n",
       "         0.   ],\n",
       "        [0.   , 0.   , 0.004, 0.   , 0.   , 0.38 , 0.304, 0.284, 0.26 ,\n",
       "         0.252, 0.236, 0.244, 0.256, 0.264, 0.304, 0.32 , 0.308, 0.292,\n",
       "         0.28 , 0.304, 0.304, 0.296, 0.244, 0.268, 0.264, 0.   , 0.   ,\n",
       "         0.   ]]])"
      ]
     },
     "execution_count": 70,
     "metadata": {},
     "output_type": "execute_result"
    }
   ],
   "source": [
    "img2"
   ]
  },
  {
   "cell_type": "code",
   "execution_count": 71,
   "id": "933770ad-c0f3-4483-ab45-010f006239fd",
   "metadata": {},
   "outputs": [
    {
     "data": {
      "text/plain": [
       "(1, 28, 28)"
      ]
     },
     "execution_count": 71,
     "metadata": {},
     "output_type": "execute_result"
    }
   ],
   "source": [
    "img2.shape"
   ]
  },
  {
   "cell_type": "code",
   "execution_count": 72,
   "id": "92df1d06-6546-4139-a479-8480966cfabb",
   "metadata": {},
   "outputs": [
    {
     "name": "stdout",
     "output_type": "stream",
     "text": [
      "\u001b[1m1/1\u001b[0m \u001b[32m━━━━━━━━━━━━━━━━━━━━\u001b[0m\u001b[37m\u001b[0m \u001b[1m0s\u001b[0m 85ms/step\n"
     ]
    },
    {
     "data": {
      "text/plain": [
       "array([[1.4560549e-34, 0.0000000e+00, 0.0000000e+00, 0.0000000e+00,\n",
       "        0.0000000e+00, 0.0000000e+00, 0.0000000e+00, 0.0000000e+00,\n",
       "        1.0000000e+00, 0.0000000e+00]], dtype=float32)"
      ]
     },
     "execution_count": 72,
     "metadata": {},
     "output_type": "execute_result"
    }
   ],
   "source": [
    "fmodel.predict(img2)"
   ]
  },
  {
   "cell_type": "code",
   "execution_count": 74,
   "id": "49cfb51a-5c51-4845-b740-60d652390b5e",
   "metadata": {},
   "outputs": [
    {
     "name": "stdout",
     "output_type": "stream",
     "text": [
      "\u001b[1m1/1\u001b[0m \u001b[32m━━━━━━━━━━━━━━━━━━━━\u001b[0m\u001b[37m\u001b[0m \u001b[1m0s\u001b[0m 87ms/step\n"
     ]
    },
    {
     "data": {
      "text/plain": [
       "8"
      ]
     },
     "execution_count": 74,
     "metadata": {},
     "output_type": "execute_result"
    }
   ],
   "source": [
    "np.argmax(fmodel.predict(img2))"
   ]
  },
  {
   "cell_type": "code",
   "execution_count": 75,
   "id": "4547e111-0739-4a53-b871-3332ccf5d74d",
   "metadata": {},
   "outputs": [
    {
     "data": {
      "text/plain": [
       "'Bag'"
      ]
     },
     "execution_count": 75,
     "metadata": {},
     "output_type": "execute_result"
    }
   ],
   "source": [
    "results[8]"
   ]
  },
  {
   "cell_type": "code",
   "execution_count": 76,
   "id": "4df1d767-12d9-42a7-939c-4b6bf606d2dd",
   "metadata": {},
   "outputs": [
    {
     "data": {
      "text/plain": [
       "<matplotlib.image.AxesImage at 0x14b16a54d70>"
      ]
     },
     "execution_count": 76,
     "metadata": {},
     "output_type": "execute_result"
    },
    {
     "data": {
      "image/png": "[encoded data removed]",
      "text/plain": [
       "<Figure size 640x480 with 1 Axes>"
      ]
     },
     "metadata": {},
     "output_type": "display_data"
    }
   ],
   "source": [
    "plt.imshow(X_test_scale[7000])"
   ]
  },
  {
   "cell_type": "code",
   "execution_count": 77,
   "id": "f16c78f9-cea8-4c9a-8316-a1444a6c1d4e",
   "metadata": {},
   "outputs": [
    {
     "data": {
      "text/plain": [
       "8"
      ]
     },
     "execution_count": 77,
     "metadata": {},
     "output_type": "execute_result"
    }
   ],
   "source": [
    "y_test[7000]"
   ]
  },
  {
   "cell_type": "code",
   "execution_count": null,
   "id": "4192f6dd-69c3-4d12-b6da-9b702b19c98c",
   "metadata": {},
   "outputs": [],
   "source": []
  }
 ],
 "metadata": {
  "kernelspec": {
   "display_name": "Python 3 (ipykernel)",
   "language": "python",
   "name": "python3"
  },
  "language_info": {
   "codemirror_mode": {
    "name": "ipython",
    "version": 3
   },
   "file_extension": ".py",
   "mimetype": "text/x-python",
   "name": "python",
   "nbconvert_exporter": "python",
   "pygments_lexer": "ipython3",
   "version": "3.12.4"
  }
 },
 "nbformat": 4,
 "nbformat_minor": 5
}
