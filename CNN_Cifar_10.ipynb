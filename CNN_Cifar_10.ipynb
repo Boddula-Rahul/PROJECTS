{
 "cells": [
  {
   "cell_type": "code",
   "execution_count": 1,
   "id": "d06e93b6-079b-4f18-9cac-1423816583fc",
   "metadata": {},
   "outputs": [],
   "source": [
    "import numpy as np"
   ]
  },
  {
   "cell_type": "code",
   "execution_count": 2,
   "id": "c9f5b256-c7d5-4c1f-8170-55cb2fccb7c8",
   "metadata": {},
   "outputs": [],
   "source": [
    "import pandas as pd"
   ]
  },
  {
   "cell_type": "code",
   "execution_count": 3,
   "id": "66917867-0a89-4acd-a9ef-f757a00c88a8",
   "metadata": {},
   "outputs": [],
   "source": [
    "import matplotlib.pyplot as plt"
   ]
  },
  {
   "cell_type": "code",
   "execution_count": 19,
   "id": "41582cda-77b8-45cb-a2ba-cc8e2c8d93c8",
   "metadata": {},
   "outputs": [],
   "source": [
    "import cv2"
   ]
  },
  {
   "cell_type": "code",
   "execution_count": 5,
   "id": "b9997c2d-bceb-49a0-b462-cf513715cb1e",
   "metadata": {},
   "outputs": [],
   "source": [
    "import tensorflow as tf"
   ]
  },
  {
   "cell_type": "code",
   "execution_count": 6,
   "id": "4d7fe333-3b9e-4acf-bd7d-c6523156b7cc",
   "metadata": {},
   "outputs": [],
   "source": [
    "from tensorflow.keras.models import Sequential "
   ]
  },
  {
   "cell_type": "code",
   "execution_count": 7,
   "id": "f29bb455-46ee-44b8-9a16-34221cdb5ed7",
   "metadata": {},
   "outputs": [],
   "source": [
    "from tensorflow.keras.layers import Dense,Flatten, Conv2D, MaxPooling2D,Dropout, BatchNormalization"
   ]
  },
  {
   "cell_type": "code",
   "execution_count": 8,
   "id": "5b616bc9-9fc5-4a18-b173-bf62fff9373c",
   "metadata": {},
   "outputs": [],
   "source": [
    "from tensorflow.keras.datasets import cifar10"
   ]
  },
  {
   "cell_type": "code",
   "execution_count": 9,
   "id": "5d863c0c-de1d-4770-b08b-db499629b105",
   "metadata": {},
   "outputs": [],
   "source": [
    "(X_train,y_train), (X_test,y_test) = cifar10.load_data()"
   ]
  },
  {
   "cell_type": "code",
   "execution_count": 10,
   "id": "e3317ba5-d6a4-4214-821e-8fd533c7d124",
   "metadata": {},
   "outputs": [
    {
     "data": {
      "text/plain": [
       "(50000, 32, 32, 3)"
      ]
     },
     "execution_count": 10,
     "metadata": {},
     "output_type": "execute_result"
    }
   ],
   "source": [
    "X_train.shape"
   ]
  },
  {
   "cell_type": "code",
   "execution_count": 12,
   "id": "c2360645-daa5-4804-bf95-e636d2d1d93d",
   "metadata": {},
   "outputs": [
    {
     "data": {
      "text/plain": [
       "(10000, 32, 32, 3)"
      ]
     },
     "execution_count": 12,
     "metadata": {},
     "output_type": "execute_result"
    }
   ],
   "source": [
    "X_test.shape"
   ]
  },
  {
   "cell_type": "code",
   "execution_count": 13,
   "id": "4b09913f-c023-4a3b-a2c4-975eb15b6a6a",
   "metadata": {},
   "outputs": [
    {
     "data": {
      "text/plain": [
       "((10000, 1), (50000, 1))"
      ]
     },
     "execution_count": 13,
     "metadata": {},
     "output_type": "execute_result"
    }
   ],
   "source": [
    "y_test.shape, y_train.shape"
   ]
  },
  {
   "cell_type": "code",
   "execution_count": 15,
   "id": "2668703f-9a38-46c1-9534-40a87a4f9d10",
   "metadata": {},
   "outputs": [],
   "source": [
    "names = [\"Airplane\", \"Automobile\",\"Bird\",\"Cat\",\"Deer\",\"Dog\",\"Frog\",\"Horse\",\"Ship\",\"Truck\"]"
   ]
  },
  {
   "cell_type": "code",
   "execution_count": 16,
   "id": "b1a711c8-e810-4be7-bca8-9a40bf2d247b",
   "metadata": {},
   "outputs": [
    {
     "data": {
      "text/plain": [
       "['Airplane',\n",
       " 'Automobile',\n",
       " 'Bird',\n",
       " 'Cat',\n",
       " 'Deer',\n",
       " 'Dog',\n",
       " 'Frog',\n",
       " 'Horse',\n",
       " 'Ship',\n",
       " 'Truck']"
      ]
     },
     "execution_count": 16,
     "metadata": {},
     "output_type": "execute_result"
    }
   ],
   "source": [
    "names"
   ]
  },
  {
   "cell_type": "code",
   "execution_count": 17,
   "id": "8de67856-36ba-4b75-a204-7365a8799347",
   "metadata": {},
   "outputs": [
    {
     "data": {
      "text/plain": [
       "array([[[254, 254, 254],\n",
       "        [255, 255, 255],\n",
       "        [255, 255, 255],\n",
       "        ...,\n",
       "        [255, 255, 255],\n",
       "        [255, 255, 255],\n",
       "        [255, 255, 255]],\n",
       "\n",
       "       [[251, 251, 251],\n",
       "        [253, 253, 253],\n",
       "        [254, 254, 254],\n",
       "        ...,\n",
       "        [251, 251, 251],\n",
       "        [251, 251, 251],\n",
       "        [250, 250, 250]],\n",
       "\n",
       "       [[251, 251, 251],\n",
       "        [253, 253, 253],\n",
       "        [253, 253, 253],\n",
       "        ...,\n",
       "        [251, 251, 251],\n",
       "        [252, 252, 252],\n",
       "        [251, 251, 251]],\n",
       "\n",
       "       ...,\n",
       "\n",
       "       [[149, 149, 149],\n",
       "        [ 62,  62,  62],\n",
       "        [ 65,  65,  65],\n",
       "        ...,\n",
       "        [207, 200, 190],\n",
       "        [202, 192, 182],\n",
       "        [214, 207, 200]],\n",
       "\n",
       "       [[159, 159, 159],\n",
       "        [ 71,  71,  71],\n",
       "        [ 72,  72,  72],\n",
       "        ...,\n",
       "        [199, 180, 158],\n",
       "        [202, 191, 180],\n",
       "        [212, 207, 203]],\n",
       "\n",
       "       [[224, 224, 224],\n",
       "        [194, 194, 194],\n",
       "        [182, 182, 182],\n",
       "        ...,\n",
       "        [214, 201, 185],\n",
       "        [215, 208, 200],\n",
       "        [217, 215, 213]]], dtype=uint8)"
      ]
     },
     "execution_count": 17,
     "metadata": {},
     "output_type": "execute_result"
    }
   ],
   "source": [
    "X_train[3000]"
   ]
  },
  {
   "cell_type": "code",
   "execution_count": 18,
   "id": "8b97e8fd-f51d-4f53-bf06-fcdbcf389913",
   "metadata": {},
   "outputs": [
    {
     "data": {
      "text/plain": [
       "<matplotlib.image.AxesImage at 0x1f823289220>"
      ]
     },
     "execution_count": 18,
     "metadata": {},
     "output_type": "execute_result"
    },
    {
     "data": {
      "image/png": "[encoded data removed]",
      "text/plain": [
       "<Figure size 640x480 with 1 Axes>"
      ]
     },
     "metadata": {},
     "output_type": "display_data"
    }
   ],
   "source": [
    "plt.imshow(X_train[3000])"
   ]
  },
  {
   "cell_type": "code",
   "execution_count": 20,
   "id": "6273be05-cf4c-4dd4-81aa-976d6dfb0a23",
   "metadata": {},
   "outputs": [
    {
     "data": {
      "text/plain": [
       "array([3], dtype=uint8)"
      ]
     },
     "execution_count": 20,
     "metadata": {},
     "output_type": "execute_result"
    }
   ],
   "source": [
    "y_train[3000]"
   ]
  },
  {
   "cell_type": "code",
   "execution_count": 21,
   "id": "2d1cefa7-d9ec-4d1c-8a8f-ac048b0297f9",
   "metadata": {},
   "outputs": [
    {
     "data": {
      "text/plain": [
       "'Cat'"
      ]
     },
     "execution_count": 21,
     "metadata": {},
     "output_type": "execute_result"
    }
   ],
   "source": [
    "names[3]"
   ]
  },
  {
   "cell_type": "code",
   "execution_count": 22,
   "id": "3e7e9965-f858-4df7-862b-7e7a7e283cbd",
   "metadata": {},
   "outputs": [
    {
     "data": {
      "text/plain": [
       "array([[[137, 163,  75],\n",
       "        [158, 182, 103],\n",
       "        [182, 206, 129],\n",
       "        ...,\n",
       "        [175, 187, 102],\n",
       "        [189, 203, 103],\n",
       "        [162, 174,  86]],\n",
       "\n",
       "       [[122, 138,  92],\n",
       "        [126, 140, 109],\n",
       "        [134, 148, 111],\n",
       "        ...,\n",
       "        [135, 153,  84],\n",
       "        [143, 162,  85],\n",
       "        [125, 143,  73]],\n",
       "\n",
       "       [[134, 158,  79],\n",
       "        [123, 145,  80],\n",
       "        [142, 163, 103],\n",
       "        ...,\n",
       "        [126, 145,  84],\n",
       "        [113, 131,  71],\n",
       "        [115, 133,  74]],\n",
       "\n",
       "       ...,\n",
       "\n",
       "       [[ 70,  52,  57],\n",
       "        [ 81,  60,  66],\n",
       "        [ 85,  63,  65],\n",
       "        ...,\n",
       "        [200, 214, 103],\n",
       "        [150, 154,  96],\n",
       "        [ 97,  99,  70]],\n",
       "\n",
       "       [[106,  83,  84],\n",
       "        [121,  95,  97],\n",
       "        [124,  94,  99],\n",
       "        ...,\n",
       "        [142, 148,  80],\n",
       "        [109, 116,  65],\n",
       "        [108, 118,  65]],\n",
       "\n",
       "       [[117,  95,  90],\n",
       "        [115,  90,  86],\n",
       "        [111,  81,  88],\n",
       "        ...,\n",
       "        [113, 119,  79],\n",
       "        [ 96, 113,  63],\n",
       "        [149, 173,  98]]], dtype=uint8)"
      ]
     },
     "execution_count": 22,
     "metadata": {},
     "output_type": "execute_result"
    }
   ],
   "source": [
    "X_test[2500]"
   ]
  },
  {
   "cell_type": "code",
   "execution_count": 23,
   "id": "84cf503b-0e1c-481e-9938-d3f9cce975a2",
   "metadata": {},
   "outputs": [
    {
     "data": {
      "text/plain": [
       "<matplotlib.image.AxesImage at 0x1f8245902c0>"
      ]
     },
     "execution_count": 23,
     "metadata": {},
     "output_type": "execute_result"
    },
    {
     "data": {
      "image/png": "[encoded data removed]",
      "text/plain": [
       "<Figure size 640x480 with 1 Axes>"
      ]
     },
     "metadata": {},
     "output_type": "display_data"
    }
   ],
   "source": [
    "plt.imshow(X_test[2500])"
   ]
  },
  {
   "cell_type": "code",
   "execution_count": 24,
   "id": "173ad728-6453-4d7d-86e8-32d5307d27b3",
   "metadata": {},
   "outputs": [
    {
     "data": {
      "text/plain": [
       "array([4], dtype=uint8)"
      ]
     },
     "execution_count": 24,
     "metadata": {},
     "output_type": "execute_result"
    }
   ],
   "source": [
    "y_test[2500]"
   ]
  },
  {
   "cell_type": "code",
   "execution_count": 25,
   "id": "20454af8-47b8-4d0a-975b-665d9903c5db",
   "metadata": {},
   "outputs": [
    {
     "data": {
      "text/plain": [
       "'Deer'"
      ]
     },
     "execution_count": 25,
     "metadata": {},
     "output_type": "execute_result"
    }
   ],
   "source": [
    "names[4]"
   ]
  },
  {
   "cell_type": "code",
   "execution_count": 26,
   "id": "2281ee49-70f0-4dc7-9c1f-6addd30794c1",
   "metadata": {},
   "outputs": [
    {
     "data": {
      "text/plain": [
       "array([[[129, 164, 191],\n",
       "        [122, 158, 187],\n",
       "        [125, 158, 183],\n",
       "        ...,\n",
       "        [132, 165, 188],\n",
       "        [135, 162, 178],\n",
       "        [145, 161, 172]],\n",
       "\n",
       "       [[134, 164, 189],\n",
       "        [129, 158, 181],\n",
       "        [123, 145, 162],\n",
       "        ...,\n",
       "        [139, 166, 187],\n",
       "        [146, 169, 185],\n",
       "        [153, 170, 184]],\n",
       "\n",
       "       [[132, 167, 194],\n",
       "        [133, 166, 192],\n",
       "        [119, 145, 165],\n",
       "        ...,\n",
       "        [156, 167, 185],\n",
       "        [162, 166, 183],\n",
       "        [171, 171, 185]],\n",
       "\n",
       "       ...,\n",
       "\n",
       "       [[ 68,  69,  72],\n",
       "        [ 71,  71,  71],\n",
       "        [ 63,  62,  53],\n",
       "        ...,\n",
       "        [ 96,  92,  90],\n",
       "        [ 99,  98,  96],\n",
       "        [104, 103, 101]],\n",
       "\n",
       "       [[ 67,  68,  73],\n",
       "        [ 69,  69,  71],\n",
       "        [ 63,  61,  54],\n",
       "        ...,\n",
       "        [ 86,  83,  80],\n",
       "        [ 93,  92,  89],\n",
       "        [ 99,  98,  94]],\n",
       "\n",
       "       [[ 66,  67,  73],\n",
       "        [ 65,  64,  68],\n",
       "        [ 58,  56,  51],\n",
       "        ...,\n",
       "        [ 82,  81,  76],\n",
       "        [ 83,  82,  76],\n",
       "        [ 88,  88,  82]]], dtype=uint8)"
      ]
     },
     "execution_count": 26,
     "metadata": {},
     "output_type": "execute_result"
    }
   ],
   "source": [
    "X_test[5500]"
   ]
  },
  {
   "cell_type": "code",
   "execution_count": 28,
   "id": "1346f40d-4ae4-49fd-a74c-7135ad9450df",
   "metadata": {},
   "outputs": [
    {
     "data": {
      "text/plain": [
       "<matplotlib.image.AxesImage at 0x1f824779670>"
      ]
     },
     "execution_count": 28,
     "metadata": {},
     "output_type": "execute_result"
    },
    {
     "data": {
      "image/png": "[encoded data removed]",
      "text/plain": [
       "<Figure size 640x480 with 1 Axes>"
      ]
     },
     "metadata": {},
     "output_type": "display_data"
    }
   ],
   "source": [
    "plt.imshow(X_test[5500])"
   ]
  },
  {
   "cell_type": "code",
   "execution_count": 29,
   "id": "8cfc7a48-1105-4432-b27d-96bbb3585c3e",
   "metadata": {},
   "outputs": [
    {
     "data": {
      "text/plain": [
       "array([8], dtype=uint8)"
      ]
     },
     "execution_count": 29,
     "metadata": {},
     "output_type": "execute_result"
    }
   ],
   "source": [
    "y_test[5500]"
   ]
  },
  {
   "cell_type": "code",
   "execution_count": 30,
   "id": "a19a14b1-091c-4859-84ca-c6b7f88c6cc2",
   "metadata": {},
   "outputs": [
    {
     "data": {
      "text/plain": [
       "'Ship'"
      ]
     },
     "execution_count": 30,
     "metadata": {},
     "output_type": "execute_result"
    }
   ],
   "source": [
    "names[8]"
   ]
  },
  {
   "cell_type": "markdown",
   "id": "566f30c4-2a27-42e5-8cad-52a6b744c2fe",
   "metadata": {},
   "source": [
    "### Scaling"
   ]
  },
  {
   "cell_type": "code",
   "execution_count": 31,
   "id": "809f3d00-0de6-4d3a-a9b0-caa59340a3e9",
   "metadata": {},
   "outputs": [],
   "source": [
    "X_train_scale = X_train/250.0"
   ]
  },
  {
   "cell_type": "code",
   "execution_count": 32,
   "id": "7b5848ee-217a-48e7-ad95-64ba2df10122",
   "metadata": {},
   "outputs": [],
   "source": [
    "X_test_scale = X_test/250.0"
   ]
  },
  {
   "cell_type": "code",
   "execution_count": 33,
   "id": "b96f2f7a-0ce1-41cf-b5d2-f1fa4e41a305",
   "metadata": {},
   "outputs": [
    {
     "data": {
      "text/plain": [
       "255"
      ]
     },
     "execution_count": 33,
     "metadata": {},
     "output_type": "execute_result"
    }
   ],
   "source": [
    "X_train.max()"
   ]
  },
  {
   "cell_type": "code",
   "execution_count": 34,
   "id": "ebc03b2e-bf01-4992-8e52-d4f74c8f6071",
   "metadata": {},
   "outputs": [
    {
     "data": {
      "text/plain": [
       "0"
      ]
     },
     "execution_count": 34,
     "metadata": {},
     "output_type": "execute_result"
    }
   ],
   "source": [
    "X_train.min()\n"
   ]
  },
  {
   "cell_type": "code",
   "execution_count": 35,
   "id": "6582afce-3059-4253-8d25-01aba58380ba",
   "metadata": {},
   "outputs": [
    {
     "data": {
      "text/plain": [
       "1.02"
      ]
     },
     "execution_count": 35,
     "metadata": {},
     "output_type": "execute_result"
    }
   ],
   "source": [
    "X_train_scale.max()"
   ]
  },
  {
   "cell_type": "code",
   "execution_count": 36,
   "id": "b52bdaa6-300a-47e4-993a-994801286da9",
   "metadata": {},
   "outputs": [
    {
     "data": {
      "text/plain": [
       "0.0"
      ]
     },
     "execution_count": 36,
     "metadata": {},
     "output_type": "execute_result"
    }
   ],
   "source": [
    "X_test_scale.min()"
   ]
  },
  {
   "cell_type": "code",
   "execution_count": 37,
   "id": "b42e1f7c-918a-4bfb-84bc-734136d8e41e",
   "metadata": {},
   "outputs": [
    {
     "data": {
      "text/plain": [
       "(255, 1.02)"
      ]
     },
     "execution_count": 37,
     "metadata": {},
     "output_type": "execute_result"
    }
   ],
   "source": [
    "X_test.max(), X_test_scale.max()"
   ]
  },
  {
   "cell_type": "code",
   "execution_count": 39,
   "id": "6229b659-a4f9-4881-aac8-acc8ef90f5c5",
   "metadata": {},
   "outputs": [
    {
     "data": {
      "text/plain": [
       "(0.0, 0)"
      ]
     },
     "execution_count": 39,
     "metadata": {},
     "output_type": "execute_result"
    }
   ],
   "source": [
    "X_test_scale.min(),X_test.min()"
   ]
  },
  {
   "cell_type": "markdown",
   "id": "59251b68-d919-4ce5-b01f-7c7fef043b28",
   "metadata": {},
   "source": [
    "### Model Building"
   ]
  },
  {
   "cell_type": "code",
   "execution_count": 42,
   "id": "4f7b6373-cd70-4aba-b4ba-a7b849f30603",
   "metadata": {},
   "outputs": [],
   "source": [
    "import warnings"
   ]
  },
  {
   "cell_type": "code",
   "execution_count": 43,
   "id": "fa93c5ef-11e3-409a-b15d-87c50a018651",
   "metadata": {},
   "outputs": [],
   "source": [
    "warnings.filterwarnings(\"ignore\")"
   ]
  },
  {
   "cell_type": "code",
   "execution_count": 52,
   "id": "f90e1fd6-8e90-4993-aecf-095ba5afd53f",
   "metadata": {},
   "outputs": [],
   "source": [
    "seq_model = Sequential()"
   ]
  },
  {
   "cell_type": "code",
   "execution_count": 53,
   "id": "f4539338-bbf6-4ba9-a77f-2c6309950c6e",
   "metadata": {},
   "outputs": [],
   "source": [
    "seq_model.add(Conv2D(64,(3,3),strides=(1,1), padding = \"valid\", activation = \"relu\",input_shape =(32,32,3)))\n",
    "seq_model.add(MaxPooling2D(pool_size=(2,2), padding=\"valid\"))\n",
    "seq_model.add(Dropout(0.20))"
   ]
  },
  {
   "cell_type": "code",
   "execution_count": 54,
   "id": "15bd3f9e-9bc8-4c83-9260-e1bdd377f0c7",
   "metadata": {},
   "outputs": [],
   "source": [
    "seq_model.add(Conv2D(128,(3,3), strides=(1,1), padding =\"valid\", activation=\"relu\"))\n",
    "seq_model.add(MaxPooling2D(pool_size=(2,2), padding=\"valid\"))\n",
    "seq_model.add(Dropout(0.20))"
   ]
  },
  {
   "cell_type": "code",
   "execution_count": 55,
   "id": "29f5aed5-3b6e-45f4-af4d-8b3db013352e",
   "metadata": {},
   "outputs": [],
   "source": [
    "seq_model.add(Conv2D(256,(3,3), strides=(1,1), padding =\"valid\", activation=\"relu\"))\n",
    "seq_model.add(MaxPooling2D(pool_size=(2,2), padding=\"valid\"))\n",
    "seq_model.add(Dropout(0.20))"
   ]
  },
  {
   "cell_type": "code",
   "execution_count": 56,
   "id": "1ce9ae0a-4bb0-4829-86b7-a25fe52f81b6",
   "metadata": {},
   "outputs": [],
   "source": [
    "seq_model.add(Flatten() )"
   ]
  },
  {
   "cell_type": "code",
   "execution_count": 57,
   "id": "9802812d-1b68-4392-9036-4671d00e6c25",
   "metadata": {},
   "outputs": [],
   "source": [
    "seq_model.add(Dense(512, activation= \"relu\") )"
   ]
  },
  {
   "cell_type": "code",
   "execution_count": 58,
   "id": "8904ecd5-9e5b-49b9-afe0-2becca9c90d0",
   "metadata": {},
   "outputs": [],
   "source": [
    "seq_model.add(Dense(1024, activation= \"relu\") )"
   ]
  },
  {
   "cell_type": "code",
   "execution_count": 59,
   "id": "f6455815-e746-4c50-8c5b-76815ed32cf9",
   "metadata": {},
   "outputs": [],
   "source": [
    "seq_model.add(Dense(10, activation= \"softmax\") )"
   ]
  },
  {
   "cell_type": "code",
   "execution_count": 60,
   "id": "a4fb6213-d8d4-416c-84b1-8546147efe26",
   "metadata": {},
   "outputs": [
    {
     "data": {
      "text/html": [
       "<pre style=\"white-space:pre;overflow-x:auto;line-height:normal;font-family:Menlo,'DejaVu Sans Mono',consolas,'Courier New',monospace\"><span style=\"font-weight: bold\">Model: \"sequential_3\"</span>\n",
       "</pre>\n"
      ],
      "text/plain": [
       "\u001b[1mModel: \"sequential_3\"\u001b[0m\n"
      ]
     },
     "metadata": {},
     "output_type": "display_data"
    },
    {
     "data": {
      "text/html": [
       "<pre style=\"white-space:pre;overflow-x:auto;line-height:normal;font-family:Menlo,'DejaVu Sans Mono',consolas,'Courier New',monospace\">┏━━━━━━━━━━━━━━━━━━━━━━━━━━━━━━━━━━━━━━┳━━━━━━━━━━━━━━━━━━━━━━━━━━━━━┳━━━━━━━━━━━━━━━━━┓\n",
       "┃<span style=\"font-weight: bold\"> Layer (type)                         </span>┃<span style=\"font-weight: bold\"> Output Shape                </span>┃<span style=\"font-weight: bold\">         Param # </span>┃\n",
       "┡━━━━━━━━━━━━━━━━━━━━━━━━━━━━━━━━━━━━━━╇━━━━━━━━━━━━━━━━━━━━━━━━━━━━━╇━━━━━━━━━━━━━━━━━┩\n",
       "│ conv2d_5 (<span style=\"color: #0087ff; text-decoration-color: #0087ff\">Conv2D</span>)                    │ (<span style=\"color: #00d7ff; text-decoration-color: #00d7ff\">None</span>, <span style=\"color: #00af00; text-decoration-color: #00af00\">30</span>, <span style=\"color: #00af00; text-decoration-color: #00af00\">30</span>, <span style=\"color: #00af00; text-decoration-color: #00af00\">64</span>)          │           <span style=\"color: #00af00; text-decoration-color: #00af00\">1,792</span> │\n",
       "├──────────────────────────────────────┼─────────────────────────────┼─────────────────┤\n",
       "│ max_pooling2d_5 (<span style=\"color: #0087ff; text-decoration-color: #0087ff\">MaxPooling2D</span>)       │ (<span style=\"color: #00d7ff; text-decoration-color: #00d7ff\">None</span>, <span style=\"color: #00af00; text-decoration-color: #00af00\">15</span>, <span style=\"color: #00af00; text-decoration-color: #00af00\">15</span>, <span style=\"color: #00af00; text-decoration-color: #00af00\">64</span>)          │               <span style=\"color: #00af00; text-decoration-color: #00af00\">0</span> │\n",
       "├──────────────────────────────────────┼─────────────────────────────┼─────────────────┤\n",
       "│ dropout_1 (<span style=\"color: #0087ff; text-decoration-color: #0087ff\">Dropout</span>)                  │ (<span style=\"color: #00d7ff; text-decoration-color: #00d7ff\">None</span>, <span style=\"color: #00af00; text-decoration-color: #00af00\">15</span>, <span style=\"color: #00af00; text-decoration-color: #00af00\">15</span>, <span style=\"color: #00af00; text-decoration-color: #00af00\">64</span>)          │               <span style=\"color: #00af00; text-decoration-color: #00af00\">0</span> │\n",
       "├──────────────────────────────────────┼─────────────────────────────┼─────────────────┤\n",
       "│ conv2d_6 (<span style=\"color: #0087ff; text-decoration-color: #0087ff\">Conv2D</span>)                    │ (<span style=\"color: #00d7ff; text-decoration-color: #00d7ff\">None</span>, <span style=\"color: #00af00; text-decoration-color: #00af00\">13</span>, <span style=\"color: #00af00; text-decoration-color: #00af00\">13</span>, <span style=\"color: #00af00; text-decoration-color: #00af00\">128</span>)         │          <span style=\"color: #00af00; text-decoration-color: #00af00\">73,856</span> │\n",
       "├──────────────────────────────────────┼─────────────────────────────┼─────────────────┤\n",
       "│ max_pooling2d_6 (<span style=\"color: #0087ff; text-decoration-color: #0087ff\">MaxPooling2D</span>)       │ (<span style=\"color: #00d7ff; text-decoration-color: #00d7ff\">None</span>, <span style=\"color: #00af00; text-decoration-color: #00af00\">6</span>, <span style=\"color: #00af00; text-decoration-color: #00af00\">6</span>, <span style=\"color: #00af00; text-decoration-color: #00af00\">128</span>)           │               <span style=\"color: #00af00; text-decoration-color: #00af00\">0</span> │\n",
       "├──────────────────────────────────────┼─────────────────────────────┼─────────────────┤\n",
       "│ dropout_2 (<span style=\"color: #0087ff; text-decoration-color: #0087ff\">Dropout</span>)                  │ (<span style=\"color: #00d7ff; text-decoration-color: #00d7ff\">None</span>, <span style=\"color: #00af00; text-decoration-color: #00af00\">6</span>, <span style=\"color: #00af00; text-decoration-color: #00af00\">6</span>, <span style=\"color: #00af00; text-decoration-color: #00af00\">128</span>)           │               <span style=\"color: #00af00; text-decoration-color: #00af00\">0</span> │\n",
       "├──────────────────────────────────────┼─────────────────────────────┼─────────────────┤\n",
       "│ conv2d_7 (<span style=\"color: #0087ff; text-decoration-color: #0087ff\">Conv2D</span>)                    │ (<span style=\"color: #00d7ff; text-decoration-color: #00d7ff\">None</span>, <span style=\"color: #00af00; text-decoration-color: #00af00\">4</span>, <span style=\"color: #00af00; text-decoration-color: #00af00\">4</span>, <span style=\"color: #00af00; text-decoration-color: #00af00\">256</span>)           │         <span style=\"color: #00af00; text-decoration-color: #00af00\">295,168</span> │\n",
       "├──────────────────────────────────────┼─────────────────────────────┼─────────────────┤\n",
       "│ max_pooling2d_7 (<span style=\"color: #0087ff; text-decoration-color: #0087ff\">MaxPooling2D</span>)       │ (<span style=\"color: #00d7ff; text-decoration-color: #00d7ff\">None</span>, <span style=\"color: #00af00; text-decoration-color: #00af00\">2</span>, <span style=\"color: #00af00; text-decoration-color: #00af00\">2</span>, <span style=\"color: #00af00; text-decoration-color: #00af00\">256</span>)           │               <span style=\"color: #00af00; text-decoration-color: #00af00\">0</span> │\n",
       "├──────────────────────────────────────┼─────────────────────────────┼─────────────────┤\n",
       "│ dropout_3 (<span style=\"color: #0087ff; text-decoration-color: #0087ff\">Dropout</span>)                  │ (<span style=\"color: #00d7ff; text-decoration-color: #00d7ff\">None</span>, <span style=\"color: #00af00; text-decoration-color: #00af00\">2</span>, <span style=\"color: #00af00; text-decoration-color: #00af00\">2</span>, <span style=\"color: #00af00; text-decoration-color: #00af00\">256</span>)           │               <span style=\"color: #00af00; text-decoration-color: #00af00\">0</span> │\n",
       "├──────────────────────────────────────┼─────────────────────────────┼─────────────────┤\n",
       "│ flatten (<span style=\"color: #0087ff; text-decoration-color: #0087ff\">Flatten</span>)                    │ (<span style=\"color: #00d7ff; text-decoration-color: #00d7ff\">None</span>, <span style=\"color: #00af00; text-decoration-color: #00af00\">1024</span>)                │               <span style=\"color: #00af00; text-decoration-color: #00af00\">0</span> │\n",
       "├──────────────────────────────────────┼─────────────────────────────┼─────────────────┤\n",
       "│ dense (<span style=\"color: #0087ff; text-decoration-color: #0087ff\">Dense</span>)                        │ (<span style=\"color: #00d7ff; text-decoration-color: #00d7ff\">None</span>, <span style=\"color: #00af00; text-decoration-color: #00af00\">512</span>)                 │         <span style=\"color: #00af00; text-decoration-color: #00af00\">524,800</span> │\n",
       "├──────────────────────────────────────┼─────────────────────────────┼─────────────────┤\n",
       "│ dense_1 (<span style=\"color: #0087ff; text-decoration-color: #0087ff\">Dense</span>)                      │ (<span style=\"color: #00d7ff; text-decoration-color: #00d7ff\">None</span>, <span style=\"color: #00af00; text-decoration-color: #00af00\">1024</span>)                │         <span style=\"color: #00af00; text-decoration-color: #00af00\">525,312</span> │\n",
       "├──────────────────────────────────────┼─────────────────────────────┼─────────────────┤\n",
       "│ dense_2 (<span style=\"color: #0087ff; text-decoration-color: #0087ff\">Dense</span>)                      │ (<span style=\"color: #00d7ff; text-decoration-color: #00d7ff\">None</span>, <span style=\"color: #00af00; text-decoration-color: #00af00\">10</span>)                  │          <span style=\"color: #00af00; text-decoration-color: #00af00\">10,250</span> │\n",
       "└──────────────────────────────────────┴─────────────────────────────┴─────────────────┘\n",
       "</pre>\n"
      ],
      "text/plain": [
       "┏━━━━━━━━━━━━━━━━━━━━━━━━━━━━━━━━━━━━━━┳━━━━━━━━━━━━━━━━━━━━━━━━━━━━━┳━━━━━━━━━━━━━━━━━┓\n",
       "┃\u001b[1m \u001b[0m\u001b[1mLayer (type)                        \u001b[0m\u001b[1m \u001b[0m┃\u001b[1m \u001b[0m\u001b[1mOutput Shape               \u001b[0m\u001b[1m \u001b[0m┃\u001b[1m \u001b[0m\u001b[1m        Param #\u001b[0m\u001b[1m \u001b[0m┃\n",
       "┡━━━━━━━━━━━━━━━━━━━━━━━━━━━━━━━━━━━━━━╇━━━━━━━━━━━━━━━━━━━━━━━━━━━━━╇━━━━━━━━━━━━━━━━━┩\n",
       "│ conv2d_5 (\u001b[38;5;33mConv2D\u001b[0m)                    │ (\u001b[38;5;45mNone\u001b[0m, \u001b[38;5;34m30\u001b[0m, \u001b[38;5;34m30\u001b[0m, \u001b[38;5;34m64\u001b[0m)          │           \u001b[38;5;34m1,792\u001b[0m │\n",
       "├──────────────────────────────────────┼─────────────────────────────┼─────────────────┤\n",
       "│ max_pooling2d_5 (\u001b[38;5;33mMaxPooling2D\u001b[0m)       │ (\u001b[38;5;45mNone\u001b[0m, \u001b[38;5;34m15\u001b[0m, \u001b[38;5;34m15\u001b[0m, \u001b[38;5;34m64\u001b[0m)          │               \u001b[38;5;34m0\u001b[0m │\n",
       "├──────────────────────────────────────┼─────────────────────────────┼─────────────────┤\n",
       "│ dropout_1 (\u001b[38;5;33mDropout\u001b[0m)                  │ (\u001b[38;5;45mNone\u001b[0m, \u001b[38;5;34m15\u001b[0m, \u001b[38;5;34m15\u001b[0m, \u001b[38;5;34m64\u001b[0m)          │               \u001b[38;5;34m0\u001b[0m │\n",
       "├──────────────────────────────────────┼─────────────────────────────┼─────────────────┤\n",
       "│ conv2d_6 (\u001b[38;5;33mConv2D\u001b[0m)                    │ (\u001b[38;5;45mNone\u001b[0m, \u001b[38;5;34m13\u001b[0m, \u001b[38;5;34m13\u001b[0m, \u001b[38;5;34m128\u001b[0m)         │          \u001b[38;5;34m73,856\u001b[0m │\n",
       "├──────────────────────────────────────┼─────────────────────────────┼─────────────────┤\n",
       "│ max_pooling2d_6 (\u001b[38;5;33mMaxPooling2D\u001b[0m)       │ (\u001b[38;5;45mNone\u001b[0m, \u001b[38;5;34m6\u001b[0m, \u001b[38;5;34m6\u001b[0m, \u001b[38;5;34m128\u001b[0m)           │               \u001b[38;5;34m0\u001b[0m │\n",
       "├──────────────────────────────────────┼─────────────────────────────┼─────────────────┤\n",
       "│ dropout_2 (\u001b[38;5;33mDropout\u001b[0m)                  │ (\u001b[38;5;45mNone\u001b[0m, \u001b[38;5;34m6\u001b[0m, \u001b[38;5;34m6\u001b[0m, \u001b[38;5;34m128\u001b[0m)           │               \u001b[38;5;34m0\u001b[0m │\n",
       "├──────────────────────────────────────┼─────────────────────────────┼─────────────────┤\n",
       "│ conv2d_7 (\u001b[38;5;33mConv2D\u001b[0m)                    │ (\u001b[38;5;45mNone\u001b[0m, \u001b[38;5;34m4\u001b[0m, \u001b[38;5;34m4\u001b[0m, \u001b[38;5;34m256\u001b[0m)           │         \u001b[38;5;34m295,168\u001b[0m │\n",
       "├──────────────────────────────────────┼─────────────────────────────┼─────────────────┤\n",
       "│ max_pooling2d_7 (\u001b[38;5;33mMaxPooling2D\u001b[0m)       │ (\u001b[38;5;45mNone\u001b[0m, \u001b[38;5;34m2\u001b[0m, \u001b[38;5;34m2\u001b[0m, \u001b[38;5;34m256\u001b[0m)           │               \u001b[38;5;34m0\u001b[0m │\n",
       "├──────────────────────────────────────┼─────────────────────────────┼─────────────────┤\n",
       "│ dropout_3 (\u001b[38;5;33mDropout\u001b[0m)                  │ (\u001b[38;5;45mNone\u001b[0m, \u001b[38;5;34m2\u001b[0m, \u001b[38;5;34m2\u001b[0m, \u001b[38;5;34m256\u001b[0m)           │               \u001b[38;5;34m0\u001b[0m │\n",
       "├──────────────────────────────────────┼─────────────────────────────┼─────────────────┤\n",
       "│ flatten (\u001b[38;5;33mFlatten\u001b[0m)                    │ (\u001b[38;5;45mNone\u001b[0m, \u001b[38;5;34m1024\u001b[0m)                │               \u001b[38;5;34m0\u001b[0m │\n",
       "├──────────────────────────────────────┼─────────────────────────────┼─────────────────┤\n",
       "│ dense (\u001b[38;5;33mDense\u001b[0m)                        │ (\u001b[38;5;45mNone\u001b[0m, \u001b[38;5;34m512\u001b[0m)                 │         \u001b[38;5;34m524,800\u001b[0m │\n",
       "├──────────────────────────────────────┼─────────────────────────────┼─────────────────┤\n",
       "│ dense_1 (\u001b[38;5;33mDense\u001b[0m)                      │ (\u001b[38;5;45mNone\u001b[0m, \u001b[38;5;34m1024\u001b[0m)                │         \u001b[38;5;34m525,312\u001b[0m │\n",
       "├──────────────────────────────────────┼─────────────────────────────┼─────────────────┤\n",
       "│ dense_2 (\u001b[38;5;33mDense\u001b[0m)                      │ (\u001b[38;5;45mNone\u001b[0m, \u001b[38;5;34m10\u001b[0m)                  │          \u001b[38;5;34m10,250\u001b[0m │\n",
       "└──────────────────────────────────────┴─────────────────────────────┴─────────────────┘\n"
      ]
     },
     "metadata": {},
     "output_type": "display_data"
    },
    {
     "data": {
      "text/html": [
       "<pre style=\"white-space:pre;overflow-x:auto;line-height:normal;font-family:Menlo,'DejaVu Sans Mono',consolas,'Courier New',monospace\"><span style=\"font-weight: bold\"> Total params: </span><span style=\"color: #00af00; text-decoration-color: #00af00\">1,431,178</span> (5.46 MB)\n",
       "</pre>\n"
      ],
      "text/plain": [
       "\u001b[1m Total params: \u001b[0m\u001b[38;5;34m1,431,178\u001b[0m (5.46 MB)\n"
      ]
     },
     "metadata": {},
     "output_type": "display_data"
    },
    {
     "data": {
      "text/html": [
       "<pre style=\"white-space:pre;overflow-x:auto;line-height:normal;font-family:Menlo,'DejaVu Sans Mono',consolas,'Courier New',monospace\"><span style=\"font-weight: bold\"> Trainable params: </span><span style=\"color: #00af00; text-decoration-color: #00af00\">1,431,178</span> (5.46 MB)\n",
       "</pre>\n"
      ],
      "text/plain": [
       "\u001b[1m Trainable params: \u001b[0m\u001b[38;5;34m1,431,178\u001b[0m (5.46 MB)\n"
      ]
     },
     "metadata": {},
     "output_type": "display_data"
    },
    {
     "data": {
      "text/html": [
       "<pre style=\"white-space:pre;overflow-x:auto;line-height:normal;font-family:Menlo,'DejaVu Sans Mono',consolas,'Courier New',monospace\"><span style=\"font-weight: bold\"> Non-trainable params: </span><span style=\"color: #00af00; text-decoration-color: #00af00\">0</span> (0.00 B)\n",
       "</pre>\n"
      ],
      "text/plain": [
       "\u001b[1m Non-trainable params: \u001b[0m\u001b[38;5;34m0\u001b[0m (0.00 B)\n"
      ]
     },
     "metadata": {},
     "output_type": "display_data"
    }
   ],
   "source": [
    "seq_model.summary()"
   ]
  },
  {
   "cell_type": "code",
   "execution_count": 68,
   "id": "8c33a7f6-b197-4594-9f34-e5a4652d9cf7",
   "metadata": {},
   "outputs": [],
   "source": [
    "seq_model.compile( optimizer = \"adam\",\n",
    "                 loss = \"sparse_categorical_crossentropy\",\n",
    "                 metrics = [\"accuracy\"])"
   ]
  },
  {
   "cell_type": "code",
   "execution_count": 69,
   "id": "795aeaaa-f0d5-4cfb-88a6-d2f16bcd39b7",
   "metadata": {},
   "outputs": [
    {
     "data": {
      "text/plain": [
       "<Sequential name=sequential_3, built=True>"
      ]
     },
     "execution_count": 69,
     "metadata": {},
     "output_type": "execute_result"
    }
   ],
   "source": [
    "seq_model"
   ]
  },
  {
   "cell_type": "code",
   "execution_count": 70,
   "id": "60609223-20d3-4782-9707-2abce1df7b53",
   "metadata": {},
   "outputs": [
    {
     "name": "stdout",
     "output_type": "stream",
     "text": [
      "Epoch 1/20\n",
      "\u001b[1m1563/1563\u001b[0m \u001b[32m━━━━━━━━━━━━━━━━━━━━\u001b[0m\u001b[37m\u001b[0m \u001b[1m165s\u001b[0m 101ms/step - accuracy: 0.3207 - loss: 1.8105\n",
      "Epoch 2/20\n",
      "\u001b[1m1563/1563\u001b[0m \u001b[32m━━━━━━━━━━━━━━━━━━━━\u001b[0m\u001b[37m\u001b[0m \u001b[1m158s\u001b[0m 101ms/step - accuracy: 0.5595 - loss: 1.2384\n",
      "Epoch 3/20\n",
      "\u001b[1m1563/1563\u001b[0m \u001b[32m━━━━━━━━━━━━━━━━━━━━\u001b[0m\u001b[37m\u001b[0m \u001b[1m207s\u001b[0m 133ms/step - accuracy: 0.6658 - loss: 0.9526\n",
      "Epoch 5/20\n",
      "\u001b[1m1563/1563\u001b[0m \u001b[32m━━━━━━━━━━━━━━━━━━━━\u001b[0m\u001b[37m\u001b[0m \u001b[1m172s\u001b[0m 110ms/step - accuracy: 0.6833 - loss: 0.8898\n",
      "Epoch 6/20\n",
      "\u001b[1m1563/1563\u001b[0m \u001b[32m━━━━━━━━━━━━━━━━━━━━\u001b[0m\u001b[37m\u001b[0m \u001b[1m202s\u001b[0m 110ms/step - accuracy: 0.7057 - loss: 0.8282\n",
      "Epoch 7/20\n",
      "\u001b[1m1563/1563\u001b[0m \u001b[32m━━━━━━━━━━━━━━━━━━━━\u001b[0m\u001b[37m\u001b[0m \u001b[1m187s\u001b[0m 120ms/step - accuracy: 0.7258 - loss: 0.7710\n",
      "Epoch 8/20\n",
      "\u001b[1m1563/1563\u001b[0m \u001b[32m━━━━━━━━━━━━━━━━━━━━\u001b[0m\u001b[37m\u001b[0m \u001b[1m181s\u001b[0m 116ms/step - accuracy: 0.7386 - loss: 0.7369\n",
      "Epoch 9/20\n",
      "\u001b[1m1563/1563\u001b[0m \u001b[32m━━━━━━━━━━━━━━━━━━━━\u001b[0m\u001b[37m\u001b[0m \u001b[1m182s\u001b[0m 102ms/step - accuracy: 0.7518 - loss: 0.6987\n",
      "Epoch 10/20\n",
      "\u001b[1m1563/1563\u001b[0m \u001b[32m━━━━━━━━━━━━━━━━━━━━\u001b[0m\u001b[37m\u001b[0m \u001b[1m164s\u001b[0m 105ms/step - accuracy: 0.7600 - loss: 0.6732\n",
      "Epoch 11/20\n",
      "\u001b[1m1563/1563\u001b[0m \u001b[32m━━━━━━━━━━━━━━━━━━━━\u001b[0m\u001b[37m\u001b[0m \u001b[1m169s\u001b[0m 108ms/step - accuracy: 0.7681 - loss: 0.6540\n",
      "Epoch 12/20\n",
      "\u001b[1m1563/1563\u001b[0m \u001b[32m━━━━━━━━━━━━━━━━━━━━\u001b[0m\u001b[37m\u001b[0m \u001b[1m169s\u001b[0m 108ms/step - accuracy: 0.7787 - loss: 0.6176\n",
      "Epoch 13/20\n",
      "\u001b[1m1563/1563\u001b[0m \u001b[32m━━━━━━━━━━━━━━━━━━━━\u001b[0m\u001b[37m\u001b[0m \u001b[1m177s\u001b[0m 113ms/step - accuracy: 0.7820 - loss: 0.6097\n",
      "Epoch 14/20\n",
      "\u001b[1m1563/1563\u001b[0m \u001b[32m━━━━━━━━━━━━━━━━━━━━\u001b[0m\u001b[37m\u001b[0m \u001b[1m233s\u001b[0m 133ms/step - accuracy: 0.7921 - loss: 0.5923\n",
      "Epoch 15/20\n",
      "\u001b[1m1563/1563\u001b[0m \u001b[32m━━━━━━━━━━━━━━━━━━━━\u001b[0m\u001b[37m\u001b[0m \u001b[1m219s\u001b[0m 106ms/step - accuracy: 0.7994 - loss: 0.5625\n",
      "Epoch 16/20\n",
      "\u001b[1m1563/1563\u001b[0m \u001b[32m━━━━━━━━━━━━━━━━━━━━\u001b[0m\u001b[37m\u001b[0m \u001b[1m166s\u001b[0m 106ms/step - accuracy: 0.8024 - loss: 0.5533\n",
      "Epoch 17/20\n",
      "\u001b[1m1563/1563\u001b[0m \u001b[32m━━━━━━━━━━━━━━━━━━━━\u001b[0m\u001b[37m\u001b[0m \u001b[1m161s\u001b[0m 103ms/step - accuracy: 0.8096 - loss: 0.5365\n",
      "Epoch 18/20\n",
      "\u001b[1m1563/1563\u001b[0m \u001b[32m━━━━━━━━━━━━━━━━━━━━\u001b[0m\u001b[37m\u001b[0m \u001b[1m161s\u001b[0m 103ms/step - accuracy: 0.8143 - loss: 0.5334\n",
      "Epoch 19/20\n",
      "\u001b[1m1563/1563\u001b[0m \u001b[32m━━━━━━━━━━━━━━━━━━━━\u001b[0m\u001b[37m\u001b[0m \u001b[1m174s\u001b[0m 111ms/step - accuracy: 0.8170 - loss: 0.5180\n",
      "Epoch 20/20\n",
      "\u001b[1m1563/1563\u001b[0m \u001b[32m━━━━━━━━━━━━━━━━━━━━\u001b[0m\u001b[37m\u001b[0m \u001b[1m193s\u001b[0m 105ms/step - accuracy: 0.8172 - loss: 0.5205\n"
     ]
    },
    {
     "data": {
      "text/plain": [
       "<keras.src.callbacks.history.History at 0x1f88b21fce0>"
      ]
     },
     "execution_count": 70,
     "metadata": {},
     "output_type": "execute_result"
    }
   ],
   "source": [
    "seq_model.fit(X_train_scale,y_train, epochs = 20)"
   ]
  },
  {
   "cell_type": "code",
   "execution_count": 71,
   "id": "fa241746-079b-4781-b486-eb68fa7d98ed",
   "metadata": {},
   "outputs": [
    {
     "name": "stdout",
     "output_type": "stream",
     "text": [
      "\u001b[1m313/313\u001b[0m \u001b[32m━━━━━━━━━━━━━━━━━━━━\u001b[0m\u001b[37m\u001b[0m \u001b[1m10s\u001b[0m 28ms/step - accuracy: 0.4954 - loss: 196.9214\n"
     ]
    },
    {
     "data": {
      "text/plain": [
       "[197.08648681640625, 0.49540001153945923]"
      ]
     },
     "execution_count": 71,
     "metadata": {},
     "output_type": "execute_result"
    }
   ],
   "source": [
    "seq_model.evaluate(X_test,y_test)"
   ]
  },
  {
   "cell_type": "code",
   "execution_count": null,
   "id": "76f62d08-12f0-46d3-8b37-dbd05064b01e",
   "metadata": {},
   "outputs": [],
   "source": []
  }
 ],
 "metadata": {
  "kernelspec": {
   "display_name": "Python 3 (ipykernel)",
   "language": "python",
   "name": "python3"
  },
  "language_info": {
   "codemirror_mode": {
    "name": "ipython",
    "version": 3
   },
   "file_extension": ".py",
   "mimetype": "text/x-python",
   "name": "python",
   "nbconvert_exporter": "python",
   "pygments_lexer": "ipython3",
   "version": "3.12.4"
  }
 },
 "nbformat": 4,
 "nbformat_minor": 5
}
