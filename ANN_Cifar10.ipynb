{
 "cells": [
  {
   "cell_type": "code",
   "execution_count": null,
   "id": "ef463bb0-507c-420d-9312-fb0f0e593ad3",
   "metadata": {},
   "outputs": [],
   "source": []
  },
  {
   "cell_type": "code",
   "execution_count": 15,
   "id": "053df794-d3db-4c58-8579-0ebf0eaf19d0",
   "metadata": {},
   "outputs": [],
   "source": [
    "import numpy as np"
   ]
  },
  {
   "cell_type": "code",
   "execution_count": 16,
   "id": "bac7f6a6-6cb8-4cc1-a83e-87c2d3d15386",
   "metadata": {},
   "outputs": [],
   "source": [
    "import pandas as pd"
   ]
  },
  {
   "cell_type": "code",
   "execution_count": 17,
   "id": "cf57e24e-8c41-4e76-8f9b-4b22e8ca2377",
   "metadata": {},
   "outputs": [],
   "source": [
    "import matplotlib.pyplot as plt"
   ]
  },
  {
   "cell_type": "code",
   "execution_count": 18,
   "id": "12977c5f-1ad4-49a7-8453-d00ea62d1045",
   "metadata": {},
   "outputs": [],
   "source": [
    "import tensorflow as tf"
   ]
  },
  {
   "cell_type": "code",
   "execution_count": 19,
   "id": "ad2c38bd-1f24-4576-b086-061b599346e2",
   "metadata": {},
   "outputs": [],
   "source": [
    "from tensorflow.keras.datasets import cifar10"
   ]
  },
  {
   "cell_type": "code",
   "execution_count": 20,
   "id": "13e0f29b-f145-4fde-a251-6f91b72603ba",
   "metadata": {},
   "outputs": [],
   "source": [
    "(X_train,y_train),(X_test,y_test) = cifar10.load_data()"
   ]
  },
  {
   "cell_type": "code",
   "execution_count": 21,
   "id": "514247b7-862a-4698-a315-a4bb4317394c",
   "metadata": {},
   "outputs": [
    {
     "data": {
      "text/plain": [
       "(50000, 32, 32, 3)"
      ]
     },
     "execution_count": 21,
     "metadata": {},
     "output_type": "execute_result"
    }
   ],
   "source": [
    "X_train.shape"
   ]
  },
  {
   "cell_type": "code",
   "execution_count": 22,
   "id": "8b2de50c-442c-40c8-b081-67248b435261",
   "metadata": {},
   "outputs": [
    {
     "data": {
      "text/plain": [
       "(10000, 32, 32, 3)"
      ]
     },
     "execution_count": 22,
     "metadata": {},
     "output_type": "execute_result"
    }
   ],
   "source": [
    "X_test.shape"
   ]
  },
  {
   "cell_type": "code",
   "execution_count": 23,
   "id": "21ef628d-da84-4e9c-8114-3c766470cfbf",
   "metadata": {},
   "outputs": [
    {
     "data": {
      "text/plain": [
       "(50000, 1)"
      ]
     },
     "execution_count": 23,
     "metadata": {},
     "output_type": "execute_result"
    }
   ],
   "source": [
    "y_train.shape"
   ]
  },
  {
   "cell_type": "code",
   "execution_count": 24,
   "id": "8d12b1c6-2196-43d8-bfdb-94edf4e23bb8",
   "metadata": {},
   "outputs": [
    {
     "data": {
      "text/plain": [
       "(10000, 1)"
      ]
     },
     "execution_count": 24,
     "metadata": {},
     "output_type": "execute_result"
    }
   ],
   "source": [
    "y_test.shape"
   ]
  },
  {
   "cell_type": "code",
   "execution_count": 25,
   "id": "c5bc4ef2-1e18-4483-849b-a8a2d2d5fffe",
   "metadata": {},
   "outputs": [],
   "source": [
    "image = [\"Airplane\",\"Automobile\", \"Bird\",\"Car\",\"Deer\",\"Dog\",\"Frog\",\"Horse\",\"Ship\",\"Truck\"]"
   ]
  },
  {
   "cell_type": "code",
   "execution_count": 15,
   "id": "67366396-abb2-436a-ae35-de3f9f8cc0b7",
   "metadata": {},
   "outputs": [
    {
     "data": {
      "text/plain": [
       "['Airplane',\n",
       " 'Automobile',\n",
       " 'Bird',\n",
       " 'Car',\n",
       " 'Deer',\n",
       " 'Dog',\n",
       " 'Frog',\n",
       " 'Horse',\n",
       " 'Ship',\n",
       " 'Truck']"
      ]
     },
     "execution_count": 15,
     "metadata": {},
     "output_type": "execute_result"
    }
   ],
   "source": [
    "image"
   ]
  },
  {
   "cell_type": "code",
   "execution_count": 26,
   "id": "305e36eb-bee2-4219-a807-4d47748ccb30",
   "metadata": {},
   "outputs": [
    {
     "data": {
      "text/plain": [
       "array([[[ 86, 138, 179],\n",
       "        [ 78, 116, 147],\n",
       "        [ 56,  76,  95],\n",
       "        ...,\n",
       "        [ 66, 115, 155],\n",
       "        [ 63, 111, 151],\n",
       "        [ 63, 112, 152]],\n",
       "\n",
       "       [[ 85, 141, 177],\n",
       "        [ 67,  97, 124],\n",
       "        [ 35,  32,  41],\n",
       "        ...,\n",
       "        [ 69, 118, 158],\n",
       "        [ 65, 114, 154],\n",
       "        [ 65, 114, 154]],\n",
       "\n",
       "       [[ 88, 141, 185],\n",
       "        [ 72, 106, 138],\n",
       "        [ 43,  42,  49],\n",
       "        ...,\n",
       "        [ 71, 120, 160],\n",
       "        [ 70, 119, 159],\n",
       "        [ 69, 118, 159]],\n",
       "\n",
       "       ...,\n",
       "\n",
       "       [[ 72, 129, 170],\n",
       "        [ 71, 128, 168],\n",
       "        [ 71, 127, 168],\n",
       "        ...,\n",
       "        [ 68, 121, 160],\n",
       "        [ 76, 120, 156],\n",
       "        [ 75, 121, 161]],\n",
       "\n",
       "       [[ 78, 134, 178],\n",
       "        [ 77, 131, 176],\n",
       "        [ 73, 128, 172],\n",
       "        ...,\n",
       "        [ 73, 123, 163],\n",
       "        [ 75, 122, 161],\n",
       "        [ 75, 123, 163]],\n",
       "\n",
       "       [[ 82, 136, 182],\n",
       "        [ 81, 134, 180],\n",
       "        [ 78, 131, 177],\n",
       "        ...,\n",
       "        [ 75, 123, 163],\n",
       "        [ 74, 123, 162],\n",
       "        [ 75, 123, 163]]], dtype=uint8)"
      ]
     },
     "execution_count": 26,
     "metadata": {},
     "output_type": "execute_result"
    }
   ],
   "source": [
    "X_train[4000]"
   ]
  },
  {
   "cell_type": "code",
   "execution_count": 27,
   "id": "1f0efa77-4ff7-4634-89ca-7072c001f42c",
   "metadata": {},
   "outputs": [
    {
     "data": {
      "text/plain": [
       "<matplotlib.image.AxesImage at 0x274f0da74d0>"
      ]
     },
     "execution_count": 27,
     "metadata": {},
     "output_type": "execute_result"
    },
    {
     "data": {
      "image/png": "[encoded data removed]",
      "text/plain": [
       "<Figure size 640x480 with 1 Axes>"
      ]
     },
     "metadata": {},
     "output_type": "display_data"
    }
   ],
   "source": [
    "plt.imshow(X_train[4000])"
   ]
  },
  {
   "cell_type": "code",
   "execution_count": 28,
   "id": "8ae1929b-2eb3-4b9f-8280-2319d9e0c850",
   "metadata": {},
   "outputs": [
    {
     "data": {
      "text/plain": [
       "array([5], dtype=uint8)"
      ]
     },
     "execution_count": 28,
     "metadata": {},
     "output_type": "execute_result"
    }
   ],
   "source": [
    "y_train[4000]"
   ]
  },
  {
   "cell_type": "code",
   "execution_count": 31,
   "id": "97dce76b-972a-497a-bdbc-b9c3052df227",
   "metadata": {},
   "outputs": [
    {
     "data": {
      "text/plain": [
       "'Dog'"
      ]
     },
     "execution_count": 31,
     "metadata": {},
     "output_type": "execute_result"
    }
   ],
   "source": [
    "image[5]"
   ]
  },
  {
   "cell_type": "code",
   "execution_count": 32,
   "id": "1cc006b4-92ba-479f-9e1d-04d4993e888d",
   "metadata": {},
   "outputs": [
    {
     "data": {
      "text/plain": [
       "(10000, 32, 32, 3)"
      ]
     },
     "execution_count": 32,
     "metadata": {},
     "output_type": "execute_result"
    }
   ],
   "source": [
    "X_test.shape"
   ]
  },
  {
   "cell_type": "code",
   "execution_count": 33,
   "id": "e710142b-25cc-4f68-bf94-114fe7f67ea3",
   "metadata": {},
   "outputs": [
    {
     "data": {
      "text/plain": [
       "array([[[255, 255, 255],\n",
       "        [255, 255, 255],\n",
       "        [255, 255, 255],\n",
       "        ...,\n",
       "        [255, 255, 255],\n",
       "        [255, 255, 255],\n",
       "        [255, 255, 255]],\n",
       "\n",
       "       [[255, 255, 255],\n",
       "        [254, 254, 254],\n",
       "        [255, 255, 255],\n",
       "        ...,\n",
       "        [254, 254, 254],\n",
       "        [254, 254, 254],\n",
       "        [254, 254, 254]],\n",
       "\n",
       "       [[255, 255, 255],\n",
       "        [255, 255, 255],\n",
       "        [255, 255, 255],\n",
       "        ...,\n",
       "        [255, 255, 255],\n",
       "        [255, 255, 255],\n",
       "        [255, 255, 255]],\n",
       "\n",
       "       ...,\n",
       "\n",
       "       [[255, 255, 255],\n",
       "        [254, 254, 254],\n",
       "        [254, 254, 254],\n",
       "        ...,\n",
       "        [247, 247, 247],\n",
       "        [250, 250, 250],\n",
       "        [254, 254, 254]],\n",
       "\n",
       "       [[255, 255, 255],\n",
       "        [255, 255, 255],\n",
       "        [255, 255, 255],\n",
       "        ...,\n",
       "        [255, 255, 255],\n",
       "        [255, 255, 255],\n",
       "        [255, 255, 255]],\n",
       "\n",
       "       [[255, 255, 255],\n",
       "        [255, 255, 255],\n",
       "        [255, 255, 255],\n",
       "        ...,\n",
       "        [254, 254, 254],\n",
       "        [255, 255, 255],\n",
       "        [255, 255, 255]]], dtype=uint8)"
      ]
     },
     "execution_count": 33,
     "metadata": {},
     "output_type": "execute_result"
    }
   ],
   "source": [
    "X_test[5432]"
   ]
  },
  {
   "cell_type": "code",
   "execution_count": 34,
   "id": "9f103c40-69a2-4e6c-9c98-3c2f42555b91",
   "metadata": {},
   "outputs": [
    {
     "data": {
      "text/plain": [
       "<matplotlib.image.AxesImage at 0x274836c0ce0>"
      ]
     },
     "execution_count": 34,
     "metadata": {},
     "output_type": "execute_result"
    },
    {
     "data": {
      "image/png": "[encoded data removed]",
      "text/plain": [
       "<Figure size 640x480 with 1 Axes>"
      ]
     },
     "metadata": {},
     "output_type": "display_data"
    }
   ],
   "source": [
    "plt.imshow(X_test[5432])"
   ]
  },
  {
   "cell_type": "code",
   "execution_count": 35,
   "id": "8cddd8d2-b067-4278-a893-d4dbb7689b18",
   "metadata": {},
   "outputs": [
    {
     "data": {
      "text/plain": [
       "array([9], dtype=uint8)"
      ]
     },
     "execution_count": 35,
     "metadata": {},
     "output_type": "execute_result"
    }
   ],
   "source": [
    "y_test[5432]"
   ]
  },
  {
   "cell_type": "code",
   "execution_count": 36,
   "id": "8d2cd664-ce31-4292-9540-5f45a2eaa29e",
   "metadata": {},
   "outputs": [
    {
     "data": {
      "text/plain": [
       "'Truck'"
      ]
     },
     "execution_count": 36,
     "metadata": {},
     "output_type": "execute_result"
    }
   ],
   "source": [
    "image[9]"
   ]
  },
  {
   "cell_type": "markdown",
   "id": "8bfa5d20-58ac-4d27-9c8d-32a83f2e024b",
   "metadata": {},
   "source": [
    "### Scaling"
   ]
  },
  {
   "cell_type": "code",
   "execution_count": 37,
   "id": "dafb4945-1304-4ace-9a67-3fcfdb848f07",
   "metadata": {},
   "outputs": [
    {
     "data": {
      "text/plain": [
       "255"
      ]
     },
     "execution_count": 37,
     "metadata": {},
     "output_type": "execute_result"
    }
   ],
   "source": [
    "X_train.max()"
   ]
  },
  {
   "cell_type": "code",
   "execution_count": 38,
   "id": "18ca39a3-ec67-4f83-aacb-54181362a635",
   "metadata": {},
   "outputs": [
    {
     "data": {
      "text/plain": [
       "0"
      ]
     },
     "execution_count": 38,
     "metadata": {},
     "output_type": "execute_result"
    }
   ],
   "source": [
    "X_train.min()"
   ]
  },
  {
   "cell_type": "code",
   "execution_count": 39,
   "id": "c35534dd-8a36-4dc6-812d-dd739a34d1bd",
   "metadata": {},
   "outputs": [
    {
     "data": {
      "text/plain": [
       "255"
      ]
     },
     "execution_count": 39,
     "metadata": {},
     "output_type": "execute_result"
    }
   ],
   "source": [
    "X_test.max()"
   ]
  },
  {
   "cell_type": "code",
   "execution_count": 40,
   "id": "fa953f11-be97-46e5-a859-52e09db06038",
   "metadata": {},
   "outputs": [
    {
     "data": {
      "text/plain": [
       "0"
      ]
     },
     "execution_count": 40,
     "metadata": {},
     "output_type": "execute_result"
    }
   ],
   "source": [
    "X_test.min()"
   ]
  },
  {
   "cell_type": "code",
   "execution_count": 41,
   "id": "eab872a0-3efb-44a8-924a-4ff51029b001",
   "metadata": {},
   "outputs": [],
   "source": [
    "X_train_scale = X_train/255.0"
   ]
  },
  {
   "cell_type": "code",
   "execution_count": 42,
   "id": "92aa542d-e13b-49f5-90c2-4be39094de7f",
   "metadata": {},
   "outputs": [],
   "source": [
    "X_test_scale = X_test/255.0"
   ]
  },
  {
   "cell_type": "code",
   "execution_count": 43,
   "id": "b293959d-8feb-43c7-9680-e76c7e2a1d0b",
   "metadata": {},
   "outputs": [
    {
     "data": {
      "text/plain": [
       "(50000, 32, 32, 3)"
      ]
     },
     "execution_count": 43,
     "metadata": {},
     "output_type": "execute_result"
    }
   ],
   "source": [
    "X_train_scale.shape"
   ]
  },
  {
   "cell_type": "code",
   "execution_count": 44,
   "id": "16b45b91-6c64-45ac-9bc8-eb5185a569c7",
   "metadata": {},
   "outputs": [
    {
     "data": {
      "text/plain": [
       "(50000, 32, 32, 3)"
      ]
     },
     "execution_count": 44,
     "metadata": {},
     "output_type": "execute_result"
    }
   ],
   "source": [
    "X_train.shape"
   ]
  },
  {
   "cell_type": "code",
   "execution_count": 45,
   "id": "e5a290b7-91da-4727-93cd-cdf9db9ab423",
   "metadata": {},
   "outputs": [
    {
     "data": {
      "text/plain": [
       "1.0"
      ]
     },
     "execution_count": 45,
     "metadata": {},
     "output_type": "execute_result"
    }
   ],
   "source": [
    "X_train_scale.max()"
   ]
  },
  {
   "cell_type": "code",
   "execution_count": 46,
   "id": "e0f51ed8-5bba-42e2-9aed-ac107409195f",
   "metadata": {},
   "outputs": [
    {
     "data": {
      "text/plain": [
       "(10000, 32, 32, 3)"
      ]
     },
     "execution_count": 46,
     "metadata": {},
     "output_type": "execute_result"
    }
   ],
   "source": [
    "X_test_scale.shape"
   ]
  },
  {
   "cell_type": "code",
   "execution_count": 47,
   "id": "6e0f0155-baca-4094-9668-42ecaf91b6b9",
   "metadata": {},
   "outputs": [
    {
     "data": {
      "text/plain": [
       "1.0"
      ]
     },
     "execution_count": 47,
     "metadata": {},
     "output_type": "execute_result"
    }
   ],
   "source": [
    "X_test_scale.max()"
   ]
  },
  {
   "cell_type": "code",
   "execution_count": 48,
   "id": "02671ec0-414d-447d-a5ec-eb51a8061209",
   "metadata": {},
   "outputs": [
    {
     "data": {
      "text/plain": [
       "0.0"
      ]
     },
     "execution_count": 48,
     "metadata": {},
     "output_type": "execute_result"
    }
   ],
   "source": [
    "X_test_scale.min()"
   ]
  },
  {
   "cell_type": "markdown",
   "id": "eb6da86d-33ae-4821-8cab-939a0c0d5774",
   "metadata": {},
   "source": [
    "### Model Building"
   ]
  },
  {
   "cell_type": "code",
   "execution_count": null,
   "id": "6eed01c2-5d03-4a8a-80a5-0d8832df3a4c",
   "metadata": {},
   "outputs": [],
   "source": []
  },
  {
   "cell_type": "code",
   "execution_count": 70,
   "id": "264928a2-7239-4a59-b338-d5d7d43169ca",
   "metadata": {},
   "outputs": [],
   "source": [
    "import warnings"
   ]
  },
  {
   "cell_type": "code",
   "execution_count": 71,
   "id": "b8018f63-8f5a-4466-a9cf-67150884d25e",
   "metadata": {},
   "outputs": [],
   "source": [
    "warnings.filterwarnings(\"ignore\")"
   ]
  },
  {
   "cell_type": "code",
   "execution_count": 72,
   "id": "7231406d-20ba-4572-b583-fef84e205538",
   "metadata": {},
   "outputs": [],
   "source": [
    "from tensorflow.keras.models import Sequential"
   ]
  },
  {
   "cell_type": "code",
   "execution_count": 73,
   "id": "1b15affa-5d30-4295-a513-9ef6e5e1b151",
   "metadata": {},
   "outputs": [],
   "source": [
    "from tensorflow.keras.layers import Dense,Flatten"
   ]
  },
  {
   "cell_type": "code",
   "execution_count": 74,
   "id": "4909bbb4-e12c-4519-bd72-681770fec0fb",
   "metadata": {},
   "outputs": [],
   "source": [
    "smodel = Sequential()"
   ]
  },
  {
   "cell_type": "code",
   "execution_count": 75,
   "id": "cb853c87-70c4-45d0-90e3-c658e6d26872",
   "metadata": {},
   "outputs": [],
   "source": [
    "smodel.add(Flatten(input_shape = (32,32, 3) ) )"
   ]
  },
  {
   "cell_type": "code",
   "execution_count": 76,
   "id": "6a2e5575-dc6a-4122-a8f3-9fc6e491c276",
   "metadata": {},
   "outputs": [],
   "source": [
    "smodel.add(Dense(64, activation = \"relu\"))"
   ]
  },
  {
   "cell_type": "code",
   "execution_count": 77,
   "id": "94d29adb-d49f-4689-8971-29d407ca9a69",
   "metadata": {},
   "outputs": [],
   "source": [
    "smodel.add(Dense(128, activation = \"relu\"))"
   ]
  },
  {
   "cell_type": "code",
   "execution_count": 78,
   "id": "9128b0ed-1f9d-4985-a5e8-6c16499d455d",
   "metadata": {},
   "outputs": [],
   "source": [
    "smodel.add(Dense( 256, activation = \"relu\"))"
   ]
  },
  {
   "cell_type": "code",
   "execution_count": 79,
   "id": "a173d73a-ac5e-4faf-a010-397cf437824a",
   "metadata": {},
   "outputs": [],
   "source": [
    "smodel.add(Dense(10, activation= \"softmax\" ))"
   ]
  },
  {
   "cell_type": "code",
   "execution_count": 80,
   "id": "0319fd91-9744-4ffc-987b-7708f1f3c75d",
   "metadata": {},
   "outputs": [
    {
     "data": {
      "text/html": [
       "<pre style=\"white-space:pre;overflow-x:auto;line-height:normal;font-family:Menlo,'DejaVu Sans Mono',consolas,'Courier New',monospace\"><span style=\"font-weight: bold\">Model: \"sequential_2\"</span>\n",
       "</pre>\n"
      ],
      "text/plain": [
       "\u001b[1mModel: \"sequential_2\"\u001b[0m\n"
      ]
     },
     "metadata": {},
     "output_type": "display_data"
    },
    {
     "data": {
      "text/html": [
       "<pre style=\"white-space:pre;overflow-x:auto;line-height:normal;font-family:Menlo,'DejaVu Sans Mono',consolas,'Courier New',monospace\">┏━━━━━━━━━━━━━━━━━━━━━━━━━━━━━━━━━━━━━━┳━━━━━━━━━━━━━━━━━━━━━━━━━━━━━┳━━━━━━━━━━━━━━━━━┓\n",
       "┃<span style=\"font-weight: bold\"> Layer (type)                         </span>┃<span style=\"font-weight: bold\"> Output Shape                </span>┃<span style=\"font-weight: bold\">         Param # </span>┃\n",
       "┡━━━━━━━━━━━━━━━━━━━━━━━━━━━━━━━━━━━━━━╇━━━━━━━━━━━━━━━━━━━━━━━━━━━━━╇━━━━━━━━━━━━━━━━━┩\n",
       "│ flatten_3 (<span style=\"color: #0087ff; text-decoration-color: #0087ff\">Flatten</span>)                  │ (<span style=\"color: #00d7ff; text-decoration-color: #00d7ff\">None</span>, <span style=\"color: #00af00; text-decoration-color: #00af00\">3072</span>)                │               <span style=\"color: #00af00; text-decoration-color: #00af00\">0</span> │\n",
       "├──────────────────────────────────────┼─────────────────────────────┼─────────────────┤\n",
       "│ dense_8 (<span style=\"color: #0087ff; text-decoration-color: #0087ff\">Dense</span>)                      │ (<span style=\"color: #00d7ff; text-decoration-color: #00d7ff\">None</span>, <span style=\"color: #00af00; text-decoration-color: #00af00\">64</span>)                  │         <span style=\"color: #00af00; text-decoration-color: #00af00\">196,672</span> │\n",
       "├──────────────────────────────────────┼─────────────────────────────┼─────────────────┤\n",
       "│ dense_9 (<span style=\"color: #0087ff; text-decoration-color: #0087ff\">Dense</span>)                      │ (<span style=\"color: #00d7ff; text-decoration-color: #00d7ff\">None</span>, <span style=\"color: #00af00; text-decoration-color: #00af00\">128</span>)                 │           <span style=\"color: #00af00; text-decoration-color: #00af00\">8,320</span> │\n",
       "├──────────────────────────────────────┼─────────────────────────────┼─────────────────┤\n",
       "│ dense_10 (<span style=\"color: #0087ff; text-decoration-color: #0087ff\">Dense</span>)                     │ (<span style=\"color: #00d7ff; text-decoration-color: #00d7ff\">None</span>, <span style=\"color: #00af00; text-decoration-color: #00af00\">256</span>)                 │          <span style=\"color: #00af00; text-decoration-color: #00af00\">33,024</span> │\n",
       "├──────────────────────────────────────┼─────────────────────────────┼─────────────────┤\n",
       "│ dense_11 (<span style=\"color: #0087ff; text-decoration-color: #0087ff\">Dense</span>)                     │ (<span style=\"color: #00d7ff; text-decoration-color: #00d7ff\">None</span>, <span style=\"color: #00af00; text-decoration-color: #00af00\">10</span>)                  │           <span style=\"color: #00af00; text-decoration-color: #00af00\">2,570</span> │\n",
       "└──────────────────────────────────────┴─────────────────────────────┴─────────────────┘\n",
       "</pre>\n"
      ],
      "text/plain": [
       "┏━━━━━━━━━━━━━━━━━━━━━━━━━━━━━━━━━━━━━━┳━━━━━━━━━━━━━━━━━━━━━━━━━━━━━┳━━━━━━━━━━━━━━━━━┓\n",
       "┃\u001b[1m \u001b[0m\u001b[1mLayer (type)                        \u001b[0m\u001b[1m \u001b[0m┃\u001b[1m \u001b[0m\u001b[1mOutput Shape               \u001b[0m\u001b[1m \u001b[0m┃\u001b[1m \u001b[0m\u001b[1m        Param #\u001b[0m\u001b[1m \u001b[0m┃\n",
       "┡━━━━━━━━━━━━━━━━━━━━━━━━━━━━━━━━━━━━━━╇━━━━━━━━━━━━━━━━━━━━━━━━━━━━━╇━━━━━━━━━━━━━━━━━┩\n",
       "│ flatten_3 (\u001b[38;5;33mFlatten\u001b[0m)                  │ (\u001b[38;5;45mNone\u001b[0m, \u001b[38;5;34m3072\u001b[0m)                │               \u001b[38;5;34m0\u001b[0m │\n",
       "├──────────────────────────────────────┼─────────────────────────────┼─────────────────┤\n",
       "│ dense_8 (\u001b[38;5;33mDense\u001b[0m)                      │ (\u001b[38;5;45mNone\u001b[0m, \u001b[38;5;34m64\u001b[0m)                  │         \u001b[38;5;34m196,672\u001b[0m │\n",
       "├──────────────────────────────────────┼─────────────────────────────┼─────────────────┤\n",
       "│ dense_9 (\u001b[38;5;33mDense\u001b[0m)                      │ (\u001b[38;5;45mNone\u001b[0m, \u001b[38;5;34m128\u001b[0m)                 │           \u001b[38;5;34m8,320\u001b[0m │\n",
       "├──────────────────────────────────────┼─────────────────────────────┼─────────────────┤\n",
       "│ dense_10 (\u001b[38;5;33mDense\u001b[0m)                     │ (\u001b[38;5;45mNone\u001b[0m, \u001b[38;5;34m256\u001b[0m)                 │          \u001b[38;5;34m33,024\u001b[0m │\n",
       "├──────────────────────────────────────┼─────────────────────────────┼─────────────────┤\n",
       "│ dense_11 (\u001b[38;5;33mDense\u001b[0m)                     │ (\u001b[38;5;45mNone\u001b[0m, \u001b[38;5;34m10\u001b[0m)                  │           \u001b[38;5;34m2,570\u001b[0m │\n",
       "└──────────────────────────────────────┴─────────────────────────────┴─────────────────┘\n"
      ]
     },
     "metadata": {},
     "output_type": "display_data"
    },
    {
     "data": {
      "text/html": [
       "<pre style=\"white-space:pre;overflow-x:auto;line-height:normal;font-family:Menlo,'DejaVu Sans Mono',consolas,'Courier New',monospace\"><span style=\"font-weight: bold\"> Total params: </span><span style=\"color: #00af00; text-decoration-color: #00af00\">240,586</span> (939.79 KB)\n",
       "</pre>\n"
      ],
      "text/plain": [
       "\u001b[1m Total params: \u001b[0m\u001b[38;5;34m240,586\u001b[0m (939.79 KB)\n"
      ]
     },
     "metadata": {},
     "output_type": "display_data"
    },
    {
     "data": {
      "text/html": [
       "<pre style=\"white-space:pre;overflow-x:auto;line-height:normal;font-family:Menlo,'DejaVu Sans Mono',consolas,'Courier New',monospace\"><span style=\"font-weight: bold\"> Trainable params: </span><span style=\"color: #00af00; text-decoration-color: #00af00\">240,586</span> (939.79 KB)\n",
       "</pre>\n"
      ],
      "text/plain": [
       "\u001b[1m Trainable params: \u001b[0m\u001b[38;5;34m240,586\u001b[0m (939.79 KB)\n"
      ]
     },
     "metadata": {},
     "output_type": "display_data"
    },
    {
     "data": {
      "text/html": [
       "<pre style=\"white-space:pre;overflow-x:auto;line-height:normal;font-family:Menlo,'DejaVu Sans Mono',consolas,'Courier New',monospace\"><span style=\"font-weight: bold\"> Non-trainable params: </span><span style=\"color: #00af00; text-decoration-color: #00af00\">0</span> (0.00 B)\n",
       "</pre>\n"
      ],
      "text/plain": [
       "\u001b[1m Non-trainable params: \u001b[0m\u001b[38;5;34m0\u001b[0m (0.00 B)\n"
      ]
     },
     "metadata": {},
     "output_type": "display_data"
    }
   ],
   "source": [
    "smodel.summary()"
   ]
  },
  {
   "cell_type": "code",
   "execution_count": 82,
   "id": "8bb069ee-11c2-4ccd-b374-c6607df693d2",
   "metadata": {},
   "outputs": [],
   "source": [
    "smodel.compile( optimizer = \"adam\",\n",
    "               loss = \"sparse_categorical_crossentropy\",\n",
    "               metrics = [\"accuracy\"] )"
   ]
  },
  {
   "cell_type": "code",
   "execution_count": 83,
   "id": "835d42f5-a557-443c-935b-1d87be83e7bf",
   "metadata": {},
   "outputs": [
    {
     "name": "stdout",
     "output_type": "stream",
     "text": [
      "Epoch 1/20\n",
      "\u001b[1m1563/1563\u001b[0m \u001b[32m━━━━━━━━━━━━━━━━━━━━\u001b[0m\u001b[37m\u001b[0m \u001b[1m16s\u001b[0m 7ms/step - accuracy: 0.2636 - loss: 1.9913\n",
      "Epoch 2/20\n",
      "\u001b[1m1563/1563\u001b[0m \u001b[32m━━━━━━━━━━━━━━━━━━━━\u001b[0m\u001b[37m\u001b[0m \u001b[1m11s\u001b[0m 7ms/step - accuracy: 0.3547 - loss: 1.7808\n",
      "Epoch 3/20\n",
      "\u001b[1m1563/1563\u001b[0m \u001b[32m━━━━━━━━━━━━━━━━━━━━\u001b[0m\u001b[37m\u001b[0m \u001b[1m11s\u001b[0m 7ms/step - accuracy: 0.3678 - loss: 1.7444\n",
      "Epoch 4/20\n",
      "\u001b[1m1563/1563\u001b[0m \u001b[32m━━━━━━━━━━━━━━━━━━━━\u001b[0m\u001b[37m\u001b[0m \u001b[1m11s\u001b[0m 7ms/step - accuracy: 0.3823 - loss: 1.7094\n",
      "Epoch 5/20\n",
      "\u001b[1m1563/1563\u001b[0m \u001b[32m━━━━━━━━━━━━━━━━━━━━\u001b[0m\u001b[37m\u001b[0m \u001b[1m11s\u001b[0m 7ms/step - accuracy: 0.3949 - loss: 1.6818\n",
      "Epoch 6/20\n",
      "\u001b[1m1563/1563\u001b[0m \u001b[32m━━━━━━━━━━━━━━━━━━━━\u001b[0m\u001b[37m\u001b[0m \u001b[1m11s\u001b[0m 7ms/step - accuracy: 0.3975 - loss: 1.6610\n",
      "Epoch 7/20\n",
      "\u001b[1m1563/1563\u001b[0m \u001b[32m━━━━━━━━━━━━━━━━━━━━\u001b[0m\u001b[37m\u001b[0m \u001b[1m11s\u001b[0m 7ms/step - accuracy: 0.3993 - loss: 1.6637\n",
      "Epoch 8/20\n",
      "\u001b[1m1563/1563\u001b[0m \u001b[32m━━━━━━━━━━━━━━━━━━━━\u001b[0m\u001b[37m\u001b[0m \u001b[1m11s\u001b[0m 7ms/step - accuracy: 0.4110 - loss: 1.6299\n",
      "Epoch 9/20\n",
      "\u001b[1m1563/1563\u001b[0m \u001b[32m━━━━━━━━━━━━━━━━━━━━\u001b[0m\u001b[37m\u001b[0m \u001b[1m11s\u001b[0m 7ms/step - accuracy: 0.4142 - loss: 1.6165\n",
      "Epoch 10/20\n",
      "\u001b[1m1563/1563\u001b[0m \u001b[32m━━━━━━━━━━━━━━━━━━━━\u001b[0m\u001b[37m\u001b[0m \u001b[1m11s\u001b[0m 7ms/step - accuracy: 0.4297 - loss: 1.5803\n",
      "Epoch 11/20\n",
      "\u001b[1m1563/1563\u001b[0m \u001b[32m━━━━━━━━━━━━━━━━━━━━\u001b[0m\u001b[37m\u001b[0m \u001b[1m11s\u001b[0m 7ms/step - accuracy: 0.4302 - loss: 1.5743\n",
      "Epoch 12/20\n",
      "\u001b[1m1563/1563\u001b[0m \u001b[32m━━━━━━━━━━━━━━━━━━━━\u001b[0m\u001b[37m\u001b[0m \u001b[1m11s\u001b[0m 7ms/step - accuracy: 0.4377 - loss: 1.5628\n",
      "Epoch 13/20\n",
      "\u001b[1m1563/1563\u001b[0m \u001b[32m━━━━━━━━━━━━━━━━━━━━\u001b[0m\u001b[37m\u001b[0m \u001b[1m11s\u001b[0m 7ms/step - accuracy: 0.4380 - loss: 1.5546\n",
      "Epoch 14/20\n",
      "\u001b[1m1563/1563\u001b[0m \u001b[32m━━━━━━━━━━━━━━━━━━━━\u001b[0m\u001b[37m\u001b[0m \u001b[1m11s\u001b[0m 7ms/step - accuracy: 0.4428 - loss: 1.5492\n",
      "Epoch 15/20\n",
      "\u001b[1m1563/1563\u001b[0m \u001b[32m━━━━━━━━━━━━━━━━━━━━\u001b[0m\u001b[37m\u001b[0m \u001b[1m11s\u001b[0m 7ms/step - accuracy: 0.4449 - loss: 1.5330\n",
      "Epoch 16/20\n",
      "\u001b[1m1563/1563\u001b[0m \u001b[32m━━━━━━━━━━━━━━━━━━━━\u001b[0m\u001b[37m\u001b[0m \u001b[1m11s\u001b[0m 7ms/step - accuracy: 0.4441 - loss: 1.5307\n",
      "Epoch 17/20\n",
      "\u001b[1m1563/1563\u001b[0m \u001b[32m━━━━━━━━━━━━━━━━━━━━\u001b[0m\u001b[37m\u001b[0m \u001b[1m11s\u001b[0m 7ms/step - accuracy: 0.4482 - loss: 1.5277\n",
      "Epoch 18/20\n",
      "\u001b[1m1563/1563\u001b[0m \u001b[32m━━━━━━━━━━━━━━━━━━━━\u001b[0m\u001b[37m\u001b[0m \u001b[1m11s\u001b[0m 7ms/step - accuracy: 0.4512 - loss: 1.5192\n",
      "Epoch 19/20\n",
      "\u001b[1m1563/1563\u001b[0m \u001b[32m━━━━━━━━━━━━━━━━━━━━\u001b[0m\u001b[37m\u001b[0m \u001b[1m11s\u001b[0m 7ms/step - accuracy: 0.4602 - loss: 1.5023\n",
      "Epoch 20/20\n",
      "\u001b[1m1563/1563\u001b[0m \u001b[32m━━━━━━━━━━━━━━━━━━━━\u001b[0m\u001b[37m\u001b[0m \u001b[1m11s\u001b[0m 7ms/step - accuracy: 0.4528 - loss: 1.5100\n"
     ]
    },
    {
     "data": {
      "text/plain": [
       "<keras.src.callbacks.history.History at 0x2748479ba70>"
      ]
     },
     "execution_count": 83,
     "metadata": {},
     "output_type": "execute_result"
    }
   ],
   "source": [
    "smodel.fit(X_train_scale, y_train, epochs = 20)"
   ]
  },
  {
   "cell_type": "code",
   "execution_count": 84,
   "id": "e191e755-5c9a-4322-83c1-e8c5bfb9204f",
   "metadata": {},
   "outputs": [
    {
     "name": "stdout",
     "output_type": "stream",
     "text": [
      "\u001b[1m313/313\u001b[0m \u001b[32m━━━━━━━━━━━━━━━━━━━━\u001b[0m\u001b[37m\u001b[0m \u001b[1m2s\u001b[0m 4ms/step - accuracy: 0.4198 - loss: 1.6293\n"
     ]
    },
    {
     "data": {
      "text/plain": [
       "[1.6440439224243164, 0.4169999957084656]"
      ]
     },
     "execution_count": 84,
     "metadata": {},
     "output_type": "execute_result"
    }
   ],
   "source": [
    "smodel.evaluate(X_test_scale,y_test)"
   ]
  },
  {
   "cell_type": "markdown",
   "id": "509cba79-a9cd-4cb5-a6c6-cae11d11a041",
   "metadata": {},
   "source": [
    "### Prediction"
   ]
  },
  {
   "cell_type": "code",
   "execution_count": 85,
   "id": "0a593ddd-5052-4db7-8fc3-f940929b086b",
   "metadata": {},
   "outputs": [
    {
     "data": {
      "text/plain": [
       "array([[[0.94901961, 0.95294118, 0.98039216],\n",
       "        [0.94901961, 0.95294118, 0.98039216],\n",
       "        [0.95686275, 0.95686275, 0.98823529],\n",
       "        ...,\n",
       "        [0.96078431, 0.95686275, 0.97647059],\n",
       "        [0.96078431, 0.95686275, 0.97647059],\n",
       "        [0.95686275, 0.95686275, 0.97254902]],\n",
       "\n",
       "       [[0.96078431, 0.95294118, 0.98039216],\n",
       "        [0.96078431, 0.95294118, 0.98039216],\n",
       "        [0.96078431, 0.95686275, 0.98431373],\n",
       "        ...,\n",
       "        [0.96078431, 0.95686275, 0.97647059],\n",
       "        [0.96078431, 0.95686275, 0.97647059],\n",
       "        [0.95686275, 0.95294118, 0.97254902]],\n",
       "\n",
       "       [[0.96862745, 0.96078431, 0.98039216],\n",
       "        [0.96470588, 0.95686275, 0.97647059],\n",
       "        [0.96470588, 0.95686275, 0.97647059],\n",
       "        ...,\n",
       "        [0.96078431, 0.95686275, 0.97647059],\n",
       "        [0.96078431, 0.95686275, 0.97647059],\n",
       "        [0.96078431, 0.95294118, 0.97254902]],\n",
       "\n",
       "       ...,\n",
       "\n",
       "       [[0.43529412, 0.52941176, 0.56470588],\n",
       "        [0.42352941, 0.50196078, 0.54509804],\n",
       "        [0.44313725, 0.50980392, 0.55686275],\n",
       "        ...,\n",
       "        [0.43137255, 0.49803922, 0.52941176],\n",
       "        [0.4       , 0.46666667, 0.49803922],\n",
       "        [0.36470588, 0.43921569, 0.47058824]],\n",
       "\n",
       "       [[0.40392157, 0.49803922, 0.54117647],\n",
       "        [0.41176471, 0.49411765, 0.5372549 ],\n",
       "        [0.39607843, 0.47058824, 0.51372549],\n",
       "        ...,\n",
       "        [0.39215686, 0.45882353, 0.49411765],\n",
       "        [0.38431373, 0.45098039, 0.48235294],\n",
       "        [0.37647059, 0.45098039, 0.48235294]],\n",
       "\n",
       "       [[0.34509804, 0.44313725, 0.50196078],\n",
       "        [0.33333333, 0.42352941, 0.4745098 ],\n",
       "        [0.34509804, 0.42352941, 0.47058824],\n",
       "        ...,\n",
       "        [0.42352941, 0.49411765, 0.5372549 ],\n",
       "        [0.42352941, 0.49411765, 0.5372549 ],\n",
       "        [0.41176471, 0.48235294, 0.52941176]]])"
      ]
     },
     "execution_count": 85,
     "metadata": {},
     "output_type": "execute_result"
    }
   ],
   "source": [
    "X_train_scale[1000]"
   ]
  },
  {
   "cell_type": "code",
   "execution_count": 86,
   "id": "0766933d-4e1d-436f-b21c-27235c5e513f",
   "metadata": {},
   "outputs": [
    {
     "data": {
      "text/plain": [
       "(32, 32, 3)"
      ]
     },
     "execution_count": 86,
     "metadata": {},
     "output_type": "execute_result"
    }
   ],
   "source": [
    "X_train_scale[1000].shape"
   ]
  },
  {
   "cell_type": "code",
   "execution_count": 87,
   "id": "bc11193c-4d71-4155-a0bd-8f2ac6000aa9",
   "metadata": {},
   "outputs": [
    {
     "data": {
      "text/plain": [
       "(50000, 32, 32, 3)"
      ]
     },
     "execution_count": 87,
     "metadata": {},
     "output_type": "execute_result"
    }
   ],
   "source": [
    "X_train_scale.shape"
   ]
  },
  {
   "cell_type": "code",
   "execution_count": 88,
   "id": "dafe7074-83ea-4131-ad55-f2af0a59c661",
   "metadata": {},
   "outputs": [],
   "source": [
    "img = X_train_scale[1000].reshape( (1, ) + X_train_scale[1000].shape)"
   ]
  },
  {
   "cell_type": "code",
   "execution_count": 89,
   "id": "690ee01c-bb31-45c7-9da3-143bd13e8ba9",
   "metadata": {},
   "outputs": [
    {
     "data": {
      "text/plain": [
       "(1, 32, 32, 3)"
      ]
     },
     "execution_count": 89,
     "metadata": {},
     "output_type": "execute_result"
    }
   ],
   "source": [
    "img.shape"
   ]
  },
  {
   "cell_type": "code",
   "execution_count": 90,
   "id": "eafebeee-2855-4b91-ab5f-b029cda6921a",
   "metadata": {},
   "outputs": [
    {
     "name": "stdout",
     "output_type": "stream",
     "text": [
      "\u001b[1m1/1\u001b[0m \u001b[32m━━━━━━━━━━━━━━━━━━━━\u001b[0m\u001b[37m\u001b[0m \u001b[1m0s\u001b[0m 272ms/step\n"
     ]
    },
    {
     "data": {
      "text/plain": [
       "array([[0.0877115 , 0.22640507, 0.01086373, 0.00711706, 0.00670091,\n",
       "        0.00401286, 0.0015893 , 0.02650671, 0.08889975, 0.5401932 ]],\n",
       "      dtype=float32)"
      ]
     },
     "execution_count": 90,
     "metadata": {},
     "output_type": "execute_result"
    }
   ],
   "source": [
    "smodel.predict(img)"
   ]
  },
  {
   "cell_type": "code",
   "execution_count": 91,
   "id": "c4995f03-1e0d-45f5-95b6-9d75db01081f",
   "metadata": {},
   "outputs": [
    {
     "name": "stdout",
     "output_type": "stream",
     "text": [
      "\u001b[1m1/1\u001b[0m \u001b[32m━━━━━━━━━━━━━━━━━━━━\u001b[0m\u001b[37m\u001b[0m \u001b[1m0s\u001b[0m 80ms/step\n"
     ]
    },
    {
     "data": {
      "text/plain": [
       "9"
      ]
     },
     "execution_count": 91,
     "metadata": {},
     "output_type": "execute_result"
    }
   ],
   "source": [
    "np.argmax(smodel.predict(img))"
   ]
  },
  {
   "cell_type": "code",
   "execution_count": 92,
   "id": "e5fa6c49-abd9-4fdb-a1a4-0167c3c6bff1",
   "metadata": {},
   "outputs": [
    {
     "data": {
      "text/plain": [
       "'Truck'"
      ]
     },
     "execution_count": 92,
     "metadata": {},
     "output_type": "execute_result"
    }
   ],
   "source": [
    "image[9]"
   ]
  },
  {
   "cell_type": "code",
   "execution_count": null,
   "id": "f534439b-a4b5-4b76-a3cf-14539549a05e",
   "metadata": {},
   "outputs": [],
   "source": []
  },
  {
   "cell_type": "code",
   "execution_count": 94,
   "id": "2f9fca14-9a62-4aac-abe1-2fffd1920843",
   "metadata": {},
   "outputs": [
    {
     "data": {
      "text/plain": [
       "array([9], dtype=uint8)"
      ]
     },
     "execution_count": 94,
     "metadata": {},
     "output_type": "execute_result"
    }
   ],
   "source": [
    "y_train[1000]"
   ]
  },
  {
   "cell_type": "code",
   "execution_count": 95,
   "id": "03686770-faf9-41ef-bb1e-a6804b7176f9",
   "metadata": {},
   "outputs": [
    {
     "data": {
      "text/plain": [
       "<matplotlib.image.AxesImage at 0x274836cac60>"
      ]
     },
     "execution_count": 95,
     "metadata": {},
     "output_type": "execute_result"
    },
    {
     "data": {
      "image/png": "[encoded data removed]",
      "text/plain": [
       "<Figure size 640x480 with 1 Axes>"
      ]
     },
     "metadata": {},
     "output_type": "display_data"
    }
   ],
   "source": [
    "plt.imshow(X_train_scale[1000])"
   ]
  },
  {
   "cell_type": "markdown",
   "id": "f2218069-d6fd-4a98-9773-01e846bb240c",
   "metadata": {},
   "source": [
    "### Prediction 2"
   ]
  },
  {
   "cell_type": "code",
   "execution_count": 96,
   "id": "fae92de5-b965-40e8-a3b4-ba4fe1f8ea5c",
   "metadata": {},
   "outputs": [
    {
     "data": {
      "text/plain": [
       "array([[[0.2       , 0.25490196, 0.28627451],\n",
       "        [0.30588235, 0.34117647, 0.37647059],\n",
       "        [0.27843137, 0.3254902 , 0.35686275],\n",
       "        ...,\n",
       "        [0.27058824, 0.23137255, 0.20392157],\n",
       "        [0.25882353, 0.25098039, 0.21176471],\n",
       "        [0.24705882, 0.25098039, 0.20784314]],\n",
       "\n",
       "       [[0.50980392, 0.50980392, 0.49411765],\n",
       "        [0.77647059, 0.76862745, 0.75294118],\n",
       "        [0.55294118, 0.56078431, 0.54117647],\n",
       "        ...,\n",
       "        [0.24705882, 0.20784314, 0.18039216],\n",
       "        [0.22745098, 0.21960784, 0.18039216],\n",
       "        [0.21568627, 0.22352941, 0.18039216]],\n",
       "\n",
       "       [[0.28627451, 0.25490196, 0.21568627],\n",
       "        [0.31372549, 0.28235294, 0.24313725],\n",
       "        [0.27843137, 0.28235294, 0.23137255],\n",
       "        ...,\n",
       "        [0.22745098, 0.18823529, 0.16078431],\n",
       "        [0.20784314, 0.2       , 0.16470588],\n",
       "        [0.19607843, 0.20392157, 0.16078431]],\n",
       "\n",
       "       ...,\n",
       "\n",
       "       [[0.49411765, 0.45490196, 0.39215686],\n",
       "        [0.4627451 , 0.42745098, 0.36470588],\n",
       "        [0.49411765, 0.45490196, 0.39607843],\n",
       "        ...,\n",
       "        [0.82745098, 0.76862745, 0.66666667],\n",
       "        [0.82352941, 0.76862745, 0.6627451 ],\n",
       "        [0.76862745, 0.71372549, 0.60784314]],\n",
       "\n",
       "       [[0.74901961, 0.69803922, 0.6       ],\n",
       "        [0.76470588, 0.71372549, 0.61568627],\n",
       "        [0.77254902, 0.7254902 , 0.62352941],\n",
       "        ...,\n",
       "        [0.82352941, 0.76470588, 0.66666667],\n",
       "        [0.79215686, 0.73333333, 0.63529412],\n",
       "        [0.77254902, 0.71764706, 0.61960784]],\n",
       "\n",
       "       [[0.8       , 0.72941176, 0.59607843],\n",
       "        [0.79215686, 0.7254902 , 0.59607843],\n",
       "        [0.78431373, 0.71764706, 0.58431373],\n",
       "        ...,\n",
       "        [0.79215686, 0.73333333, 0.64313725],\n",
       "        [0.71764706, 0.65490196, 0.56862745],\n",
       "        [0.77647059, 0.71764706, 0.62745098]]])"
      ]
     },
     "execution_count": 96,
     "metadata": {},
     "output_type": "execute_result"
    }
   ],
   "source": [
    "X_test_scale[5000]"
   ]
  },
  {
   "cell_type": "code",
   "execution_count": 98,
   "id": "15130806-865a-4bc3-9563-150c94f79271",
   "metadata": {},
   "outputs": [
    {
     "data": {
      "text/plain": [
       "(32, 32, 3)"
      ]
     },
     "execution_count": 98,
     "metadata": {},
     "output_type": "execute_result"
    }
   ],
   "source": [
    "X_test_scale[5000].shape"
   ]
  },
  {
   "cell_type": "code",
   "execution_count": 99,
   "id": "a0e46013-3880-4612-a557-9ec8eefae965",
   "metadata": {},
   "outputs": [],
   "source": [
    "img2 = X_test_scale[5000].reshape ( (1,) + X_test_scale[5000].shape)"
   ]
  },
  {
   "cell_type": "code",
   "execution_count": 100,
   "id": "d3d7bd66-49fe-4073-8d7e-0f379febdd6e",
   "metadata": {},
   "outputs": [
    {
     "data": {
      "text/plain": [
       "array([[[[0.2       , 0.25490196, 0.28627451],\n",
       "         [0.30588235, 0.34117647, 0.37647059],\n",
       "         [0.27843137, 0.3254902 , 0.35686275],\n",
       "         ...,\n",
       "         [0.27058824, 0.23137255, 0.20392157],\n",
       "         [0.25882353, 0.25098039, 0.21176471],\n",
       "         [0.24705882, 0.25098039, 0.20784314]],\n",
       "\n",
       "        [[0.50980392, 0.50980392, 0.49411765],\n",
       "         [0.77647059, 0.76862745, 0.75294118],\n",
       "         [0.55294118, 0.56078431, 0.54117647],\n",
       "         ...,\n",
       "         [0.24705882, 0.20784314, 0.18039216],\n",
       "         [0.22745098, 0.21960784, 0.18039216],\n",
       "         [0.21568627, 0.22352941, 0.18039216]],\n",
       "\n",
       "        [[0.28627451, 0.25490196, 0.21568627],\n",
       "         [0.31372549, 0.28235294, 0.24313725],\n",
       "         [0.27843137, 0.28235294, 0.23137255],\n",
       "         ...,\n",
       "         [0.22745098, 0.18823529, 0.16078431],\n",
       "         [0.20784314, 0.2       , 0.16470588],\n",
       "         [0.19607843, 0.20392157, 0.16078431]],\n",
       "\n",
       "        ...,\n",
       "\n",
       "        [[0.49411765, 0.45490196, 0.39215686],\n",
       "         [0.4627451 , 0.42745098, 0.36470588],\n",
       "         [0.49411765, 0.45490196, 0.39607843],\n",
       "         ...,\n",
       "         [0.82745098, 0.76862745, 0.66666667],\n",
       "         [0.82352941, 0.76862745, 0.6627451 ],\n",
       "         [0.76862745, 0.71372549, 0.60784314]],\n",
       "\n",
       "        [[0.74901961, 0.69803922, 0.6       ],\n",
       "         [0.76470588, 0.71372549, 0.61568627],\n",
       "         [0.77254902, 0.7254902 , 0.62352941],\n",
       "         ...,\n",
       "         [0.82352941, 0.76470588, 0.66666667],\n",
       "         [0.79215686, 0.73333333, 0.63529412],\n",
       "         [0.77254902, 0.71764706, 0.61960784]],\n",
       "\n",
       "        [[0.8       , 0.72941176, 0.59607843],\n",
       "         [0.79215686, 0.7254902 , 0.59607843],\n",
       "         [0.78431373, 0.71764706, 0.58431373],\n",
       "         ...,\n",
       "         [0.79215686, 0.73333333, 0.64313725],\n",
       "         [0.71764706, 0.65490196, 0.56862745],\n",
       "         [0.77647059, 0.71764706, 0.62745098]]]])"
      ]
     },
     "execution_count": 100,
     "metadata": {},
     "output_type": "execute_result"
    }
   ],
   "source": [
    "img2 "
   ]
  },
  {
   "cell_type": "code",
   "execution_count": 101,
   "id": "fac138e3-1255-4082-bec7-5b4c46f365b6",
   "metadata": {},
   "outputs": [
    {
     "name": "stdout",
     "output_type": "stream",
     "text": [
      "\u001b[1m1/1\u001b[0m \u001b[32m━━━━━━━━━━━━━━━━━━━━\u001b[0m\u001b[37m\u001b[0m \u001b[1m0s\u001b[0m 89ms/step\n"
     ]
    },
    {
     "data": {
      "text/plain": [
       "array([[1.5491289e-02, 9.3579181e-02, 1.4427609e-02, 4.6916723e-02,\n",
       "        2.8422328e-02, 2.6351176e-02, 2.5426096e-04, 7.6710665e-01,\n",
       "        2.5284759e-04, 7.1980436e-03]], dtype=float32)"
      ]
     },
     "execution_count": 101,
     "metadata": {},
     "output_type": "execute_result"
    }
   ],
   "source": [
    "smodel.predict(img2)"
   ]
  },
  {
   "cell_type": "code",
   "execution_count": 102,
   "id": "8af5c49c-ea6f-4fef-8c2d-7bd75e49aca5",
   "metadata": {},
   "outputs": [
    {
     "name": "stdout",
     "output_type": "stream",
     "text": [
      "\u001b[1m1/1\u001b[0m \u001b[32m━━━━━━━━━━━━━━━━━━━━\u001b[0m\u001b[37m\u001b[0m \u001b[1m0s\u001b[0m 111ms/step\n"
     ]
    },
    {
     "data": {
      "text/plain": [
       "7"
      ]
     },
     "execution_count": 102,
     "metadata": {},
     "output_type": "execute_result"
    }
   ],
   "source": [
    "np.argmax(smodel.predict(img2))"
   ]
  },
  {
   "cell_type": "code",
   "execution_count": 103,
   "id": "dc771ac4-8dc1-4a70-af7d-e96f6f6d9aeb",
   "metadata": {},
   "outputs": [
    {
     "data": {
      "text/plain": [
       "'Horse'"
      ]
     },
     "execution_count": 103,
     "metadata": {},
     "output_type": "execute_result"
    }
   ],
   "source": [
    "image[7]"
   ]
  },
  {
   "cell_type": "code",
   "execution_count": 104,
   "id": "232278a5-2d51-43fb-a96c-0ec06caa8bb5",
   "metadata": {},
   "outputs": [
    {
     "data": {
      "text/plain": [
       "<matplotlib.image.AxesImage at 0x274dbae7680>"
      ]
     },
     "execution_count": 104,
     "metadata": {},
     "output_type": "execute_result"
    },
    {
     "data": {
      "image/png": "[encoded data removed]",
      "text/plain": [
       "<Figure size 640x480 with 1 Axes>"
      ]
     },
     "metadata": {},
     "output_type": "display_data"
    }
   ],
   "source": [
    "plt.imshow(X_test_scale[5000])"
   ]
  },
  {
   "cell_type": "code",
   "execution_count": 105,
   "id": "2ef68a00-7a36-42b6-b92f-20db667cc2e3",
   "metadata": {},
   "outputs": [
    {
     "data": {
      "text/plain": [
       "array([7], dtype=uint8)"
      ]
     },
     "execution_count": 105,
     "metadata": {},
     "output_type": "execute_result"
    }
   ],
   "source": [
    "y_test[5000]"
   ]
  },
  {
   "cell_type": "code",
   "execution_count": 107,
   "id": "8e58122c-5451-478e-b7f9-6c64e2bde1af",
   "metadata": {},
   "outputs": [
    {
     "data": {
      "text/plain": [
       "array([[[ 73,  78,  75],\n",
       "        [ 98, 103, 113],\n",
       "        [ 99, 106, 114],\n",
       "        ...,\n",
       "        [135, 150, 152],\n",
       "        [135, 149, 154],\n",
       "        [203, 215, 223]],\n",
       "\n",
       "       [[ 69,  73,  70],\n",
       "        [ 84,  89,  97],\n",
       "        [ 68,  75,  81],\n",
       "        ...,\n",
       "        [ 85,  95,  89],\n",
       "        [ 71,  82,  80],\n",
       "        [120, 133, 135]],\n",
       "\n",
       "       [[ 69,  73,  70],\n",
       "        [ 90,  95, 100],\n",
       "        [ 62,  71,  74],\n",
       "        ...,\n",
       "        [ 74,  81,  70],\n",
       "        [ 53,  62,  54],\n",
       "        [ 62,  74,  69]],\n",
       "\n",
       "       ...,\n",
       "\n",
       "       [[123, 128,  96],\n",
       "        [132, 132, 102],\n",
       "        [129, 128, 100],\n",
       "        ...,\n",
       "        [108, 107,  88],\n",
       "        [ 62,  60,  55],\n",
       "        [ 27,  27,  28]],\n",
       "\n",
       "       [[115, 121,  91],\n",
       "        [123, 124,  95],\n",
       "        [129, 126,  99],\n",
       "        ...,\n",
       "        [115, 116,  94],\n",
       "        [ 66,  65,  59],\n",
       "        [ 27,  27,  27]],\n",
       "\n",
       "       [[116, 120,  90],\n",
       "        [121, 122,  94],\n",
       "        [129, 128, 101],\n",
       "        ...,\n",
       "        [116, 115,  94],\n",
       "        [ 68,  65,  58],\n",
       "        [ 27,  26,  26]]], dtype=uint8)"
      ]
     },
     "execution_count": 107,
     "metadata": {},
     "output_type": "execute_result"
    }
   ],
   "source": [
    "X_test[9999]"
   ]
  },
  {
   "cell_type": "code",
   "execution_count": 108,
   "id": "bf1bca59-cc44-4db1-a911-95f5222efce2",
   "metadata": {},
   "outputs": [
    {
     "data": {
      "text/plain": [
       "<matplotlib.image.AxesImage at 0x274dbb399a0>"
      ]
     },
     "execution_count": 108,
     "metadata": {},
     "output_type": "execute_result"
    },
    {
     "data": {
      "image/png": "[encoded data removed]",
      "text/plain": [
       "<Figure size 640x480 with 1 Axes>"
      ]
     },
     "metadata": {},
     "output_type": "display_data"
    }
   ],
   "source": [
    "plt.imshow(X_test_scale[9999])"
   ]
  },
  {
   "cell_type": "code",
   "execution_count": 109,
   "id": "ca856d66-f640-4f87-bd31-cc67823b6f91",
   "metadata": {},
   "outputs": [
    {
     "data": {
      "text/plain": [
       "array([7], dtype=uint8)"
      ]
     },
     "execution_count": 109,
     "metadata": {},
     "output_type": "execute_result"
    }
   ],
   "source": [
    "y_test[9999]"
   ]
  },
  {
   "cell_type": "code",
   "execution_count": 110,
   "id": "fbf1a388-a9ef-40e6-9902-f0901a1bcbc3",
   "metadata": {},
   "outputs": [
    {
     "data": {
      "text/plain": [
       "'Horse'"
      ]
     },
     "execution_count": 110,
     "metadata": {},
     "output_type": "execute_result"
    }
   ],
   "source": [
    "image[7]"
   ]
  },
  {
   "cell_type": "code",
   "execution_count": null,
   "id": "1742a132-4e77-4d22-85ad-0b55833b2c8e",
   "metadata": {},
   "outputs": [],
   "source": []
  }
 ],
 "metadata": {
  "kernelspec": {
   "display_name": "Python 3 (ipykernel)",
   "language": "python",
   "name": "python3"
  },
  "language_info": {
   "codemirror_mode": {
    "name": "ipython",
    "version": 3
   },
   "file_extension": ".py",
   "mimetype": "text/x-python",
   "name": "python",
   "nbconvert_exporter": "python",
   "pygments_lexer": "ipython3",
   "version": "3.12.4"
  }
 },
 "nbformat": 4,
 "nbformat_minor": 5
}
